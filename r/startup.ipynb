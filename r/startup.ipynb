{
 "cells": [
  {
   "cell_type": "code",
   "execution_count": null,
   "id": "be4fc0b2-83c3-4a82-ac60-2ff2bf331cbb",
   "metadata": {},
   "outputs": [],
   "source": [
    "source(\"mysys.R\")\n",
    "source(\"tymer.R\")\n",
    "html(\"readme.html\")\n",
    "ls()\n",
    "#imbase(\"rbot/bagoftasks_R\")\n",
    "cat(\"https://73.34.192.221/quake/html5Video.mp4\")\n",
    "#imbase(\"stoma_R/stoma_R\")\n",
    "#imbase(\"Rstuff/Rstuff\")\n",
    "imbase(\"Rstuff/Rstuff\")\n",
    "z<-function(j) { \n",
    "    if (missing(j)) { \n",
    "        nextim() } \n",
    "    else {\n",
    "        nextim(j)\n",
    "    } \n",
    "}\n",
    "srun(\"-n 8 hostname\")\n",
    "sys(\"srun -n 8 hostname\")\n",
    "srun(\"-n 8 ./bcast.R > out.dat\")\n",
    "sys(\"cat out.dat\")\n",
    "x<-sys_vec(\"cat out.dat\")\n",
    "for (i in 1:length(x)) { print(x[i])}\n",
    "\n",
    "\n",
    "srun('-n 4 R -q --no-save -e \"\"\"\n",
    "library(\\'Rmpi\\')\n",
    "myid <- mpi.comm.rank(comm=0)\n",
    "sprintf(\\'myid= %d on %s\\',myid,mpi.get.processor.name())\n",
    "mpi.finalize()\"\"\"\n",
    "')"
   ]
  }
 ],
 "metadata": {
  "kernelspec": {
   "display_name": "R",
   "language": "R",
   "name": "r"
  },
  "language_info": {
   "codemirror_mode": "r",
   "file_extension": ".r",
   "mimetype": "text/x-r-source",
   "name": "R",
   "pygments_lexer": "r",
   "version": "4.0.2"
  }
 },
 "nbformat": 4,
 "nbformat_minor": 5
}
