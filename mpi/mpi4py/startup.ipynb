{
 "cells": [
  {
   "cell_type": "code",
   "execution_count": null,
   "id": "c475d2ed-2bdb-46d4-b4a1-134df7b0c6f2",
   "metadata": {},
   "outputs": [],
   "source": [
    "%load_ext slurm_magic"
   ]
  },
  {
   "cell_type": "code",
   "execution_count": null,
   "id": "3d937c9a-1e21-406f-8413-0d88c8b1db91",
   "metadata": {},
   "outputs": [],
   "source": [
    "from slideshow import mysay\n",
    "from tymer import tymer\n",
    "from tymer import clist\n",
    "from tymer import sprint"
   ]
  },
  {
   "cell_type": "code",
   "execution_count": null,
   "id": "a0bf2de2-f2a8-4765-89d8-bc30184f251c",
   "metadata": {},
   "outputs": [],
   "source": [
    "mpi4py=mysay(datadir=\"mpi01_py\")"
   ]
  },
  {
   "cell_type": "code",
   "execution_count": null,
   "id": "2ec6e8e8-b42a-4edf-a9e6-f3fc2d09a963",
   "metadata": {},
   "outputs": [],
   "source": [
    "mpi4py.nx()"
   ]
  },
  {
   "cell_type": "code",
   "execution_count": null,
   "id": "f56c5ede-4a86-4969-a397-ee79772a34ac",
   "metadata": {},
   "outputs": [],
   "source": [
    "%macro n 4"
   ]
  },
  {
   "cell_type": "code",
   "execution_count": null,
   "id": "2c84ac05-41dd-40b3-87a3-504247efea1b",
   "metadata": {},
   "outputs": [],
   "source": [
    "cd ../.."
   ]
  },
  {
   "cell_type": "code",
   "execution_count": null,
   "id": "98b28737-b2f2-4147-ad84-11dd7a9dd409",
   "metadata": {},
   "outputs": [],
   "source": [
    "srun -n 8 hostname"
   ]
  },
  {
   "cell_type": "code",
   "execution_count": null,
   "id": "5f447354-1d62-4da4-8d0f-c59eb18b6b6a",
   "metadata": {},
   "outputs": [],
   "source": [
    "!srun -n 8 hostname"
   ]
  },
  {
   "cell_type": "code",
   "execution_count": null,
   "id": "ab96e62c-0bab-4c5f-b386-611d21598b99",
   "metadata": {},
   "outputs": [],
   "source": [
    "tymer([\"-i\",\"start\"])"
   ]
  },
  {
   "cell_type": "code",
   "execution_count": null,
   "id": "a6c98a60-f3ab-42b8-b014-e2d77f03091a",
   "metadata": {},
   "outputs": [],
   "source": [
    "%%capture out\n",
    "srun -n 8 ./report.py"
   ]
  },
  {
   "cell_type": "code",
   "execution_count": null,
   "id": "580db461-ccfd-4f9a-b12f-5705c57a02c0",
   "metadata": {},
   "outputs": [],
   "source": [
    "tymer([\"-i\",\"done\"])"
   ]
  },
  {
   "cell_type": "code",
   "execution_count": null,
   "id": "a935a7cc-662b-449f-a9d6-d9af6e587189",
   "metadata": {},
   "outputs": [],
   "source": [
    "for x in clist(out) :\n",
    "    print(x)"
   ]
  },
  {
   "cell_type": "code",
   "execution_count": null,
   "id": "c5e7a967-05a3-47ca-a652-30b309d0fc23",
   "metadata": {},
   "outputs": [],
   "source": [
    "mpi4py.nx(0)"
   ]
  },
  {
   "cell_type": "code",
   "execution_count": null,
   "id": "eaec1b48-3c94-45ba-be9f-7b87154532be",
   "metadata": {},
   "outputs": [],
   "source": [
    "n"
   ]
  }
 ],
 "metadata": {
  "kernelspec": {
   "display_name": "Python 3",
   "language": "python",
   "name": "python3"
  },
  "language_info": {
   "codemirror_mode": {
    "name": "ipython",
    "version": 3
   },
   "file_extension": ".py",
   "mimetype": "text/x-python",
   "name": "python",
   "nbconvert_exporter": "python",
   "pygments_lexer": "ipython3",
   "version": "3.9.4"
  }
 },
 "nbformat": 4,
 "nbformat_minor": 5
}
