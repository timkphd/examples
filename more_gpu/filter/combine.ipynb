{
 "cells": [
  {
   "cell_type": "code",
   "execution_count": null,
   "id": "d9240c51-294e-462d-9126-2ad868b9b6aa",
   "metadata": {},
   "outputs": [],
   "source": [
    "width=10\n",
    "AR=\"auto\"\n",
    "#AR=None\n",
    "import io\n",
    "def print_to_string(*args, **kwargs):\n",
    "    output = io.StringIO()\n",
    "    print(*args, file=output, **kwargs)\n",
    "    contents = output.getvalue()\n",
    "    output.close()\n",
    "    return contents\n"
   ]
  },
  {
   "cell_type": "code",
   "execution_count": null,
   "id": "528b102b-3e12-4ee9-8a79-f9a616f0c7f3",
   "metadata": {},
   "outputs": [],
   "source": [
    "import matplotlib.pyplot as plt\n",
    "import numpy as np\n",
    "def writeit(img,name):\n",
    "    spec=len(img)\n",
    "    spac=len(img[0])\n",
    "    file= open(name,\"w\")\n",
    "    for l in range(0,spec):\n",
    "        for s in range(0,spac):\n",
    "            file.write(str(img[l,s])+\"\\n\")\n",
    "    file.close"
   ]
  },
  {
   "cell_type": "code",
   "execution_count": null,
   "id": "5f5255c9-93b0-4b4d-87df-c945e6cee461",
   "metadata": {},
   "outputs": [],
   "source": [
    "def treduce(myorg, oldspec, oldspac, specfac, spacfac, awidth):\n",
    "    newspec = (oldspec // specfac)\n",
    "    if ((newspec * specfac) < oldspec): newspec = newspec + 1\n",
    "    newspac = (oldspac // spacfac)\n",
    "    if ((newspac * spacfac) < oldspac): newspac = newspac + 1\n",
    "    newsize = newspec * newspac\n",
    "    c = np.zeros(newsize, dtype=int)\n",
    "    for nindex in range(0, newsize):\n",
    "        newrow = nindex // newspec\n",
    "        newcol = nindex - newrow * newspec\n",
    "        oldcol = newcol * specfac\n",
    "        oldrow = newrow * spacfac\n",
    "        oindex = oldrow * oldspec + oldcol\n",
    "        # needs to be float to prevent overflow\n",
    "        mysum = 0.0\n",
    "        count = 0\n",
    "        for s in range(-awidth, awidth + 1):\n",
    "            i = oindex + s * oldspec\n",
    "            if ((i > -1) and (s + oldrow) < oldspac):\n",
    "                mysum = mysum + myorg[i]\n",
    "                count = count + 1\n",
    "        c[nindex] = int(mysum / count + 0.5)\n",
    "    return (c)"
   ]
  },
  {
   "cell_type": "code",
   "execution_count": null,
   "id": "3fb16ba9-c5fc-47dd-93a6-df98d2a2a334",
   "metadata": {},
   "outputs": [],
   "source": [
    "def myreduce(myorg, oldspec, oldspac, specfac, spacfac, awidth):\n",
    "    newspec = (oldspec // specfac)\n",
    "    if ((newspec * specfac) < oldspec): newspec = newspec + 1\n",
    "    newspac = (oldspac // spacfac)\n",
    "    if ((newspac * spacfac) < oldspac): newspac = newspac + 1\n",
    "    newsize = newspec * newspac\n",
    "    c = np.zeros(newsize, dtype=int)\n",
    "    for nindex in range(0, newsize):\n",
    "        vnew = nindex // newspac\n",
    "        hnew = nindex - vnew * newspac\n",
    "        v = vnew * specfac\n",
    "        h = hnew * spacfac\n",
    "        oindex = v * oldspac + h\n",
    "        #needs to be float to prevent overflow\n",
    "        mysum = 0.0\n",
    "        count = 0\n",
    "        for s in range(-awidth, awidth + 1):\n",
    "            i = h + s\n",
    "            if ((i > -1) and (i < oldspac)):\n",
    "                mysum = mysum + myorg[oindex + s]\n",
    "                count = count + 1\n",
    "        c[nindex] = int(mysum / count + 0.5)\n",
    "    return (c)\n"
   ]
  },
  {
   "cell_type": "code",
   "execution_count": null,
   "id": "f0357126-2ce4-4f53-87f1-0eb94c426a98",
   "metadata": {},
   "outputs": [],
   "source": [
    "!ls -lt transpose original"
   ]
  },
  {
   "cell_type": "code",
   "execution_count": null,
   "id": "3b2cd15a-422e-414b-a305-79927be8441c",
   "metadata": {},
   "outputs": [],
   "source": [
    "oldspec=1600\n",
    "oldspac=102\n",
    "thesize=oldspec*oldspac\n",
    "original=np.empty(thesize,dtype=int)\n",
    "transpose=np.empty(thesize,dtype=int)"
   ]
  },
  {
   "cell_type": "code",
   "execution_count": null,
   "id": "f690a5a2-ecac-4642-959c-f1f038156e98",
   "metadata": {},
   "outputs": [],
   "source": [
    "infile=open(\"original\",\"r\")\n",
    "for i in range(0,thesize) :\n",
    "    original[i]=int(infile.readline())\n",
    "infile.close()"
   ]
  },
  {
   "cell_type": "code",
   "execution_count": null,
   "id": "fccf2f49-a8d4-4fe3-a7a0-1240a93d8df3",
   "metadata": {},
   "outputs": [],
   "source": [
    "infile=open(\"transpose\",\"r\")\n",
    "for i in range(0,thesize) :\n",
    "    transpose[i]=int(infile.readline())\n",
    "infile.close()"
   ]
  },
  {
   "cell_type": "code",
   "execution_count": null,
   "id": "f2827657-85f3-454c-a40a-2541910b1aa0",
   "metadata": {},
   "outputs": [],
   "source": [
    "org=original.reshape(1600,102)\n",
    "plt.imshow(org,aspect=AR)\n",
    "plt.show()\n"
   ]
  },
  {
   "cell_type": "code",
   "execution_count": null,
   "id": "50a45970-4095-4a01-8cf8-3b238efc641f",
   "metadata": {},
   "outputs": [],
   "source": [
    "tra=transpose.reshape(102,1600)\n",
    "plt.imshow(tra,aspect=AR)\n",
    "plt.show()"
   ]
  },
  {
   "cell_type": "code",
   "execution_count": null,
   "id": "da71e47f-f6a0-4ece-ae73-badf682d8406",
   "metadata": {},
   "outputs": [],
   "source": [
    "oldspec=1600\n",
    "oldspac=102\n",
    "specfac=1\n",
    "spacfac=2\n",
    "width=10"
   ]
  },
  {
   "cell_type": "code",
   "execution_count": null,
   "id": "fe223ae3-b444-43ae-8e7d-299716bb77fd",
   "metadata": {},
   "outputs": [],
   "source": [
    "s_org=myreduce(original , oldspec, oldspac, specfac, spacfac, width)\n"
   ]
  },
  {
   "cell_type": "code",
   "execution_count": null,
   "id": "abb6ed42-fe4f-4df4-8645-2bfde90280b3",
   "metadata": {},
   "outputs": [],
   "source": [
    "s_org=s_org.reshape(1600,51)\n",
    "plt.imshow(s_org,aspect=AR)\n",
    "plt.show()"
   ]
  },
  {
   "cell_type": "code",
   "execution_count": null,
   "id": "0befad91-8366-48db-b5a1-04c96a5c01b5",
   "metadata": {},
   "outputs": [],
   "source": [
    "s_tran=treduce(transpose , oldspec, oldspac, specfac, spacfac, width)\n"
   ]
  },
  {
   "cell_type": "code",
   "execution_count": null,
   "id": "53addaa8-398b-4931-8478-a54cf2e8ca53",
   "metadata": {},
   "outputs": [],
   "source": [
    "s_tran=s_tran.reshape(51,1600)\n",
    "plt.imshow(s_tran,aspect=AR)\n",
    "plt.show()"
   ]
  },
  {
   "cell_type": "code",
   "execution_count": null,
   "id": "ce6321c1-a17d-467f-a671-ac85c5019a49",
   "metadata": {},
   "outputs": [],
   "source": [
    "oldspec=1600\n",
    "oldspac=102\n",
    "specfac=1\n",
    "spacfac=10\n",
    "width=10"
   ]
  },
  {
   "cell_type": "code",
   "execution_count": null,
   "id": "153f71c6-2970-4a0d-b52b-88ed31f3fd7a",
   "metadata": {},
   "outputs": [],
   "source": [
    "s_org10=myreduce(original , oldspec, oldspac, specfac, spacfac, width)\n",
    "s_tra10=treduce(transpose , oldspec, oldspac, specfac, spacfac, width)\n"
   ]
  },
  {
   "cell_type": "code",
   "execution_count": null,
   "id": "eb9c22e1-01c8-4131-8530-dd1c9ccaf553",
   "metadata": {},
   "outputs": [],
   "source": [
    "nw=len(s_org10)//1600"
   ]
  },
  {
   "cell_type": "code",
   "execution_count": null,
   "id": "35ecec6f-dbca-47ea-a655-17dbcbfa2e36",
   "metadata": {},
   "outputs": [],
   "source": [
    "s_tran10b=s_tra10.reshape(nw,1600)\n",
    "plt.imshow(s_tran10b,aspect=AR)\n",
    "plt.show()"
   ]
  },
  {
   "cell_type": "code",
   "execution_count": null,
   "id": "6bf3eace-c939-40cf-b36f-0f4cb3d7221d",
   "metadata": {},
   "outputs": [],
   "source": [
    "s_org10b=s_org10.reshape(1600,nw)\n",
    "plt.imshow(s_org10b,aspect=AR)\n",
    "plt.show()"
   ]
  },
  {
   "cell_type": "code",
   "execution_count": null,
   "id": "d0c511f7-d1a4-4554-bf03-e2ee194bfa0e",
   "metadata": {},
   "outputs": [],
   "source": [
    "!which apptainer"
   ]
  },
  {
   "cell_type": "code",
   "execution_count": null,
   "id": "96a18e4d-cf5b-4032-b465-60823a9eb0c4",
   "metadata": {},
   "outputs": [],
   "source": [
    "!apptainer run --nv comp.sif"
   ]
  },
  {
   "cell_type": "code",
   "execution_count": null,
   "id": "ca1bdd3a-94c1-4e36-9304-f0be4f193ea1",
   "metadata": {},
   "outputs": [],
   "source": [
    "!ls -lt | head"
   ]
  },
  {
   "cell_type": "code",
   "execution_count": null,
   "id": "4c45bcb0-be96-4af7-9641-796bd5723022",
   "metadata": {},
   "outputs": [],
   "source": [
    "!diff new_gpu new_sharp"
   ]
  },
  {
   "cell_type": "code",
   "execution_count": null,
   "id": "bf2310e5-d80b-4536-9603-747f32af4c0d",
   "metadata": {},
   "outputs": [],
   "source": [
    "!diff new_gpu_transpose new_sharp_trans"
   ]
  },
  {
   "cell_type": "code",
   "execution_count": null,
   "id": "cdf06038-2c1b-4be6-86a0-a36aad2dfd92",
   "metadata": {},
   "outputs": [],
   "source": [
    "nsize=17600\n",
    "infile=open(\"new_gpu\",\"r\")\n",
    "new_gpu=np.empty(nsize,dtype=int)\n",
    "for i in range(nsize) :\n",
    "    new_gpu[i]=int(infile.readline())\n",
    "infile.close()"
   ]
  },
  {
   "cell_type": "code",
   "execution_count": null,
   "id": "ee8ec3da-4d4b-4434-b9d1-d6a414849c59",
   "metadata": {},
   "outputs": [],
   "source": [
    "nsize=17600\n",
    "infile=open(\"new_gpu_transpose\",\"r\")\n",
    "new_gpu_transpose=np.empty(nsize,dtype=int)\n",
    "for i in range(nsize) :\n",
    "    new_gpu_transpose[i]=int(infile.readline())\n",
    "infile.close()"
   ]
  },
  {
   "cell_type": "code",
   "execution_count": null,
   "id": "f2a77952-a3c8-4c7b-89bb-dd1fbf8b3baf",
   "metadata": {},
   "outputs": [],
   "source": [
    "sum(abs(new_gpu-s_org10))"
   ]
  },
  {
   "cell_type": "code",
   "execution_count": null,
   "id": "674b1abc-376c-4aec-9948-2c1b9b81b552",
   "metadata": {},
   "outputs": [],
   "source": [
    "sum(abs(new_gpu_transpose-s_tra10))"
   ]
  },
  {
   "cell_type": "code",
   "execution_count": null,
   "id": "6059ca26-dd43-48f2-9b92-38a2924747a5",
   "metadata": {},
   "outputs": [],
   "source": [
    "new_gpu_transpose"
   ]
  },
  {
   "cell_type": "code",
   "execution_count": null,
   "id": "b899fc3d-366d-4ed0-a36e-553897dadcb9",
   "metadata": {},
   "outputs": [],
   "source": [
    "s_tran10b"
   ]
  },
  {
   "cell_type": "code",
   "execution_count": null,
   "id": "25a1eaf1-f30c-4645-9447-982250b67e33",
   "metadata": {},
   "outputs": [],
   "source": [
    "check=s_tran10b.transpose()"
   ]
  },
  {
   "cell_type": "code",
   "execution_count": null,
   "id": "4384f432-b38f-40cb-ae11-e88b372b33c8",
   "metadata": {},
   "outputs": [],
   "source": [
    "s_org10b"
   ]
  },
  {
   "cell_type": "code",
   "execution_count": null,
   "id": "3c411bf0-d1c5-405e-b635-bf4d43bb51b5",
   "metadata": {},
   "outputs": [],
   "source": [
    "sum(sum(abs(check-s_org10b)))"
   ]
  },
  {
   "cell_type": "code",
   "execution_count": null,
   "id": "22996a79-f2cf-4b6a-9c74-d36ea134f44f",
   "metadata": {},
   "outputs": [],
   "source": []
  }
 ],
 "metadata": {
  "kernelspec": {
   "display_name": "Python 3 (ipykernel)",
   "language": "python",
   "name": "python3"
  },
  "language_info": {
   "codemirror_mode": {
    "name": "ipython",
    "version": 3
   },
   "file_extension": ".py",
   "mimetype": "text/x-python",
   "name": "python",
   "nbconvert_exporter": "python",
   "pygments_lexer": "ipython3",
   "version": "3.11.4"
  }
 },
 "nbformat": 4,
 "nbformat_minor": 5
}
