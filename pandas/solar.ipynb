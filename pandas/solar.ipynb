{
 "cells": [
  {
   "cell_type": "code",
   "execution_count": null,
   "id": "6e9a591d-e7ce-4711-a2a9-22b9a7b71574",
   "metadata": {},
   "outputs": [],
   "source": [
    "import time\n",
    "start_time=time.monotonic_ns()\n",
    "import pandas as pd\n",
    "from datetime import date, datetime, timezone, timedelta\n",
    "import pytz\n",
    "from suntime import Sun, SunTimeException\n",
    "from suntimes import SunTimes\n",
    "import sunriset\n",
    "import astral, astral.sun\n",
    "def toloc(instr):\n",
    "    instr=str(instr)\n",
    "    instr=instr.split(\" \")\n",
    "    d=instr[2]\n",
    "    print(d)\n",
    "    d=d.split(\":\")\n",
    "    h=int(d[0])+delta\n",
    "    h=(\"%2.2d\" % (h))\n",
    "    return(h+\":\"+d[1]+\":\"+d[2])\n",
    "def hms(x):\n",
    "    h=int(x)\n",
    "    s=(x-h)*3600\n",
    "    m=int(s/60.0)\n",
    "    s=s-m*60\n",
    "    return(\"%2d:%2.2d:%2.2d\" % (h,m,s))\n",
    "def pdappend(df,line):   \n",
    "    a_series = pd.Series(line, index = df.columns)   \n",
    "    return df.append(a_series, ignore_index=True)   \n",
    "import os\n",
    "\n",
    "import sys\n",
    "import os # if you want this directory\n",
    "\n",
    "try:\n",
    "    sys.path.index(\"/home/tkaiser2/bin\") # Or os.getcwd() for this directory\n",
    "except ValueError:\n",
    "    sys.path.append(\"/home/tkaiser2/bin\") # Or os.getcwd() for this directory\n",
    "    pp=\"/home/tkaiser2/bin\"  \n",
    "\n",
    "sys.path.append(\"/Users/tkaiser2/bin\")\n",
    "from myutils import tymer\n",
    "from myutils import pdaddrow\n",
    "\n"
   ]
  },
  {
   "cell_type": "code",
   "execution_count": null,
   "id": "4bfb328d-9ae5-4f0b-821a-7a848bf3ac07",
   "metadata": {},
   "outputs": [],
   "source": [
    "latitude = 39.760696\n",
    "longitude = -105.117518\n",
    "altitude = 5489\n",
    "altitude=0\n",
    "tz_poland = pytz.timezone('MST')\n",
    "tz_name = 'MST'\n",
    "for_date = date(2023,1,1)\n",
    "print('====== suntime ======')\n",
    "abd = for_date\n",
    "sun = Sun(latitude, longitude)\n",
    "today_sr = sun.get_sunrise_time()\n",
    "today_ss = sun.get_sunset_time()\n",
    "print(today_sr.astimezone(tz_poland))\n",
    "print(today_ss.astimezone(tz_poland))\n",
    "print('====== suntimes ======')\n",
    "sun2 = SunTimes(longitude=longitude, latitude=latitude, altitude=altitude)\n",
    "day = datetime(for_date.year, for_date.month, for_date.day)\n",
    "print(sun2.risewhere(day, tz_name))\n",
    "print(sun2.setwhere(day, tz_name))\n",
    "print('====== sunriset ======')\n",
    "local = datetime.now()\n",
    "utc = datetime.utcnow()\n",
    "local_tz = float(((local - utc).days * 86400 + round((local - utc).seconds, -1))/3600)\n",
    "number_of_years = 1\n",
    "start_date = for_date\n",
    "df = sunriset.to_pandas(start_date, latitude, longitude, 2, number_of_years)\n",
    "df = sunriset.to_pandas(start_date, latitude, longitude, -7, number_of_years)\n",
    "for index, row in df.iterrows():\n",
    "    up=row['Sunrise']\n",
    "    down=row['Sunset']\n",
    "    print(index,up)\n",
    "    print(index,down)\n",
    "    break\n",
    "print('====== astral ======')\n",
    "l = astral.LocationInfo('Custom Name', 'My Region', tz_name, latitude, longitude)\n",
    "s = astral.sun.sun(l.observer, date=for_date)\n",
    "print(s['sunrise'].astimezone(tz_poland))\n",
    "print(s['sunset'].astimezone(tz_poland))"
   ]
  },
  {
   "cell_type": "code",
   "execution_count": null,
   "id": "99131cf1-89ad-4249-b16f-5f205920cc1f",
   "metadata": {},
   "outputs": [],
   "source": [
    "df"
   ]
  },
  {
   "cell_type": "code",
   "execution_count": null,
   "id": "24c2e183-c6d2-4ef7-9cab-b029e980519b",
   "metadata": {},
   "outputs": [],
   "source": [
    "x=time.monotonic_ns()\n",
    "y=time.monotonic_ns()\n",
    "y-x\n",
    "z=time.monotonic_ns()-time.monotonic_ns()\n",
    "print(y-x,abs(z))"
   ]
  },
  {
   "cell_type": "code",
   "execution_count": null,
   "id": "cae6ae7a-a26c-42db-8999-b442d71adeb2",
   "metadata": {},
   "outputs": [],
   "source": [
    "df['Sunrise']"
   ]
  },
  {
   "cell_type": "code",
   "execution_count": null,
   "id": "3a87b6ee-e05c-4121-a965-8fca536eec0d",
   "metadata": {},
   "outputs": [],
   "source": [
    "def mkhr(intime):\n",
    "    intime=str(intime)\n",
    "    #0 days 14:10:03.685452\n",
    "    intime=intime.split(\" \")\n",
    "    days=int(intime[0])\n",
    "    hms=intime[2]\n",
    "    hms=hms.split(\":\")\n",
    "    hms=float(hms[0])+float(hms[1])/60.0+float(hms[2])/3600.0\n",
    "    return(hms)\n",
    "def mintohr(intime):\n",
    "    intime=intime/60.0\n",
    "    return(intime)"
   ]
  },
  {
   "cell_type": "code",
   "execution_count": null,
   "id": "8680b283-0fe4-4ee9-bc36-5fcd6254c607",
   "metadata": {},
   "outputs": [],
   "source": [
    "df['Down']=df.apply(lambda row: mkhr(row['Sunset']),axis=1)   \n",
    "df['Up']=df.apply(lambda row: mkhr(row['Sunrise']),axis=1)   \n",
    "df['light']=df.apply(lambda row: mintohr(row['Sunlight Durration (minutes)']),axis=1)   \n",
    "\n",
    "\n"
   ]
  },
  {
   "cell_type": "code",
   "execution_count": null,
   "id": "b5715e6f-b840-4c69-8d3a-f2583d2afcbd",
   "metadata": {},
   "outputs": [],
   "source": [
    "p=df.plot(y=['Up','Down','light'],title=\"Solar Information for 2023\",xlabel=\"Date\",ylabel=\"Time/HR\",figsize=[11*.75,8.5*.75])\n",
    "p\n",
    "fig=p.get_figure()\n",
    "fig.savefig('test.pdf')"
   ]
  },
  {
   "cell_type": "code",
   "execution_count": null,
   "id": "f38c7b0d-d556-4e34-9e05-12ad996440a0",
   "metadata": {},
   "outputs": [],
   "source": [
    "header=[\"Event\",\"Date\",\"Time\"]\n",
    "tab=pd.DataFrame(columns=header)\n",
    "\n",
    "d=df.loc[df['Up'].max()==df['Up']].index[0]        ;t=hms(df['Up'].max())    ;e=\"Latest Rise\"    ; print(e,d,t) ; tab=pdaddrow(tab,[e,d,t])\n",
    "d=df.loc[df['Down'].min()==df['Down']].index[0]    ;t=hms(df['Down'].min())  ;e=\"Earliset Set\"   ; print(e,d,t) ; tab=pdaddrow(tab,[e,d,t])\n",
    "d=df.loc[df['light'].min()==df['light']].index[0]  ;t=hms(df['light'].min()) ;e=\"Least Light\"    ; print(e,d,t) ; tab=pdaddrow(tab,[e,d,t])\n",
    "\n",
    "d=df.loc[df['Up'].min()==df['Up']].index[0]        ;t=hms(df['Up'].min())    ;e=\"Earliset Rise\"  ; print(e,d,t) ; tab=pdaddrow(tab,[e,d,t])\n",
    "d=df.loc[df['Down'].max()==df['Down']].index[0]    ;t=hms(df['Down'].max())  ;e=\"Latest Set\"     ; print(e,d,t) ; tab=pdaddrow(tab,[e,d,t])\n",
    "d=df.loc[df['light'].max()==df['light']].index[0]  ;t=hms(df['light'].max()) ;e=\"Most Light\"     ; print(d,t,e) ; tab=pdaddrow(tab,[e,d,t])\n",
    "#tab.to_html(\"tab.html\",index=False)\n",
    "tab"
   ]
  },
  {
   "cell_type": "code",
   "execution_count": null,
   "id": "96313ac8-3c26-4845-a68e-e01a2c962a60",
   "metadata": {},
   "outputs": [],
   "source": [
    "tab_buf=tab.to_html(index=False)\n",
    "#tab_buf=tymer.docss(tab_buf)\n",
    "tab_buf\n",
    "ofile=open(\"tab.html\",\"w\")\n",
    "ofile.write(tab_buf)\n",
    "ofile.close()"
   ]
  },
  {
   "cell_type": "code",
   "execution_count": null,
   "id": "7f4ebefe-3ac8-4985-af48-e4208cfb0c6a",
   "metadata": {},
   "outputs": [],
   "source": [
    "#import pandas as pd\n",
    "#pd.set_option(\"display.max_rows\", None, \"display.max_columns\", None)"
   ]
  },
  {
   "cell_type": "code",
   "execution_count": null,
   "id": "1940c372-c043-4d79-9333-64b47112902f",
   "metadata": {},
   "outputs": [],
   "source": [
    "sol_buf=df.to_html(index=False)\n",
    "#sol_buf=tymer.docss(sol_buf,color=\"blue\")\n",
    "ofile=open(\"solar.html\",\"w\")\n",
    "ofile.write(sol_buf)\n",
    "ofile.close()"
   ]
  },
  {
   "cell_type": "code",
   "execution_count": null,
   "id": "abf7835a-fa29-4247-8eab-b99b09cf8117",
   "metadata": {},
   "outputs": [],
   "source": [
    "sub=df[['light','Up','Down']]\n",
    "bonk=sub.apply(lambda row: hms(row['Up']),axis=1)\n",
    "sub['Sunrise']=bonk.tolist().copy()\n",
    "sub['Sunset']=sub.apply(lambda row: hms(row['Down']),axis=1)   \n",
    "sub=sub.drop(['Up','Down'],axis=1)\n"
   ]
  },
  {
   "cell_type": "code",
   "execution_count": null,
   "id": "e45f92ab",
   "metadata": {},
   "outputs": [],
   "source": []
  },
  {
   "cell_type": "code",
   "execution_count": null,
   "id": "2ffda0c8-d82e-4e30-9939-a4f7fa19dced",
   "metadata": {},
   "outputs": [],
   "source": [
    "sub"
   ]
  },
  {
   "cell_type": "code",
   "execution_count": null,
   "id": "5d5310f5-f9ed-4c5e-9ed0-4b764b2f97c8",
   "metadata": {},
   "outputs": [],
   "source": [
    "hms"
   ]
  },
  {
   "cell_type": "code",
   "execution_count": null,
   "id": "9da91e70-c1eb-4a53-b750-a45c2d1d96cf",
   "metadata": {},
   "outputs": [],
   "source": [
    "end_time=time.monotonic_ns()\n",
    "dt=(end_time-start_time)/1e9\n",
    "print(\"run time = \",dt)"
   ]
  },
  {
   "cell_type": "code",
   "execution_count": null,
   "id": "03ab0faa",
   "metadata": {},
   "outputs": [],
   "source": []
  },
  {
   "cell_type": "code",
   "execution_count": null,
   "id": "8da0b0d5",
   "metadata": {},
   "outputs": [],
   "source": []
  }
 ],
 "metadata": {
  "kernelspec": {
   "display_name": "Python 3 (ipykernel)",
   "language": "python",
   "name": "python3"
  },
  "language_info": {
   "codemirror_mode": {
    "name": "ipython",
    "version": 3
   },
   "file_extension": ".py",
   "mimetype": "text/x-python",
   "name": "python",
   "nbconvert_exporter": "python",
   "pygments_lexer": "ipython3",
   "version": "3.11.0"
  }
 },
 "nbformat": 4,
 "nbformat_minor": 5
}
