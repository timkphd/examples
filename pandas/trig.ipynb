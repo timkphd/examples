{
 "cells": [
  {
   "cell_type": "code",
   "execution_count": null,
   "id": "5148c7a3",
   "metadata": {},
   "outputs": [],
   "source": [
    "import pandas as pd\n",
    "from numpy import empty, pi as PI, sin as SIN, cos as COS"
   ]
  },
  {
   "cell_type": "code",
   "execution_count": null,
   "id": "a27f1b76",
   "metadata": {},
   "outputs": [],
   "source": [
    "ang=empty([101])\n",
    "for i in range(0,101):\n",
    "    ang[i]=i*2*PI/100\n",
    "sin=SIN(ang)\n",
    "cos=COS(ang)"
   ]
  },
  {
   "cell_type": "code",
   "execution_count": null,
   "id": "cedfa07d",
   "metadata": {},
   "outputs": [],
   "source": [
    "data=pd.DataFrame(columns=[\"ang\",\"sin\",\"cos\"])\n",
    "# Populate our dataframe\n",
    "# convert to degrees on the fly\n",
    "data['ang']=ang*180.0/PI\n",
    "data['sin']=sin\n",
    "data['cos']=cos"
   ]
  },
  {
   "cell_type": "code",
   "execution_count": null,
   "id": "a781dc8a",
   "metadata": {
    "scrolled": true
   },
   "outputs": [],
   "source": [
    "p=data.plot(x='ang',y=['sin','cos'],title=\"Simple Plot\",xlabel=\"Degrees\",ylabel=\"Value\")\n",
    "fig=p.get_figure()\n"
   ]
  },
  {
   "cell_type": "code",
   "execution_count": null,
   "id": "3d8a91dd",
   "metadata": {},
   "outputs": [],
   "source": []
  }
 ],
 "metadata": {
  "kernelspec": {
   "display_name": "Python 3 (ipykernel)",
   "language": "python",
   "name": "python3"
  },
  "language_info": {
   "codemirror_mode": {
    "name": "ipython",
    "version": 3
   },
   "file_extension": ".py",
   "mimetype": "text/x-python",
   "name": "python",
   "nbconvert_exporter": "python",
   "pygments_lexer": "ipython3",
   "version": "3.11.0"
  }
 },
 "nbformat": 4,
 "nbformat_minor": 5
}
