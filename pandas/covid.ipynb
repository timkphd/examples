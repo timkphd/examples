{
 "cells": [
  {
   "cell_type": "code",
   "execution_count": 8,
   "metadata": {},
   "outputs": [
    {
     "name": "stdout",
     "output_type": "stream",
     "text": [
      "hexagon.local\n"
     ]
    }
   ],
   "source": [
    "from socket import gethostname\n",
    "print(gethostname())\n",
    "\n"
   ]
  },
  {
   "cell_type": "code",
   "execution_count": 9,
   "metadata": {},
   "outputs": [
    {
     "data": {
      "text/plain": [
       "[' 9 5\\n',\n",
       " '10 6\\n',\n",
       " '11 19\\n',\n",
       " '12 10\\n',\n",
       " '13 28\\n',\n",
       " '14 32\\n',\n",
       " '15 34\\n',\n",
       " '16 37\\n',\n",
       " '17 29\\n',\n",
       " '18 67\\n',\n",
       " '19 86\\n',\n",
       " '20 114\\n',\n",
       " '21 115\\n',\n",
       " '22 126\\n',\n",
       " '23 190\\n',\n",
       " '24 175\\n',\n",
       " '25 330\\n',\n",
       " '26 296\\n',\n",
       " '27 327\\n',\n",
       " '28 242\\n',\n",
       " '29 333\\n',\n",
       " '30 328\\n',\n",
       " '31 385\\n',\n",
       " '32 400\\n',\n",
       " '33 449\\n',\n",
       " '34 393\\n',\n",
       " '35 385\\n',\n",
       " '36 221\\n',\n",
       " '37 259\\n',\n",
       " '38 232\\n',\n",
       " '39 544\\n',\n",
       " '40 305\\n',\n",
       " '41 392\\n',\n",
       " '42 410\\n',\n",
       " '43 376\\n',\n",
       " '44 241\\n',\n",
       " '45 278\\n',\n",
       " '46 353\\n',\n",
       " '47 326\\n',\n",
       " '48 367\\n',\n",
       " '49 263\\n',\n",
       " '50 324\\n',\n",
       " '51 295\\n',\n",
       " '52 424\\n',\n",
       " '53 384\\n',\n",
       " '54 599']"
      ]
     },
     "execution_count": 9,
     "metadata": {},
     "output_type": "execute_result"
    }
   ],
   "source": [
    "#starts on March 9\n",
    "x=open(\"pand\",\"r\")\n",
    "dat=x.readlines()\n",
    "dat\n"
   ]
  },
  {
   "cell_type": "code",
   "execution_count": 10,
   "metadata": {},
   "outputs": [],
   "source": [
    "import numpy as np\n",
    "x=np.zeros(len(dat))\n",
    "y=np.zeros(len(dat))\n",
    "k=0\n",
    "for d in dat:\n",
    "    d=d.split()\n",
    "    x[k]=(float(d[0]))\n",
    "    y[k]=(float(d[1]))\n",
    "    k=k+1\n",
    "    "
   ]
  },
  {
   "cell_type": "code",
   "execution_count": 11,
   "metadata": {},
   "outputs": [
    {
     "data": {
      "text/plain": [
       "array([  5.,   6.,  19.,  10.,  28.,  32.,  34.,  37.,  29.,  67.,  86.,\n",
       "       114., 115., 126., 190., 175., 330., 296., 327., 242., 333., 328.,\n",
       "       385., 400., 449., 393., 385., 221., 259., 232., 544., 305., 392.,\n",
       "       410., 376., 241., 278., 353., 326., 367., 263., 324., 295., 424.,\n",
       "       384., 599.])"
      ]
     },
     "execution_count": 11,
     "metadata": {},
     "output_type": "execute_result"
    }
   ],
   "source": [
    "x\n",
    "y"
   ]
  },
  {
   "cell_type": "code",
   "execution_count": 12,
   "metadata": {},
   "outputs": [],
   "source": [
    "import matplotlib.pyplot as plt\n",
    "%matplotlib inline\n",
    "from scipy.optimize import curve_fit"
   ]
  },
  {
   "cell_type": "code",
   "execution_count": 13,
   "metadata": {},
   "outputs": [
    {
     "data": {
      "text/plain": [
       "[<matplotlib.lines.Line2D at 0x115cc66160>]"
      ]
     },
     "execution_count": 13,
     "metadata": {},
     "output_type": "execute_result"
    },
    {
     "data": {
      "image/png": "[encoded data removed]",
      "text/plain": [
       "<Figure size 432x288 with 1 Axes>"
      ]
     },
     "metadata": {
      "needs_background": "light"
     },
     "output_type": "display_data"
    }
   ],
   "source": [
    "plt.plot(x,y)"
   ]
  },
  {
   "cell_type": "code",
   "execution_count": 14,
   "metadata": {},
   "outputs": [],
   "source": [
    "def func(x, a, b, c,d,e):\n",
    "    return((((a*x+b)*x+c)*x+d)*x+e)"
   ]
  },
  {
   "cell_type": "code",
   "execution_count": 15,
   "metadata": {},
   "outputs": [],
   "source": [
    "popt, pcov = curve_fit(func, x,y)"
   ]
  },
  {
   "cell_type": "code",
   "execution_count": 16,
   "metadata": {},
   "outputs": [
    {
     "data": {
      "text/plain": [
       "array([ 2.32152496e-03, -2.88577438e-01,  1.21082618e+01, -1.85887503e+02,\n",
       "        9.32475492e+02])"
      ]
     },
     "execution_count": 16,
     "metadata": {},
     "output_type": "execute_result"
    }
   ],
   "source": [
    "popt\n"
   ]
  },
  {
   "cell_type": "code",
   "execution_count": 17,
   "metadata": {},
   "outputs": [
    {
     "data": {
      "text/plain": [
       "352.11501152948006"
      ]
     },
     "execution_count": 17,
     "metadata": {},
     "output_type": "execute_result"
    }
   ],
   "source": [
    "func(39, *popt)\n"
   ]
  },
  {
   "cell_type": "code",
   "execution_count": 18,
   "metadata": {},
   "outputs": [
    {
     "data": {
      "text/plain": [
       "array([ 45.11574268,  19.06445198,   2.70551154,  -5.10751899,\n",
       "        -5.46536334,   0.59697135,  12.10019454,  28.1207323 ,\n",
       "        47.79072727,  70.29803872,  94.8862425 , 120.85463108,\n",
       "       147.55821349, 174.4077154 , 200.86957906, 226.46596332,\n",
       "       250.77474364, 273.42951205, 294.11957722, 312.58996438,\n",
       "       328.64141539, 342.13038868, 352.96905932, 361.12531893,\n",
       "       366.62277576, 369.54075466, 370.01429707, 368.23416102,\n",
       "       364.44682115, 358.95446871, 352.11501153])"
      ]
     },
     "execution_count": 18,
     "metadata": {},
     "output_type": "execute_result"
    }
   ],
   "source": [
    "xin=range(9,40)\n",
    "func(xin,*popt)"
   ]
  },
  {
   "cell_type": "code",
   "execution_count": 19,
   "metadata": {},
   "outputs": [
    {
     "data": {
      "text/plain": [
       "[<matplotlib.lines.Line2D at 0x115ccccdd8>]"
      ]
     },
     "execution_count": 19,
     "metadata": {},
     "output_type": "execute_result"
    },
    {
     "data": {
      "image/png": "[encoded data removed]",
      "text/plain": [
       "<Figure size 432x288 with 1 Axes>"
      ]
     },
     "metadata": {
      "needs_background": "light"
     },
     "output_type": "display_data"
    }
   ],
   "source": [
    "plt.plot(range(9,40),func(range(9,40),*popt))"
   ]
  },
  {
   "cell_type": "code",
   "execution_count": 20,
   "metadata": {},
   "outputs": [
    {
     "data": {
      "text/plain": [
       "0.36787944117144233"
      ]
     },
     "execution_count": 20,
     "metadata": {},
     "output_type": "execute_result"
    }
   ],
   "source": [
    "import numpy as np\n",
    "from math import exp\n",
    "\n",
    "def f2(x, a, b):\n",
    "    return a * np.exp(-b * x)\n",
    "f2(1,1,1)"
   ]
  },
  {
   "cell_type": "code",
   "execution_count": 21,
   "metadata": {},
   "outputs": [
    {
     "name": "stderr",
     "output_type": "stream",
     "text": [
      "/opt/intel/intelpython3/lib/python3.6/site-packages/ipykernel_launcher.py:5: RuntimeWarning: overflow encountered in exp\n",
      "  \"\"\"\n"
     ]
    }
   ],
   "source": [
    "popt, pcov = curve_fit(f2,x,y,maxfev=2000)\n"
   ]
  },
  {
   "cell_type": "code",
   "execution_count": 22,
   "metadata": {},
   "outputs": [
    {
     "data": {
      "text/plain": [
       "array([ 8.83747340e+01, -3.10343814e-02])"
      ]
     },
     "execution_count": 22,
     "metadata": {},
     "output_type": "execute_result"
    }
   ],
   "source": [
    "popt\n"
   ]
  },
  {
   "cell_type": "code",
   "execution_count": 23,
   "metadata": {},
   "outputs": [
    {
     "data": {
      "text/plain": [
       "120.53376581866426"
      ]
     },
     "execution_count": 23,
     "metadata": {},
     "output_type": "execute_result"
    }
   ],
   "source": [
    "f2(10,*popt)"
   ]
  },
  {
   "cell_type": "code",
   "execution_count": 24,
   "metadata": {},
   "outputs": [
    {
     "name": "stdout",
     "output_type": "stream",
     "text": [
      "9 116.85052413651704\n",
      "10 120.53376581866426\n",
      "11 124.33310684558856\n",
      "12 128.2522067810712\n",
      "13 132.29484054188785\n",
      "14 136.46490203384676\n",
      "15 140.7664079024381\n",
      "16 145.20350140170783\n",
      "17 149.78045638508178\n",
      "18 154.50168142198484\n",
      "19 159.37172404421938\n",
      "20 164.3952751261943\n",
      "21 169.5771734032225\n",
      "22 174.92241013224\n",
      "23 180.4361338994351\n",
      "24 186.1236555794188\n",
      "25 191.99045345071298\n",
      "26 198.04217847248395\n",
      "27 204.2846597276034\n",
      "28 210.7239100372803\n",
      "29 217.36613175267095\n",
      "30 224.2177227290467\n",
      "31 231.28528248827308\n",
      "32 238.5756185755357\n",
      "33 246.09575311643727\n",
      "34 253.85292958077974\n",
      "35 261.8546197595482\n",
      "36 270.1085309618153\n",
      "37 278.62261343849974\n",
      "38 287.40506804012836\n",
      "39 296.46435411597867\n",
      "40 305.80919766220956\n",
      "41 315.4485997268294\n",
      "42 325.39184507959664\n",
      "43 335.64851115520406\n",
      "44 346.2284772783612\n",
      "45 357.14193417965976\n",
      "46 368.3993938113887\n",
      "47 380.01169947275304\n",
      "48 391.99003625425013\n",
      "49 404.3459418112612\n"
     ]
    }
   ],
   "source": [
    "for xin in range(9,50):\n",
    "    print(xin,f2(xin,*popt))"
   ]
  },
  {
   "cell_type": "code",
   "execution_count": 25,
   "metadata": {},
   "outputs": [],
   "source": [
    "p=np.polyfit(x,y,6)\n",
    "p4=np.polyfit(x,y,4)\n",
    "p2=np.polyfit(x,y,2)\n",
    "p5=np.polyfit(x,y,5)\n",
    "p10=np.polyfit(x,y,10)"
   ]
  },
  {
   "cell_type": "code",
   "execution_count": 26,
   "metadata": {},
   "outputs": [
    {
     "data": {
      "text/plain": [
       "[<matplotlib.lines.Line2D at 0x115cd491d0>,\n",
       " <matplotlib.lines.Line2D at 0x115cd49320>,\n",
       " <matplotlib.lines.Line2D at 0x115cd49470>,\n",
       " <matplotlib.lines.Line2D at 0x115cd495c0>]"
      ]
     },
     "execution_count": 26,
     "metadata": {},
     "output_type": "execute_result"
    },
    {
     "data": {
      "image/png": "[encoded data removed]",
      "text/plain": [
       "<Figure size 432x288 with 1 Axes>"
      ]
     },
     "metadata": {
      "needs_background": "light"
     },
     "output_type": "display_data"
    }
   ],
   "source": [
    "fit6=np.poly1d(p)\n",
    "fit4=np.poly1d(p4)\n",
    "fit2=np.poly1d(p2)\n",
    "fit5=np.poly1d(p5)\n",
    "fit10=np.poly1d(p10)\n",
    "\n",
    "\n",
    "#plt.plot(range(9,46),func(range(9,46),*popt))\n",
    "plt.plot(range(9,44),fit6(range(9,44)),x,y,range(9,44),fit4(range(9,44)),range(9,44),fit5(range(9,44)))"
   ]
  },
  {
   "cell_type": "code",
   "execution_count": 27,
   "metadata": {},
   "outputs": [
    {
     "data": {
      "text/plain": [
       "array([[  9.        ,  45.1157427 ],\n",
       "       [ 10.        ,  19.06445201],\n",
       "       [ 11.        ,   2.70551157],\n",
       "       [ 12.        ,  -5.10751894],\n",
       "       [ 13.        ,  -5.46536327],\n",
       "       [ 14.        ,   0.59697144],\n",
       "       [ 15.        ,  12.10019466],\n",
       "       [ 16.        ,  28.12073245],\n",
       "       [ 17.        ,  47.79072746],\n",
       "       [ 18.        ,  70.29803896],\n",
       "       [ 19.        ,  94.8862428 ],\n",
       "       [ 20.        , 120.85463144],\n",
       "       [ 21.        , 147.55821393],\n",
       "       [ 22.        , 174.40771594],\n",
       "       [ 23.        , 200.8695797 ],\n",
       "       [ 24.        , 226.46596408],\n",
       "       [ 25.        , 250.77474452],\n",
       "       [ 26.        , 273.42951309],\n",
       "       [ 27.        , 294.11957842],\n",
       "       [ 28.        , 312.58996577],\n",
       "       [ 29.        , 328.64141698],\n",
       "       [ 30.        , 342.13039051],\n",
       "       [ 31.        , 352.9690614 ],\n",
       "       [ 32.        , 361.12532129],\n",
       "       [ 33.        , 366.62277843],\n",
       "       [ 34.        , 369.54075767],\n",
       "       [ 35.        , 370.01430044],\n",
       "       [ 36.        , 368.23416479],\n",
       "       [ 37.        , 364.44682536],\n",
       "       [ 38.        , 358.95447338],\n",
       "       [ 39.        , 352.11501671]])"
      ]
     },
     "execution_count": 27,
     "metadata": {},
     "output_type": "execute_result"
    }
   ],
   "source": [
    "np.column_stack((range(9,40),fit4(range(9,40))))\n"
   ]
  },
  {
   "cell_type": "code",
   "execution_count": 28,
   "metadata": {
    "scrolled": true
   },
   "outputs": [
    {
     "data": {
      "text/plain": [
       "array([[  9.        ,  24.51984507],\n",
       "       [ 10.        ,  10.9784811 ],\n",
       "       [ 11.        ,   3.73162946],\n",
       "       [ 12.        ,   2.08435664],\n",
       "       [ 13.        ,   5.38778047],\n",
       "       [ 14.        ,  13.03387673],\n",
       "       [ 15.        ,  24.4508049 ],\n",
       "       [ 16.        ,  39.09875327],\n",
       "       [ 17.        ,  56.46630332],\n",
       "       [ 18.        ,  76.06731339],\n",
       "       [ 19.        ,  97.43832167],\n",
       "       [ 20.        , 120.13646836],\n",
       "       [ 21.        , 143.73793729],\n",
       "       [ 22.        , 167.83691671],\n",
       "       [ 23.        , 192.04507937],\n",
       "       [ 24.        , 215.99158194],\n",
       "       [ 25.        , 239.32358369],\n",
       "       [ 26.        , 261.70728446],\n",
       "       [ 27.        , 282.82948191],\n",
       "       [ 28.        , 302.39964805],\n",
       "       [ 29.        , 320.15252512],\n",
       "       [ 30.        , 335.85124065],\n",
       "       [ 31.        , 349.2909419 ],\n",
       "       [ 32.        , 360.30294955],\n",
       "       [ 33.        , 368.75943068],\n",
       "       [ 34.        , 374.57859103],\n",
       "       [ 35.        , 377.73038655],\n",
       "       [ 36.        , 378.24275429],\n",
       "       [ 37.        , 376.20836247],\n",
       "       [ 38.        , 371.79187993],\n",
       "       [ 39.        , 365.23776484]])"
      ]
     },
     "execution_count": 28,
     "metadata": {},
     "output_type": "execute_result"
    }
   ],
   "source": [
    "np.column_stack((range(9,40),fit6(range(9,40))))"
   ]
  },
  {
   "cell_type": "code",
   "execution_count": 29,
   "metadata": {},
   "outputs": [
    {
     "data": {
      "text/plain": [
       "[<matplotlib.lines.Line2D at 0x115cda8e10>]"
      ]
     },
     "execution_count": 29,
     "metadata": {},
     "output_type": "execute_result"
    },
    {
     "data": {
      "image/png": "[encoded data removed]",
      "text/plain": [
       "<Figure size 432x288 with 1 Axes>"
      ]
     },
     "metadata": {
      "needs_background": "light"
     },
     "output_type": "display_data"
    }
   ],
   "source": [
    "%matplotlib inline\n",
    "import pylab as mp\n",
    "mp.plot(x,y)\n",
    "mp.plot(range(9,44), fit4(range(9,44)))\n",
    "mp.plot(range(9,44), fit6(range(9,44)))\n",
    "\n",
    "\n",
    "\n",
    "\n",
    "\n",
    "\n"
   ]
  },
  {
   "cell_type": "code",
   "execution_count": 30,
   "metadata": {},
   "outputs": [],
   "source": [
    "import datetime\n",
    "start=datetime.date(2020,2,29)\n",
    "thedays=[]\n",
    "for xd in range(9,100):\n",
    "    day=start+datetime.timedelta(days=xd)\n",
    "    thedays.append(day)"
   ]
  },
  {
   "cell_type": "code",
   "execution_count": 31,
   "metadata": {},
   "outputs": [
    {
     "data": {
      "text/plain": [
       "[datetime.date(2020, 3, 9),\n",
       " datetime.date(2020, 3, 10),\n",
       " datetime.date(2020, 3, 11),\n",
       " datetime.date(2020, 3, 12),\n",
       " datetime.date(2020, 3, 13),\n",
       " datetime.date(2020, 3, 14),\n",
       " datetime.date(2020, 3, 15),\n",
       " datetime.date(2020, 3, 16),\n",
       " datetime.date(2020, 3, 17),\n",
       " datetime.date(2020, 3, 18),\n",
       " datetime.date(2020, 3, 19),\n",
       " datetime.date(2020, 3, 20),\n",
       " datetime.date(2020, 3, 21),\n",
       " datetime.date(2020, 3, 22),\n",
       " datetime.date(2020, 3, 23),\n",
       " datetime.date(2020, 3, 24),\n",
       " datetime.date(2020, 3, 25),\n",
       " datetime.date(2020, 3, 26),\n",
       " datetime.date(2020, 3, 27),\n",
       " datetime.date(2020, 3, 28),\n",
       " datetime.date(2020, 3, 29),\n",
       " datetime.date(2020, 3, 30),\n",
       " datetime.date(2020, 3, 31),\n",
       " datetime.date(2020, 4, 1),\n",
       " datetime.date(2020, 4, 2),\n",
       " datetime.date(2020, 4, 3),\n",
       " datetime.date(2020, 4, 4),\n",
       " datetime.date(2020, 4, 5),\n",
       " datetime.date(2020, 4, 6),\n",
       " datetime.date(2020, 4, 7),\n",
       " datetime.date(2020, 4, 8),\n",
       " datetime.date(2020, 4, 9),\n",
       " datetime.date(2020, 4, 10),\n",
       " datetime.date(2020, 4, 11),\n",
       " datetime.date(2020, 4, 12),\n",
       " datetime.date(2020, 4, 13),\n",
       " datetime.date(2020, 4, 14),\n",
       " datetime.date(2020, 4, 15),\n",
       " datetime.date(2020, 4, 16),\n",
       " datetime.date(2020, 4, 17),\n",
       " datetime.date(2020, 4, 18),\n",
       " datetime.date(2020, 4, 19),\n",
       " datetime.date(2020, 4, 20),\n",
       " datetime.date(2020, 4, 21),\n",
       " datetime.date(2020, 4, 22),\n",
       " datetime.date(2020, 4, 23),\n",
       " datetime.date(2020, 4, 24),\n",
       " datetime.date(2020, 4, 25),\n",
       " datetime.date(2020, 4, 26),\n",
       " datetime.date(2020, 4, 27),\n",
       " datetime.date(2020, 4, 28),\n",
       " datetime.date(2020, 4, 29),\n",
       " datetime.date(2020, 4, 30),\n",
       " datetime.date(2020, 5, 1),\n",
       " datetime.date(2020, 5, 2),\n",
       " datetime.date(2020, 5, 3),\n",
       " datetime.date(2020, 5, 4),\n",
       " datetime.date(2020, 5, 5),\n",
       " datetime.date(2020, 5, 6),\n",
       " datetime.date(2020, 5, 7),\n",
       " datetime.date(2020, 5, 8),\n",
       " datetime.date(2020, 5, 9),\n",
       " datetime.date(2020, 5, 10),\n",
       " datetime.date(2020, 5, 11),\n",
       " datetime.date(2020, 5, 12),\n",
       " datetime.date(2020, 5, 13),\n",
       " datetime.date(2020, 5, 14),\n",
       " datetime.date(2020, 5, 15),\n",
       " datetime.date(2020, 5, 16),\n",
       " datetime.date(2020, 5, 17),\n",
       " datetime.date(2020, 5, 18),\n",
       " datetime.date(2020, 5, 19),\n",
       " datetime.date(2020, 5, 20),\n",
       " datetime.date(2020, 5, 21),\n",
       " datetime.date(2020, 5, 22),\n",
       " datetime.date(2020, 5, 23),\n",
       " datetime.date(2020, 5, 24),\n",
       " datetime.date(2020, 5, 25),\n",
       " datetime.date(2020, 5, 26),\n",
       " datetime.date(2020, 5, 27),\n",
       " datetime.date(2020, 5, 28),\n",
       " datetime.date(2020, 5, 29),\n",
       " datetime.date(2020, 5, 30),\n",
       " datetime.date(2020, 5, 31),\n",
       " datetime.date(2020, 6, 1),\n",
       " datetime.date(2020, 6, 2),\n",
       " datetime.date(2020, 6, 3),\n",
       " datetime.date(2020, 6, 4),\n",
       " datetime.date(2020, 6, 5),\n",
       " datetime.date(2020, 6, 6),\n",
       " datetime.date(2020, 6, 7)]"
      ]
     },
     "execution_count": 31,
     "metadata": {},
     "output_type": "execute_result"
    }
   ],
   "source": [
    "thedays"
   ]
  },
  {
   "cell_type": "code",
   "execution_count": 32,
   "metadata": {},
   "outputs": [
    {
     "data": {
      "text/plain": [
       "[<matplotlib.lines.Line2D at 0x115cdd7208>]"
      ]
     },
     "execution_count": 32,
     "metadata": {},
     "output_type": "execute_result"
    },
    {
     "data": {
      "image/png": "[encoded data removed]",
      "text/plain": [
       "<Figure size 432x288 with 1 Axes>"
      ]
     },
     "metadata": {
      "needs_background": "light"
     },
     "output_type": "display_data"
    }
   ],
   "source": [
    "import pylab as mp\n",
    "mp.plot(thedays[0:len(y)],y)\n",
    "\n"
   ]
  },
  {
   "cell_type": "code",
   "execution_count": 33,
   "metadata": {},
   "outputs": [
    {
     "name": "stdout",
     "output_type": "stream",
     "text": [
      "hello\n"
     ]
    }
   ],
   "source": [
    "print(\"hello\")\n"
   ]
  },
  {
   "cell_type": "code",
   "execution_count": 34,
   "metadata": {},
   "outputs": [
    {
     "data": {
      "text/plain": [
       "[(0, 550)]"
      ]
     },
     "execution_count": 34,
     "metadata": {},
     "output_type": "execute_result"
    },
    {
     "data": {
      "image/png": "[encoded data removed]",
      "text/plain": [
       "<Figure size 792x612 with 1 Axes>"
      ]
     },
     "metadata": {
      "needs_background": "light"
     },
     "output_type": "display_data"
    }
   ],
   "source": [
    "from pylab import figure, show,save\n",
    "import matplotlib.pyplot as plt\n",
    "\n",
    "from matplotlib.dates import MONDAY, SATURDAY,SUNDAY\n",
    "from matplotlib.dates import MonthLocator, WeekdayLocator, DateFormatter\n",
    "sundays   = WeekdayLocator(SUNDAY)\n",
    "fig = figure(figsize=[11,8.5])\n",
    "ax = fig.add_subplot(111)\n",
    "#ax.plot(thedays[0:len(y)],y,\"*\",label=\"Actual\",linewidth=0)\n",
    "dout=70\n",
    "plt.bar(thedays[0:len(y)],y)\n",
    "ax.plot(thedays[0:len(range(9,dout))],fit2(range(9,dout)),label=\"2nd\",linewidth=2)\n",
    "ax.plot(thedays[0:len(range(9,dout))],fit4(range(9,dout)),label=\"4th\",linewidth=2)\n",
    "ax.plot(thedays[0:len(range(9,dout))],fit5(range(9,dout)),label=\"5th\",linewidth=2)\n",
    "\n",
    "ax.plot(thedays[0:len(range(9,dout))],fit6(range(9,dout)),label=\"6th\",linewidth=2)\n",
    "\n",
    "ax.plot(thedays[0:len(range(9,dout))],fit10(range(9,dout)),label=\"10th\",linewidth=2)\n",
    "\n",
    "ax.xaxis.set_major_locator(sundays)\n",
    "ax.set_xlabel('Date')\n",
    "\n",
    "ax.set_title(\"Colorado Covid19 Cases and Models\")\n",
    "\n",
    "\n",
    "ax.set_ylabel('New Cases')\n",
    "ax.legend()\n",
    "fig.autofmt_xdate()\n",
    "fig.legend\n",
    "\n",
    "ax.set(ylim=(0, 550))\n",
    "#help(save)\n",
    "#help(fig)\n"
   ]
  },
  {
   "cell_type": "code",
   "execution_count": 35,
   "metadata": {},
   "outputs": [
    {
     "data": {
      "text/plain": [
       "array([ 2.59056407+46.91295957j,  2.59056407-46.91295957j,\n",
       "       50.11569693 +8.38414894j, 50.11569693 -8.38414894j,\n",
       "       11.79723905 +0.88752191j, 11.79723905 -0.88752191j])"
      ]
     },
     "execution_count": 35,
     "metadata": {},
     "output_type": "execute_result"
    }
   ],
   "source": [
    "np.roots(fit6)"
   ]
  },
  {
   "cell_type": "code",
   "execution_count": 36,
   "metadata": {},
   "outputs": [
    {
     "data": {
      "text/plain": [
       "array([146.21745613 +0.j        ,  83.53111599 +0.j        ,\n",
       "        51.87761372 +4.84788886j,  51.87761372 -4.84788886j,\n",
       "        38.23541339+10.44871383j,  38.23541339-10.44871383j,\n",
       "        16.21851124 +4.21656819j,  16.21851124 -4.21656819j,\n",
       "         9.61751211 +0.62873849j,   9.61751211 -0.62873849j])"
      ]
     },
     "execution_count": 36,
     "metadata": {},
     "output_type": "execute_result"
    }
   ],
   "source": [
    "np.roots(fit10)\n",
    "\n"
   ]
  },
  {
   "cell_type": "code",
   "execution_count": 37,
   "metadata": {},
   "outputs": [
    {
     "data": {
      "text/plain": [
       "array([83.74295425, 11.61154884])"
      ]
     },
     "execution_count": 37,
     "metadata": {},
     "output_type": "execute_result"
    }
   ],
   "source": [
    "np.roots(fit2)"
   ]
  }
 ],
 "metadata": {
  "kernelspec": {
   "display_name": "Python 3",
   "language": "python",
   "name": "python3"
  },
  "language_info": {
   "codemirror_mode": {
    "name": "ipython",
    "version": 3
   },
   "file_extension": ".py",
   "mimetype": "text/x-python",
   "name": "python",
   "nbconvert_exporter": "python",
   "pygments_lexer": "ipython3",
   "version": "3.6.9"
  }
 },
 "nbformat": 4,
 "nbformat_minor": 2
}
