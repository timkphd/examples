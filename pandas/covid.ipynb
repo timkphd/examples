{
 "cells": [
  {
   "cell_type": "code",
   "execution_count": 1,
   "metadata": {},
   "outputs": [
    {
     "name": "stdout",
     "output_type": "stream",
     "text": [
      "hexagon.local\n"
     ]
    }
   ],
   "source": [
    "from socket import gethostname\n",
    "print(gethostname())\n",
    "\n"
   ]
  },
  {
   "cell_type": "code",
   "execution_count": 2,
   "metadata": {},
   "outputs": [
    {
     "data": {
      "text/plain": [
       "[' 9 5\\t\\n',\n",
       " '10 6\\n',\n",
       " '11 19\\n',\n",
       " '12 10\\n',\n",
       " '13 28\\n',\n",
       " '14 32\\n',\n",
       " '15 34\\n',\n",
       " '16 37\\n',\n",
       " '17 29\\n',\n",
       " '18 68\\n',\n",
       " '19 86\\n',\n",
       " '20 114\\n',\n",
       " '21 115\\n',\n",
       " '22 126\\n',\n",
       " '23 189\\n',\n",
       " '24 175\\n',\n",
       " '25 316\\n',\n",
       " '26 296\\n',\n",
       " '27 328\\n',\n",
       " '28 243\\n',\n",
       " '29 332\\n',\n",
       " '30 326\\n',\n",
       " '31 384\\n',\n",
       " '32 395 April 1\\n',\n",
       " '33 450\\n',\n",
       " '34 392\\n',\n",
       " '35 390\\n',\n",
       " '36 220\\n',\n",
       " '37 268\\n',\n",
       " '38 248 April 7\\n',\n",
       " '39 549\\n',\n",
       " '40 365\\n',\n",
       " '41 435\\n',\n",
       " '42 433\\n',\n",
       " '43 381\\n',\n",
       " '44 297\\n',\n",
       " '45 307 April 14\\n',\n",
       " '46 402\\n',\n",
       " '47 349\\n',\n",
       " '48 409\\n',\n",
       " '49 265\\n',\n",
       " '50 326\\n',\n",
       " '51 286\\n',\n",
       " '52 466 April 21\\n',\n",
       " '53 396\\n',\n",
       " '54 970\\n',\n",
       " '55 699\\n',\n",
       " '56 497\\n',\n",
       " '57 416\\n',\n",
       " '58 431 April 28\\n',\n",
       " '59 401']"
      ]
     },
     "execution_count": 2,
     "metadata": {},
     "output_type": "execute_result"
    }
   ],
   "source": [
    "#starts on March 9\n",
    "x=open(\"pand\",\"r\")\n",
    "dat=x.readlines()\n",
    "dat\n"
   ]
  },
  {
   "cell_type": "code",
   "execution_count": 3,
   "metadata": {},
   "outputs": [],
   "source": [
    "import numpy as np\n",
    "x=np.zeros(len(dat))\n",
    "y=np.zeros(len(dat))\n",
    "k=0\n",
    "for d in dat:\n",
    "    d=d.split()\n",
    "    x[k]=(float(d[0]))\n",
    "    y[k]=(float(d[1]))\n",
    "    k=k+1\n",
    "    "
   ]
  },
  {
   "cell_type": "code",
   "execution_count": 4,
   "metadata": {},
   "outputs": [
    {
     "data": {
      "text/plain": [
       "array([  5.,   6.,  19.,  10.,  28.,  32.,  34.,  37.,  29.,  68.,  86.,\n",
       "       114., 115., 126., 189., 175., 316., 296., 328., 243., 332., 326.,\n",
       "       384., 395., 450., 392., 390., 220., 268., 248., 549., 365., 435.,\n",
       "       433., 381., 297., 307., 402., 349., 409., 265., 326., 286., 466.,\n",
       "       396., 970., 699., 497., 416., 431., 401.])"
      ]
     },
     "execution_count": 4,
     "metadata": {},
     "output_type": "execute_result"
    }
   ],
   "source": [
    "x\n",
    "y"
   ]
  },
  {
   "cell_type": "code",
   "execution_count": 5,
   "metadata": {},
   "outputs": [],
   "source": [
    "import matplotlib.pyplot as plt\n",
    "%matplotlib inline\n",
    "from scipy.optimize import curve_fit"
   ]
  },
  {
   "cell_type": "code",
   "execution_count": 6,
   "metadata": {},
   "outputs": [
    {
     "data": {
      "text/plain": [
       "[<matplotlib.lines.Line2D at 0x115c8040b8>]"
      ]
     },
     "execution_count": 6,
     "metadata": {},
     "output_type": "execute_result"
    },
    {
     "data": {
      "image/png": "[encoded data removed]",
      "text/plain": [
       "<Figure size 432x288 with 1 Axes>"
      ]
     },
     "metadata": {
      "needs_background": "light"
     },
     "output_type": "display_data"
    }
   ],
   "source": [
    "plt.plot(x,y)"
   ]
  },
  {
   "cell_type": "code",
   "execution_count": 7,
   "metadata": {},
   "outputs": [],
   "source": [
    "def func(x, a, b, c,d,e):\n",
    "    return((((a*x+b)*x+c)*x+d)*x+e)"
   ]
  },
  {
   "cell_type": "code",
   "execution_count": 8,
   "metadata": {},
   "outputs": [],
   "source": [
    "popt, pcov = curve_fit(func, x,y)"
   ]
  },
  {
   "cell_type": "code",
   "execution_count": 9,
   "metadata": {},
   "outputs": [
    {
     "data": {
      "text/plain": [
       "array([ 6.39258227e-04, -8.30162556e-02,  3.50269464e+00, -4.19283663e+01,\n",
       "        1.35170981e+02])"
      ]
     },
     "execution_count": 9,
     "metadata": {},
     "output_type": "execute_result"
    }
   ],
   "source": [
    "popt\n"
   ]
  },
  {
   "cell_type": "code",
   "execution_count": 10,
   "metadata": {},
   "outputs": [
    {
     "data": {
      "text/plain": [
       "382.0081696903437"
      ]
     },
     "execution_count": 10,
     "metadata": {},
     "output_type": "execute_result"
    }
   ],
   "source": [
    "func(39, *popt)\n"
   ]
  },
  {
   "cell_type": "code",
   "execution_count": 11,
   "metadata": {},
   "outputs": [
    {
     "data": {
      "text/plain": [
       "array([-14.79072752, -10.46689188,  -3.35025392,   6.22218193,\n",
       "        17.92875339,  31.46314039,  46.53436508,  62.86679177,\n",
       "        80.200127  ,  98.28941949, 116.90506016, 135.83278214,\n",
       "       154.87366073, 173.84411345, 192.57590002, 210.91612234,\n",
       "       228.72722451, 245.88699285, 262.28855586, 277.84038422,\n",
       "       292.46629085, 306.10543083, 318.71230145, 330.25674221,\n",
       "       340.72393478, 350.11440305, 358.44401311, 365.74397323,\n",
       "       372.06083388, 377.45648775, 382.00816969])"
      ]
     },
     "execution_count": 11,
     "metadata": {},
     "output_type": "execute_result"
    }
   ],
   "source": [
    "xin=range(9,40)\n",
    "func(xin,*popt)"
   ]
  },
  {
   "cell_type": "code",
   "execution_count": 12,
   "metadata": {},
   "outputs": [
    {
     "data": {
      "text/plain": [
       "[<matplotlib.lines.Line2D at 0x115c8f5470>]"
      ]
     },
     "execution_count": 12,
     "metadata": {},
     "output_type": "execute_result"
    },
    {
     "data": {
      "image/png": "[encoded data removed]",
      "text/plain": [
       "<Figure size 432x288 with 1 Axes>"
      ]
     },
     "metadata": {
      "needs_background": "light"
     },
     "output_type": "display_data"
    }
   ],
   "source": [
    "plt.plot(range(9,40),func(range(9,40),*popt))"
   ]
  },
  {
   "cell_type": "code",
   "execution_count": 13,
   "metadata": {},
   "outputs": [
    {
     "data": {
      "text/plain": [
       "0.36787944117144233"
      ]
     },
     "execution_count": 13,
     "metadata": {},
     "output_type": "execute_result"
    }
   ],
   "source": [
    "import numpy as np\n",
    "from math import exp\n",
    "\n",
    "def f2(x, a, b):\n",
    "    return a * np.exp(-b * x)\n",
    "f2(1,1,1)"
   ]
  },
  {
   "cell_type": "code",
   "execution_count": 14,
   "metadata": {},
   "outputs": [
    {
     "name": "stderr",
     "output_type": "stream",
     "text": [
      "/opt/intel/intelpython3/lib/python3.6/site-packages/ipykernel_launcher.py:5: RuntimeWarning: overflow encountered in exp\n",
      "  \"\"\"\n"
     ]
    }
   ],
   "source": [
    "popt, pcov = curve_fit(f2,x,y,maxfev=2000)\n"
   ]
  },
  {
   "cell_type": "code",
   "execution_count": 15,
   "metadata": {},
   "outputs": [
    {
     "data": {
      "text/plain": [
       "array([ 9.26232329e+01, -3.10031120e-02])"
      ]
     },
     "execution_count": 15,
     "metadata": {},
     "output_type": "execute_result"
    }
   ],
   "source": [
    "popt\n"
   ]
  },
  {
   "cell_type": "code",
   "execution_count": 16,
   "metadata": {},
   "outputs": [
    {
     "data": {
      "text/plain": [
       "126.28877191827296"
      ]
     },
     "execution_count": 16,
     "metadata": {},
     "output_type": "execute_result"
    }
   ],
   "source": [
    "f2(10,*popt)"
   ]
  },
  {
   "cell_type": "code",
   "execution_count": 17,
   "metadata": {},
   "outputs": [
    {
     "name": "stdout",
     "output_type": "stream",
     "text": [
      "9 122.43349851713972\n",
      "10 126.28877191827296\n",
      "11 130.2654429203692\n",
      "12 134.36733417774784\n",
      "13 138.59838871519648\n",
      "14 142.9626737182818\n",
      "15 147.46438444301313\n",
      "16 152.1078482486157\n",
      "17 156.89752875729124\n",
      "18 161.8380301449637\n",
      "19 166.93410156713526\n",
      "20 172.1906417241067\n",
      "21 177.61270356995098\n",
      "22 183.20549916976583\n",
      "23 188.9744047098755\n",
      "24 194.92496566579706\n",
      "25 201.06290213293929\n",
      "26 207.3941143251586\n",
      "27 213.9246882464571\n",
      "28 220.6609015412755\n",
      "29 227.60922952900404\n",
      "30 234.77635142851227\n",
      "31 242.16915677868158\n",
      "32 249.7947520611117\n",
      "33 257.6604675313681\n",
      "34 265.7738642653361\n",
      "35 274.14274142745614\n",
      "36 282.7751437678259\n",
      "37 291.6793693553771\n",
      "38 300.86397755455954\n",
      "39 310.33779725320073\n",
      "40 320.109935349451\n",
      "41 330.1897855059705\n",
      "42 340.587037179775\n",
      "43 351.31168493641934\n",
      "44 362.3740380574737\n",
      "45 373.78473045052533\n",
      "46 385.5547308712348\n",
      "47 397.69535346727105\n",
      "48 410.2182686542614\n",
      "49 423.13551433421156\n"
     ]
    }
   ],
   "source": [
    "for xin in range(9,50):\n",
    "    print(xin,f2(xin,*popt))"
   ]
  },
  {
   "cell_type": "code",
   "execution_count": 18,
   "metadata": {},
   "outputs": [],
   "source": [
    "p=np.polyfit(x,y,6)\n",
    "p4=np.polyfit(x,y,4)\n",
    "p2=np.polyfit(x,y,2)\n",
    "p5=np.polyfit(x,y,5)\n",
    "p10=np.polyfit(x,y,10)"
   ]
  },
  {
   "cell_type": "code",
   "execution_count": 19,
   "metadata": {},
   "outputs": [
    {
     "data": {
      "text/plain": [
       "[<matplotlib.lines.Line2D at 0x115c973208>,\n",
       " <matplotlib.lines.Line2D at 0x115c973358>,\n",
       " <matplotlib.lines.Line2D at 0x115c9734a8>,\n",
       " <matplotlib.lines.Line2D at 0x115c9735f8>]"
      ]
     },
     "execution_count": 19,
     "metadata": {},
     "output_type": "execute_result"
    },
    {
     "data": {
      "image/png": "[encoded data removed]",
      "text/plain": [
       "<Figure size 432x288 with 1 Axes>"
      ]
     },
     "metadata": {
      "needs_background": "light"
     },
     "output_type": "display_data"
    }
   ],
   "source": [
    "fit6=np.poly1d(p)\n",
    "fit4=np.poly1d(p4)\n",
    "fit2=np.poly1d(p2)\n",
    "fit5=np.poly1d(p5)\n",
    "fit10=np.poly1d(p10)\n",
    "\n",
    "\n",
    "#plt.plot(range(9,46),func(range(9,46),*popt))\n",
    "plt.plot(range(9,44),fit6(range(9,44)),x,y,range(9,44),fit4(range(9,44)),range(9,44),fit5(range(9,44)))"
   ]
  },
  {
   "cell_type": "code",
   "execution_count": 20,
   "metadata": {},
   "outputs": [
    {
     "data": {
      "text/plain": [
       "array([[  9.        , -14.7907275 ],\n",
       "       [ 10.        , -10.46689186],\n",
       "       [ 11.        ,  -3.35025388],\n",
       "       [ 12.        ,   6.22218198],\n",
       "       [ 13.        ,  17.92875345],\n",
       "       [ 14.        ,  31.46314048],\n",
       "       [ 15.        ,  46.5343652 ],\n",
       "       [ 16.        ,  62.86679192],\n",
       "       [ 17.        ,  80.20012719],\n",
       "       [ 18.        ,  98.28941973],\n",
       "       [ 19.        , 116.90506046],\n",
       "       [ 20.        , 135.8327825 ],\n",
       "       [ 21.        , 154.87366117],\n",
       "       [ 22.        , 173.84411399],\n",
       "       [ 23.        , 192.57590065],\n",
       "       [ 24.        , 210.91612309],\n",
       "       [ 25.        , 228.7272254 ],\n",
       "       [ 26.        , 245.88699389],\n",
       "       [ 27.        , 262.28855706],\n",
       "       [ 28.        , 277.84038561],\n",
       "       [ 29.        , 292.46629245],\n",
       "       [ 30.        , 306.10543266],\n",
       "       [ 31.        , 318.71230353],\n",
       "       [ 32.        , 330.25674457],\n",
       "       [ 33.        , 340.72393745],\n",
       "       [ 34.        , 350.11440606],\n",
       "       [ 35.        , 358.44401648],\n",
       "       [ 36.        , 365.743977  ],\n",
       "       [ 37.        , 372.06083808],\n",
       "       [ 38.        , 377.45649242],\n",
       "       [ 39.        , 382.00817487]])"
      ]
     },
     "execution_count": 20,
     "metadata": {},
     "output_type": "execute_result"
    }
   ],
   "source": [
    "np.column_stack((range(9,40),fit4(range(9,40))))\n"
   ]
  },
  {
   "cell_type": "code",
   "execution_count": 21,
   "metadata": {
    "scrolled": true
   },
   "outputs": [
    {
     "data": {
      "text/plain": [
       "array([[  9.        , -12.67370838],\n",
       "       [ 10.        ,  11.34548649],\n",
       "       [ 11.        ,  23.54499362],\n",
       "       [ 12.        ,  28.51912483],\n",
       "       [ 13.        ,  29.92744831],\n",
       "       [ 14.        ,  30.59843648],\n",
       "       [ 15.        ,  32.62803434],\n",
       "       [ 16.        ,  37.47314832],\n",
       "       [ 17.        ,  46.04005549],\n",
       "       [ 18.        ,  58.76773335],\n",
       "       [ 19.        ,  75.70610998],\n",
       "       [ 20.        ,  96.58923468],\n",
       "       [ 21.        , 120.90336914],\n",
       "       [ 22.        , 147.94999893],\n",
       "       [ 23.        , 176.9037656 ],\n",
       "       [ 24.        , 206.86531913],\n",
       "       [ 25.        , 236.90909088],\n",
       "       [ 26.        , 266.12598701],\n",
       "       [ 27.        , 293.66100236],\n",
       "       [ 28.        , 318.74575475],\n",
       "       [ 29.        , 340.72593979],\n",
       "       [ 30.        , 359.08370615],\n",
       "       [ 31.        , 373.45495119],\n",
       "       [ 32.        , 383.64153724],\n",
       "       [ 33.        , 389.61842813],\n",
       "       [ 34.        , 391.53574635],\n",
       "       [ 35.        , 389.71575054],\n",
       "       [ 36.        , 384.64473356],\n",
       "       [ 37.        , 376.9598409 ],\n",
       "       [ 38.        , 367.43080966],\n",
       "       [ 39.        , 356.93662789]])"
      ]
     },
     "execution_count": 21,
     "metadata": {},
     "output_type": "execute_result"
    }
   ],
   "source": [
    "np.column_stack((range(9,40),fit6(range(9,40))))"
   ]
  },
  {
   "cell_type": "code",
   "execution_count": 22,
   "metadata": {},
   "outputs": [
    {
     "data": {
      "text/plain": [
       "[<matplotlib.lines.Line2D at 0x115c9d4780>]"
      ]
     },
     "execution_count": 22,
     "metadata": {},
     "output_type": "execute_result"
    },
    {
     "data": {
      "image/png": "[encoded data removed]",
      "text/plain": [
       "<Figure size 432x288 with 1 Axes>"
      ]
     },
     "metadata": {
      "needs_background": "light"
     },
     "output_type": "display_data"
    }
   ],
   "source": [
    "%matplotlib inline\n",
    "import pylab as mp\n",
    "mp.plot(x,y)\n",
    "mp.plot(range(9,44), fit4(range(9,44)))\n",
    "mp.plot(range(9,44), fit6(range(9,44)))\n",
    "\n",
    "\n",
    "\n",
    "\n",
    "\n",
    "\n"
   ]
  },
  {
   "cell_type": "code",
   "execution_count": 23,
   "metadata": {},
   "outputs": [],
   "source": [
    "import datetime\n",
    "start=datetime.date(2020,2,29)\n",
    "thedays=[]\n",
    "for xd in range(9,100):\n",
    "    day=start+datetime.timedelta(days=xd)\n",
    "    thedays.append(day)"
   ]
  },
  {
   "cell_type": "code",
   "execution_count": 24,
   "metadata": {},
   "outputs": [
    {
     "data": {
      "text/plain": [
       "[datetime.date(2020, 3, 9),\n",
       " datetime.date(2020, 3, 10),\n",
       " datetime.date(2020, 3, 11),\n",
       " datetime.date(2020, 3, 12),\n",
       " datetime.date(2020, 3, 13),\n",
       " datetime.date(2020, 3, 14),\n",
       " datetime.date(2020, 3, 15),\n",
       " datetime.date(2020, 3, 16),\n",
       " datetime.date(2020, 3, 17),\n",
       " datetime.date(2020, 3, 18),\n",
       " datetime.date(2020, 3, 19),\n",
       " datetime.date(2020, 3, 20),\n",
       " datetime.date(2020, 3, 21),\n",
       " datetime.date(2020, 3, 22),\n",
       " datetime.date(2020, 3, 23),\n",
       " datetime.date(2020, 3, 24),\n",
       " datetime.date(2020, 3, 25),\n",
       " datetime.date(2020, 3, 26),\n",
       " datetime.date(2020, 3, 27),\n",
       " datetime.date(2020, 3, 28),\n",
       " datetime.date(2020, 3, 29),\n",
       " datetime.date(2020, 3, 30),\n",
       " datetime.date(2020, 3, 31),\n",
       " datetime.date(2020, 4, 1),\n",
       " datetime.date(2020, 4, 2),\n",
       " datetime.date(2020, 4, 3),\n",
       " datetime.date(2020, 4, 4),\n",
       " datetime.date(2020, 4, 5),\n",
       " datetime.date(2020, 4, 6),\n",
       " datetime.date(2020, 4, 7),\n",
       " datetime.date(2020, 4, 8),\n",
       " datetime.date(2020, 4, 9),\n",
       " datetime.date(2020, 4, 10),\n",
       " datetime.date(2020, 4, 11),\n",
       " datetime.date(2020, 4, 12),\n",
       " datetime.date(2020, 4, 13),\n",
       " datetime.date(2020, 4, 14),\n",
       " datetime.date(2020, 4, 15),\n",
       " datetime.date(2020, 4, 16),\n",
       " datetime.date(2020, 4, 17),\n",
       " datetime.date(2020, 4, 18),\n",
       " datetime.date(2020, 4, 19),\n",
       " datetime.date(2020, 4, 20),\n",
       " datetime.date(2020, 4, 21),\n",
       " datetime.date(2020, 4, 22),\n",
       " datetime.date(2020, 4, 23),\n",
       " datetime.date(2020, 4, 24),\n",
       " datetime.date(2020, 4, 25),\n",
       " datetime.date(2020, 4, 26),\n",
       " datetime.date(2020, 4, 27),\n",
       " datetime.date(2020, 4, 28),\n",
       " datetime.date(2020, 4, 29),\n",
       " datetime.date(2020, 4, 30),\n",
       " datetime.date(2020, 5, 1),\n",
       " datetime.date(2020, 5, 2),\n",
       " datetime.date(2020, 5, 3),\n",
       " datetime.date(2020, 5, 4),\n",
       " datetime.date(2020, 5, 5),\n",
       " datetime.date(2020, 5, 6),\n",
       " datetime.date(2020, 5, 7),\n",
       " datetime.date(2020, 5, 8),\n",
       " datetime.date(2020, 5, 9),\n",
       " datetime.date(2020, 5, 10),\n",
       " datetime.date(2020, 5, 11),\n",
       " datetime.date(2020, 5, 12),\n",
       " datetime.date(2020, 5, 13),\n",
       " datetime.date(2020, 5, 14),\n",
       " datetime.date(2020, 5, 15),\n",
       " datetime.date(2020, 5, 16),\n",
       " datetime.date(2020, 5, 17),\n",
       " datetime.date(2020, 5, 18),\n",
       " datetime.date(2020, 5, 19),\n",
       " datetime.date(2020, 5, 20),\n",
       " datetime.date(2020, 5, 21),\n",
       " datetime.date(2020, 5, 22),\n",
       " datetime.date(2020, 5, 23),\n",
       " datetime.date(2020, 5, 24),\n",
       " datetime.date(2020, 5, 25),\n",
       " datetime.date(2020, 5, 26),\n",
       " datetime.date(2020, 5, 27),\n",
       " datetime.date(2020, 5, 28),\n",
       " datetime.date(2020, 5, 29),\n",
       " datetime.date(2020, 5, 30),\n",
       " datetime.date(2020, 5, 31),\n",
       " datetime.date(2020, 6, 1),\n",
       " datetime.date(2020, 6, 2),\n",
       " datetime.date(2020, 6, 3),\n",
       " datetime.date(2020, 6, 4),\n",
       " datetime.date(2020, 6, 5),\n",
       " datetime.date(2020, 6, 6),\n",
       " datetime.date(2020, 6, 7)]"
      ]
     },
     "execution_count": 24,
     "metadata": {},
     "output_type": "execute_result"
    }
   ],
   "source": [
    "thedays"
   ]
  },
  {
   "cell_type": "code",
   "execution_count": 25,
   "metadata": {},
   "outputs": [
    {
     "data": {
      "text/plain": [
       "[<matplotlib.lines.Line2D at 0x115cc1f320>]"
      ]
     },
     "execution_count": 25,
     "metadata": {},
     "output_type": "execute_result"
    },
    {
     "data": {
      "image/png": "[encoded data removed]",
      "text/plain": [
       "<Figure size 432x288 with 1 Axes>"
      ]
     },
     "metadata": {
      "needs_background": "light"
     },
     "output_type": "display_data"
    }
   ],
   "source": [
    "import pylab as mp\n",
    "mp.plot(thedays[0:len(y)],y)\n",
    "\n"
   ]
  },
  {
   "cell_type": "code",
   "execution_count": 26,
   "metadata": {},
   "outputs": [
    {
     "name": "stdout",
     "output_type": "stream",
     "text": [
      "hello\n"
     ]
    }
   ],
   "source": [
    "print(\"hello\")\n"
   ]
  },
  {
   "cell_type": "code",
   "execution_count": 28,
   "metadata": {},
   "outputs": [
    {
     "data": {
      "text/plain": [
       "[(0, 1000)]"
      ]
     },
     "execution_count": 28,
     "metadata": {},
     "output_type": "execute_result"
    },
    {
     "data": {
      "image/png": "[encoded data removed]",
      "text/plain": [
       "<Figure size 792x612 with 1 Axes>"
      ]
     },
     "metadata": {
      "needs_background": "light"
     },
     "output_type": "display_data"
    }
   ],
   "source": [
    "from pylab import figure, show,save\n",
    "import matplotlib.pyplot as plt\n",
    "\n",
    "from matplotlib.dates import MONDAY, SATURDAY,SUNDAY\n",
    "from matplotlib.dates import MonthLocator, WeekdayLocator, DateFormatter\n",
    "sundays   = WeekdayLocator(SUNDAY)\n",
    "fig = figure(figsize=[11,8.5])\n",
    "ax = fig.add_subplot(111)\n",
    "#ax.plot(thedays[0:len(y)],y,\"*\",label=\"Actual\",linewidth=0)\n",
    "dout=70\n",
    "plt.bar(thedays[0:len(y)],y)\n",
    "ax.plot(thedays[0:len(range(9,dout))],fit2(range(9,dout)),label=\"2nd\",linewidth=2)\n",
    "ax.plot(thedays[0:len(range(9,dout))],fit4(range(9,dout)),label=\"4th\",linewidth=2)\n",
    "ax.plot(thedays[0:len(range(9,dout))],fit5(range(9,dout)),label=\"5th\",linewidth=2)\n",
    "\n",
    "ax.plot(thedays[0:len(range(9,dout))],fit6(range(9,dout)),label=\"6th\",linewidth=2)\n",
    "\n",
    "ax.plot(thedays[0:len(range(9,dout))],fit10(range(9,dout)),label=\"10th\",linewidth=2)\n",
    "\n",
    "ax.xaxis.set_major_locator(sundays)\n",
    "ax.set_xlabel('Date')\n",
    "\n",
    "ax.set_title(\"Colorado Covid19 Cases and Models\")\n",
    "\n",
    "\n",
    "ax.set_ylabel('New Cases')\n",
    "ax.legend()\n",
    "fig.autofmt_xdate()\n",
    "fig.legend\n",
    "\n",
    "ax.set(ylim=(0, 1000))\n",
    "#help(save)\n",
    "#help(fig)\n"
   ]
  },
  {
   "cell_type": "code",
   "execution_count": 29,
   "metadata": {},
   "outputs": [
    {
     "data": {
      "text/plain": [
       "array([61.01579021+0.j        , 45.48726092+9.42486095j,\n",
       "       45.48726092-9.42486095j, 14.9933938 +4.21811752j,\n",
       "       14.9933938 -4.21811752j,  9.45275289+0.j        ])"
      ]
     },
     "execution_count": 29,
     "metadata": {},
     "output_type": "execute_result"
    }
   ],
   "source": [
    "np.roots(fit6)"
   ]
  },
  {
   "cell_type": "code",
   "execution_count": 30,
   "metadata": {},
   "outputs": [
    {
     "data": {
      "text/plain": [
       "array([59.48991832+1.8457545j , 59.48991832-1.8457545j ,\n",
       "       48.13049006+5.04175996j, 48.13049006-5.04175996j,\n",
       "       33.33395486+7.81277336j, 33.33395486-7.81277336j,\n",
       "       17.53935405+2.18925707j, 17.53935405-2.18925707j,\n",
       "       11.30799588+0.j        ,  9.27863581+0.j        ])"
      ]
     },
     "execution_count": 30,
     "metadata": {},
     "output_type": "execute_result"
    }
   ],
   "source": [
    "np.roots(fit10)\n",
    "\n"
   ]
  },
  {
   "cell_type": "code",
   "execution_count": 31,
   "metadata": {},
   "outputs": [
    {
     "data": {
      "text/plain": [
       "array([115.97056813,  11.24958279])"
      ]
     },
     "execution_count": 31,
     "metadata": {},
     "output_type": "execute_result"
    }
   ],
   "source": [
    "np.roots(fit2)"
   ]
  },
  {
   "cell_type": "code",
   "execution_count": null,
   "metadata": {},
   "outputs": [],
   "source": []
  }
 ],
 "metadata": {
  "kernelspec": {
   "display_name": "Python 3",
   "language": "python",
   "name": "python3"
  },
  "language_info": {
   "codemirror_mode": {
    "name": "ipython",
    "version": 3
   },
   "file_extension": ".py",
   "mimetype": "text/x-python",
   "name": "python",
   "nbconvert_exporter": "python",
   "pygments_lexer": "ipython3",
   "version": "3.6.9"
  }
 },
 "nbformat": 4,
 "nbformat_minor": 2
}
