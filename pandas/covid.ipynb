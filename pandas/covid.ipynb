{
 "cells": [
  {
   "cell_type": "code",
   "execution_count": 1,
   "metadata": {},
   "outputs": [],
   "source": [
    "#starts on March 9\n",
    "x=open(\"pand\",\"r\")\n",
    "dat=x.readlines()\n"
   ]
  },
  {
   "cell_type": "code",
   "execution_count": 2,
   "metadata": {},
   "outputs": [
    {
     "data": {
      "text/plain": [
       "[' 9 5\\n',\n",
       " '10 6\\n',\n",
       " '11 19\\n',\n",
       " '12 10\\n',\n",
       " '13 28\\n',\n",
       " '14 32\\n',\n",
       " '15 34\\n',\n",
       " '16 37\\n',\n",
       " '17 29\\n',\n",
       " '18 67\\n',\n",
       " '19 86\\n',\n",
       " '20 114\\n',\n",
       " '21 115\\n',\n",
       " '22 126\\n',\n",
       " '23 190\\n',\n",
       " '24 175\\n',\n",
       " '25 330\\n',\n",
       " '26 296\\n',\n",
       " '27 327\\n',\n",
       " '28 242\\n',\n",
       " '29 333\\n',\n",
       " '30 328\\n',\n",
       " '31 385\\n',\n",
       " '32 400\\n',\n",
       " '33 449\\n',\n",
       " '34 393\\n',\n",
       " '35 385\\n',\n",
       " '36 221\\n',\n",
       " '37 259\\n',\n",
       " '38 232\\n',\n",
       " '39 544\\n',\n",
       " '40 305\\n',\n",
       " '41 392\\n',\n",
       " '42 410\\n',\n",
       " '43 376\\n',\n",
       " '44 241']"
      ]
     },
     "execution_count": 2,
     "metadata": {},
     "output_type": "execute_result"
    }
   ],
   "source": [
    "dat\n"
   ]
  },
  {
   "cell_type": "code",
   "execution_count": 3,
   "metadata": {},
   "outputs": [],
   "source": [
    "import numpy as np\n",
    "x=np.zeros(len(dat))\n",
    "y=np.zeros(len(dat))\n",
    "k=0\n",
    "for d in dat:\n",
    "    d=d.split()\n",
    "    x[k]=(float(d[0]))\n",
    "    y[k]=(float(d[1]))\n",
    "    k=k+1\n",
    "    "
   ]
  },
  {
   "cell_type": "code",
   "execution_count": 4,
   "metadata": {},
   "outputs": [
    {
     "data": {
      "text/plain": [
       "array([  5.,   6.,  19.,  10.,  28.,  32.,  34.,  37.,  29.,  67.,  86.,\n",
       "       114., 115., 126., 190., 175., 330., 296., 327., 242., 333., 328.,\n",
       "       385., 400., 449., 393., 385., 221., 259., 232., 544., 305., 392.,\n",
       "       410., 376., 241.])"
      ]
     },
     "execution_count": 4,
     "metadata": {},
     "output_type": "execute_result"
    }
   ],
   "source": [
    "x\n",
    "y"
   ]
  },
  {
   "cell_type": "code",
   "execution_count": 5,
   "metadata": {},
   "outputs": [],
   "source": [
    "import matplotlib.pyplot as plt\n",
    "from scipy.optimize import curve_fit"
   ]
  },
  {
   "cell_type": "code",
   "execution_count": 6,
   "metadata": {},
   "outputs": [
    {
     "data": {
      "text/plain": [
       "[<matplotlib.lines.Line2D at 0x115c8f5da0>]"
      ]
     },
     "execution_count": 6,
     "metadata": {},
     "output_type": "execute_result"
    },
    {
     "data": {
      "image/png": "[encoded data removed]",
      "text/plain": [
       "<Figure size 432x288 with 1 Axes>"
      ]
     },
     "metadata": {
      "needs_background": "light"
     },
     "output_type": "display_data"
    }
   ],
   "source": [
    "plt.plot(x,y)"
   ]
  },
  {
   "cell_type": "code",
   "execution_count": 7,
   "metadata": {},
   "outputs": [],
   "source": [
    "def func(x, a, b, c,d,e):\n",
    "    return((((a*x+b)*x+c)*x+d)*x+e)"
   ]
  },
  {
   "cell_type": "code",
   "execution_count": 8,
   "metadata": {},
   "outputs": [],
   "source": [
    "popt, pcov = curve_fit(func, x,y)"
   ]
  },
  {
   "cell_type": "code",
   "execution_count": 9,
   "metadata": {},
   "outputs": [
    {
     "data": {
      "text/plain": [
       "array([ 1.83943757e-03, -2.33879953e-01,  9.95569974e+00, -1.51667903e+02,\n",
       "        7.50360211e+02])"
      ]
     },
     "execution_count": 9,
     "metadata": {},
     "output_type": "execute_result"
    }
   ],
   "source": [
    "popt\n"
   ]
  },
  {
   "cell_type": "code",
   "execution_count": 10,
   "metadata": {},
   "outputs": [
    {
     "data": {
      "text/plain": [
       "359.8366949343839"
      ]
     },
     "execution_count": 10,
     "metadata": {},
     "output_type": "execute_result"
    }
   ],
   "source": [
    "func(39, *popt)\n"
   ]
  },
  {
   "cell_type": "code",
   "execution_count": 11,
   "metadata": {},
   "outputs": [
    {
     "data": {
      "text/plain": [
       "array([ 3.33308318e+01,  1.37655829e+01,  2.28994032e+00, -2.03583747e+00,\n",
       "       -1.07345374e-01,  7.22396815e+00,  1.91508012e+01,  3.49099982e+01,\n",
       "        5.37825504e+01,  7.50935953e+01,  9.82124169e+01,  1.22552446e+02,\n",
       "        1.47571259e+02,  1.72770580e+02,  1.97696279e+02,  2.21938373e+02,\n",
       "        2.45131025e+02,  2.66952543e+02,  2.87125385e+02,  3.05416153e+02,\n",
       "        3.21635596e+02,  3.35638610e+02,  3.47324236e+02,  3.56635663e+02,\n",
       "        3.63560227e+02,  3.68129408e+02,  3.70418836e+02,  3.70548284e+02,\n",
       "        3.68681673e+02,  3.65027073e+02,  3.59836695e+02])"
      ]
     },
     "execution_count": 11,
     "metadata": {},
     "output_type": "execute_result"
    }
   ],
   "source": [
    "xin=range(9,40)\n",
    "func(xin,*popt)"
   ]
  },
  {
   "cell_type": "code",
   "execution_count": 12,
   "metadata": {},
   "outputs": [
    {
     "data": {
      "text/plain": [
       "[<matplotlib.lines.Line2D at 0x115c9efa58>]"
      ]
     },
     "execution_count": 12,
     "metadata": {},
     "output_type": "execute_result"
    },
    {
     "data": {
      "image/png": "[encoded data removed]",
      "text/plain": [
       "<Figure size 432x288 with 1 Axes>"
      ]
     },
     "metadata": {
      "needs_background": "light"
     },
     "output_type": "display_data"
    }
   ],
   "source": [
    "plt.plot(range(9,40),func(range(9,40),*popt))"
   ]
  },
  {
   "cell_type": "code",
   "execution_count": 13,
   "metadata": {},
   "outputs": [
    {
     "data": {
      "text/plain": [
       "0.36787944117144233"
      ]
     },
     "execution_count": 13,
     "metadata": {},
     "output_type": "execute_result"
    }
   ],
   "source": [
    "import numpy as np\n",
    "from math import exp\n",
    "\n",
    "def f2(x, a, b):\n",
    "    return a * np.exp(-b * x)\n",
    "f2(1,1,1)"
   ]
  },
  {
   "cell_type": "code",
   "execution_count": 14,
   "metadata": {},
   "outputs": [
    {
     "name": "stderr",
     "output_type": "stream",
     "text": [
      "/opt/intel/intelpython3/lib/python3.6/site-packages/ipykernel_launcher.py:5: RuntimeWarning: overflow encountered in exp\n",
      "  \"\"\"\n"
     ]
    }
   ],
   "source": [
    "popt, pcov = curve_fit(f2,x,y,maxfev=2000)\n"
   ]
  },
  {
   "cell_type": "code",
   "execution_count": 15,
   "metadata": {},
   "outputs": [
    {
     "data": {
      "text/plain": [
       "array([ 6.03056631e+01, -4.58041090e-02])"
      ]
     },
     "execution_count": 15,
     "metadata": {},
     "output_type": "execute_result"
    }
   ],
   "source": [
    "popt\n"
   ]
  },
  {
   "cell_type": "code",
   "execution_count": 16,
   "metadata": {},
   "outputs": [
    {
     "data": {
      "text/plain": [
       "95.34168325539218"
      ]
     },
     "execution_count": 16,
     "metadata": {},
     "output_type": "execute_result"
    }
   ],
   "source": [
    "f2(10,*popt)"
   ]
  },
  {
   "cell_type": "code",
   "execution_count": 17,
   "metadata": {},
   "outputs": [
    {
     "name": "stdout",
     "output_type": "stream",
     "text": [
      "9 91.07314691848377\n",
      "10 95.34168325539218\n",
      "11 99.81028298174093\n",
      "12 104.48832293226563\n",
      "13 109.38561942755648\n",
      "14 114.5124488724606\n",
      "15 119.87956931991778\n",
      "16 125.49824304547833\n",
      "17 131.3802601798733\n",
      "18 137.53796344922694\n",
      "19 143.98427407482643\n",
      "20 150.73271888679594\n",
      "21 157.79745870857\n",
      "22 165.19331807172804\n",
      "23 172.93581632354298\n",
      "24 181.041200192519\n",
      "25 189.52647788025467\n",
      "26 198.4094547511675\n",
      "27 207.70877069497246\n",
      "28 217.44393924031374\n",
      "29 227.6353885016263\n",
      "30 238.30450404514826\n",
      "31 249.47367376403506\n",
      "32 261.1663348567385\n",
      "33 273.4070230072313\n",
      "34 286.2214238702751\n",
      "35 299.63642696976694\n",
      "36 313.68018212326626\n",
      "37 328.3821585110995\n",
      "38 343.77320651399407\n",
      "39 359.88562244899987\n",
      "40 376.75321633953985\n",
      "41 394.4113828617956\n",
      "42 412.8971756163028\n",
      "43 432.2493848806051\n",
      "44 452.5086190061221\n",
      "45 473.71738963003344\n",
      "46 495.9202008809841\n",
      "47 519.1636427658035\n",
      "48 543.4964889331936\n",
      "49 568.9697990195351\n"
     ]
    }
   ],
   "source": [
    "for xin in range(9,50):\n",
    "    print(xin,f2(xin,*popt))"
   ]
  },
  {
   "cell_type": "code",
   "execution_count": 20,
   "metadata": {},
   "outputs": [],
   "source": [
    "p=np.polyfit(x,y,6)\n",
    "p4=np.polyfit(x,y,4)\n",
    "p5=np.polyfit(x,y,5)\n",
    "p10=np.polyfit(x,y,10)"
   ]
  },
  {
   "cell_type": "code",
   "execution_count": 21,
   "metadata": {},
   "outputs": [
    {
     "data": {
      "text/plain": [
       "[<matplotlib.lines.Line2D at 0x115cc18470>,\n",
       " <matplotlib.lines.Line2D at 0x115cc185c0>,\n",
       " <matplotlib.lines.Line2D at 0x115cc18710>,\n",
       " <matplotlib.lines.Line2D at 0x115cc18860>]"
      ]
     },
     "execution_count": 21,
     "metadata": {},
     "output_type": "execute_result"
    },
    {
     "data": {
      "image/png": "[encoded data removed]",
      "text/plain": [
       "<Figure size 432x288 with 1 Axes>"
      ]
     },
     "metadata": {
      "needs_background": "light"
     },
     "output_type": "display_data"
    }
   ],
   "source": [
    "fit6=np.poly1d(p)\n",
    "fit4=np.poly1d(p4)\n",
    "fit5=np.poly1d(p4)\n",
    "fit10=np.poly1d(p10)\n",
    "\n",
    "\n",
    "#plt.plot(range(9,46),func(range(9,46),*popt))\n",
    "plt.plot(range(9,44),fit6(range(9,44)),x,y,range(9,44),fit4(range(9,44)),range(9,44),fit5(range(9,44)))"
   ]
  },
  {
   "cell_type": "code",
   "execution_count": 22,
   "metadata": {},
   "outputs": [
    {
     "data": {
      "text/plain": [
       "array([[ 9.00000000e+00,  3.33308318e+01],\n",
       "       [ 1.00000000e+01,  1.37655830e+01],\n",
       "       [ 1.10000000e+01,  2.28994036e+00],\n",
       "       [ 1.20000000e+01, -2.03583742e+00],\n",
       "       [ 1.30000000e+01, -1.07345307e-01],\n",
       "       [ 1.40000000e+01,  7.22396824e+00],\n",
       "       [ 1.50000000e+01,  1.91508013e+01],\n",
       "       [ 1.60000000e+01,  3.49099984e+01],\n",
       "       [ 1.70000000e+01,  5.37825506e+01],\n",
       "       [ 1.80000000e+01,  7.50935955e+01],\n",
       "       [ 1.90000000e+01,  9.82124172e+01],\n",
       "       [ 2.00000000e+01,  1.22552446e+02],\n",
       "       [ 2.10000000e+01,  1.47571259e+02],\n",
       "       [ 2.20000000e+01,  1.72770581e+02],\n",
       "       [ 2.30000000e+01,  1.97696280e+02],\n",
       "       [ 2.40000000e+01,  2.21938374e+02],\n",
       "       [ 2.50000000e+01,  2.45131026e+02],\n",
       "       [ 2.60000000e+01,  2.66952544e+02],\n",
       "       [ 2.70000000e+01,  2.87125387e+02],\n",
       "       [ 2.80000000e+01,  3.05416155e+02],\n",
       "       [ 2.90000000e+01,  3.21635598e+02],\n",
       "       [ 3.00000000e+01,  3.35638611e+02],\n",
       "       [ 3.10000000e+01,  3.47324238e+02],\n",
       "       [ 3.20000000e+01,  3.56635665e+02],\n",
       "       [ 3.30000000e+01,  3.63560229e+02],\n",
       "       [ 3.40000000e+01,  3.68129411e+02],\n",
       "       [ 3.50000000e+01,  3.70418839e+02],\n",
       "       [ 3.60000000e+01,  3.70548287e+02],\n",
       "       [ 3.70000000e+01,  3.68681678e+02],\n",
       "       [ 3.80000000e+01,  3.65027077e+02],\n",
       "       [ 3.90000000e+01,  3.59836700e+02]])"
      ]
     },
     "execution_count": 22,
     "metadata": {},
     "output_type": "execute_result"
    }
   ],
   "source": [
    "np.column_stack((range(9,40),fit4(range(9,40))))\n"
   ]
  },
  {
   "cell_type": "code",
   "execution_count": 23,
   "metadata": {
    "scrolled": true
   },
   "outputs": [
    {
     "data": {
      "text/plain": [
       "array([[  9.        , -21.14728274],\n",
       "       [ 10.        ,  20.89193826],\n",
       "       [ 11.        ,  36.44575426],\n",
       "       [ 12.        ,  36.67683659],\n",
       "       [ 13.        ,  30.04368483],\n",
       "       [ 14.        ,  22.68046986],\n",
       "       [ 15.        ,  18.75212302],\n",
       "       [ 16.        ,  20.78467132],\n",
       "       [ 17.        ,  29.97081865],\n",
       "       [ 18.        ,  46.45077317],\n",
       "       [ 19.        ,  69.56832063],\n",
       "       [ 20.        ,  98.10214386],\n",
       "       [ 21.        , 130.47238826],\n",
       "       [ 22.        , 164.92247338],\n",
       "       [ 23.        , 199.67615054],\n",
       "       [ 24.        , 233.06980656],\n",
       "       [ 25.        , 263.66001346],\n",
       "       [ 26.        , 290.30632434],\n",
       "       [ 27.        , 312.22931521],\n",
       "       [ 28.        , 329.04387299],\n",
       "       [ 29.        , 340.76772946],\n",
       "       [ 30.        , 347.80524137],\n",
       "       [ 31.        , 350.90641655],\n",
       "       [ 32.        , 351.10118612],\n",
       "       [ 33.        , 349.60892272],\n",
       "       [ 34.        , 347.72320487],\n",
       "       [ 35.        , 346.67182731],\n",
       "       [ 36.        , 347.45205745],\n",
       "       [ 37.        , 350.64113789],\n",
       "       [ 38.        , 356.18203498],\n",
       "       [ 39.        , 363.14443344]])"
      ]
     },
     "execution_count": 23,
     "metadata": {},
     "output_type": "execute_result"
    }
   ],
   "source": [
    "np.column_stack((range(9,40),fit6(range(9,40))))"
   ]
  },
  {
   "cell_type": "code",
   "execution_count": 24,
   "metadata": {},
   "outputs": [
    {
     "data": {
      "text/plain": [
       "[<matplotlib.lines.Line2D at 0x115cc7db38>]"
      ]
     },
     "execution_count": 24,
     "metadata": {},
     "output_type": "execute_result"
    },
    {
     "data": {
      "image/png": "[encoded data removed]",
      "text/plain": [
       "<Figure size 432x288 with 1 Axes>"
      ]
     },
     "metadata": {
      "needs_background": "light"
     },
     "output_type": "display_data"
    }
   ],
   "source": [
    "import pylab as mp\n",
    "mp.plot(x,y)\n",
    "mp.plot(range(9,44), fit4(range(9,44)))\n",
    "mp.plot(range(9,44), fit6(range(9,44)))\n",
    "\n",
    "\n",
    "\n",
    "\n",
    "\n",
    "\n"
   ]
  },
  {
   "cell_type": "code",
   "execution_count": 25,
   "metadata": {},
   "outputs": [],
   "source": [
    "import datetime\n",
    "start=datetime.date(2020,2,29)\n",
    "thedays=[]\n",
    "for xd in range(9,100):\n",
    "    day=start+datetime.timedelta(days=xd)\n",
    "    thedays.append(day)"
   ]
  },
  {
   "cell_type": "code",
   "execution_count": 53,
   "metadata": {},
   "outputs": [
    {
     "data": {
      "text/plain": [
       "[datetime.date(2020, 3, 9),\n",
       " datetime.date(2020, 3, 10),\n",
       " datetime.date(2020, 3, 11),\n",
       " datetime.date(2020, 3, 12),\n",
       " datetime.date(2020, 3, 13),\n",
       " datetime.date(2020, 3, 14),\n",
       " datetime.date(2020, 3, 15),\n",
       " datetime.date(2020, 3, 16),\n",
       " datetime.date(2020, 3, 17),\n",
       " datetime.date(2020, 3, 18),\n",
       " datetime.date(2020, 3, 19),\n",
       " datetime.date(2020, 3, 20),\n",
       " datetime.date(2020, 3, 21),\n",
       " datetime.date(2020, 3, 22),\n",
       " datetime.date(2020, 3, 23),\n",
       " datetime.date(2020, 3, 24),\n",
       " datetime.date(2020, 3, 25),\n",
       " datetime.date(2020, 3, 26),\n",
       " datetime.date(2020, 3, 27),\n",
       " datetime.date(2020, 3, 28),\n",
       " datetime.date(2020, 3, 29),\n",
       " datetime.date(2020, 3, 30),\n",
       " datetime.date(2020, 3, 31),\n",
       " datetime.date(2020, 4, 1),\n",
       " datetime.date(2020, 4, 2),\n",
       " datetime.date(2020, 4, 3),\n",
       " datetime.date(2020, 4, 4),\n",
       " datetime.date(2020, 4, 5),\n",
       " datetime.date(2020, 4, 6),\n",
       " datetime.date(2020, 4, 7),\n",
       " datetime.date(2020, 4, 8),\n",
       " datetime.date(2020, 4, 9),\n",
       " datetime.date(2020, 4, 10),\n",
       " datetime.date(2020, 4, 11),\n",
       " datetime.date(2020, 4, 12),\n",
       " datetime.date(2020, 4, 13),\n",
       " datetime.date(2020, 4, 14),\n",
       " datetime.date(2020, 4, 15),\n",
       " datetime.date(2020, 4, 16),\n",
       " datetime.date(2020, 4, 17),\n",
       " datetime.date(2020, 4, 18),\n",
       " datetime.date(2020, 4, 19),\n",
       " datetime.date(2020, 4, 20),\n",
       " datetime.date(2020, 4, 21),\n",
       " datetime.date(2020, 4, 22),\n",
       " datetime.date(2020, 4, 23),\n",
       " datetime.date(2020, 4, 24),\n",
       " datetime.date(2020, 4, 25),\n",
       " datetime.date(2020, 4, 26),\n",
       " datetime.date(2020, 4, 27),\n",
       " datetime.date(2020, 4, 28),\n",
       " datetime.date(2020, 4, 29),\n",
       " datetime.date(2020, 4, 30),\n",
       " datetime.date(2020, 5, 1),\n",
       " datetime.date(2020, 5, 2),\n",
       " datetime.date(2020, 5, 3),\n",
       " datetime.date(2020, 5, 4),\n",
       " datetime.date(2020, 5, 5),\n",
       " datetime.date(2020, 5, 6),\n",
       " datetime.date(2020, 5, 7),\n",
       " datetime.date(2020, 5, 8),\n",
       " datetime.date(2020, 5, 9),\n",
       " datetime.date(2020, 5, 10),\n",
       " datetime.date(2020, 5, 11),\n",
       " datetime.date(2020, 5, 12),\n",
       " datetime.date(2020, 5, 13),\n",
       " datetime.date(2020, 5, 14),\n",
       " datetime.date(2020, 5, 15),\n",
       " datetime.date(2020, 5, 16),\n",
       " datetime.date(2020, 5, 17),\n",
       " datetime.date(2020, 5, 18),\n",
       " datetime.date(2020, 5, 19),\n",
       " datetime.date(2020, 5, 20),\n",
       " datetime.date(2020, 5, 21),\n",
       " datetime.date(2020, 5, 22),\n",
       " datetime.date(2020, 5, 23),\n",
       " datetime.date(2020, 5, 24),\n",
       " datetime.date(2020, 5, 25),\n",
       " datetime.date(2020, 5, 26),\n",
       " datetime.date(2020, 5, 27),\n",
       " datetime.date(2020, 5, 28),\n",
       " datetime.date(2020, 5, 29),\n",
       " datetime.date(2020, 5, 30),\n",
       " datetime.date(2020, 5, 31),\n",
       " datetime.date(2020, 6, 1),\n",
       " datetime.date(2020, 6, 2),\n",
       " datetime.date(2020, 6, 3),\n",
       " datetime.date(2020, 6, 4),\n",
       " datetime.date(2020, 6, 5),\n",
       " datetime.date(2020, 6, 6),\n",
       " datetime.date(2020, 6, 7)]"
      ]
     },
     "execution_count": 53,
     "metadata": {},
     "output_type": "execute_result"
    }
   ],
   "source": [
    "thedays"
   ]
  },
  {
   "cell_type": "code",
   "execution_count": 26,
   "metadata": {},
   "outputs": [
    {
     "data": {
      "text/plain": [
       "[<matplotlib.lines.Line2D at 0x115ccb59b0>]"
      ]
     },
     "execution_count": 26,
     "metadata": {},
     "output_type": "execute_result"
    },
    {
     "data": {
      "image/png": "[encoded data removed]",
      "text/plain": [
       "<Figure size 432x288 with 1 Axes>"
      ]
     },
     "metadata": {
      "needs_background": "light"
     },
     "output_type": "display_data"
    }
   ],
   "source": [
    "import pylab as mp\n",
    "mp.plot(thedays[0:len(y)],y)\n",
    "\n"
   ]
  },
  {
   "cell_type": "code",
   "execution_count": 27,
   "metadata": {},
   "outputs": [
    {
     "name": "stdout",
     "output_type": "stream",
     "text": [
      "hello\n"
     ]
    }
   ],
   "source": [
    "print(\"hello\")\n"
   ]
  },
  {
   "cell_type": "code",
   "execution_count": 37,
   "metadata": {},
   "outputs": [
    {
     "data": {
      "text/plain": [
       "[(0, 550)]"
      ]
     },
     "execution_count": 37,
     "metadata": {},
     "output_type": "execute_result"
    },
    {
     "data": {
      "image/png": "[encoded data removed]",
      "text/plain": [
       "<Figure size 432x288 with 1 Axes>"
      ]
     },
     "metadata": {
      "needs_background": "light"
     },
     "output_type": "display_data"
    }
   ],
   "source": [
    "from pylab import figure, show,save\n",
    "\n",
    "from matplotlib.dates import MONDAY, SATURDAY,SUNDAY\n",
    "from matplotlib.dates import MonthLocator, WeekdayLocator, DateFormatter\n",
    "sundays   = WeekdayLocator(SUNDAY)\n",
    "fig = figure()\n",
    "ax = fig.add_subplot(111)\n",
    "ax.plot(thedays[0:len(y)],y,\"*\",label=\"Actual\",linewidth=0)\n",
    "dout=60\n",
    "ax.plot(thedays[0:len(range(9,dout))],fit4(range(9,dout)),label=\"4th\",linewidth=2)\n",
    "ax.plot(thedays[0:len(range(9,dout))],fit6(range(9,dout)),label=\"6th\",linewidth=2)\n",
    "ax.plot(thedays[0:len(range(9,dout))],fit10(range(9,dout)),label=\"10th\",linewidth=2)\n",
    "\n",
    "ax.xaxis.set_major_locator(sundays)\n",
    "ax.set_xlabel('Date')\n",
    "ax.set_ylabel('New Cases')\n",
    "ax.legend()\n",
    "fig.autofmt_xdate()\n",
    "fig.legend\n",
    "\n",
    "ax.set(ylim=(0, 550))\n"
   ]
  },
  {
   "cell_type": "code",
   "execution_count": 34,
   "metadata": {},
   "outputs": [
    {
     "data": {
      "text/plain": [
       "array([46.30059496+0.j        , 37.31444242+9.15839625j,\n",
       "       37.31444242-9.15839625j, 15.36600201+2.28496829j,\n",
       "       15.36600201-2.28496829j,  9.40703721+0.j        ])"
      ]
     },
     "execution_count": 34,
     "metadata": {},
     "output_type": "execute_result"
    }
   ],
   "source": [
    "np.roots(fit6)"
   ]
  },
  {
   "cell_type": "code",
   "execution_count": 35,
   "metadata": {},
   "outputs": [
    {
     "data": {
      "text/plain": [
       "array([47.69364377+0.j        , 45.16381505+0.j        ,\n",
       "       37.81146535+4.49727187j, 37.81146535-4.49727187j,\n",
       "       24.55890001+7.37566871j, 24.55890001-7.37566871j,\n",
       "       15.45294803+2.22301013j, 15.45294803-2.22301013j,\n",
       "       10.40399541+0.j        ,  9.20304738+0.j        ])"
      ]
     },
     "execution_count": 35,
     "metadata": {},
     "output_type": "execute_result"
    }
   ],
   "source": [
    "np.roots(fit10)\n",
    "\n"
   ]
  }
 ],
 "metadata": {
  "kernelspec": {
   "display_name": "Python 3",
   "language": "python",
   "name": "python3"
  },
  "language_info": {
   "codemirror_mode": {
    "name": "ipython",
    "version": 3
   },
   "file_extension": ".py",
   "mimetype": "text/x-python",
   "name": "python",
   "nbconvert_exporter": "python",
   "pygments_lexer": "ipython3",
   "version": "3.6.9"
  }
 },
 "nbformat": 4,
 "nbformat_minor": 2
}
