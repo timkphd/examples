{
 "cells": [
  {
   "cell_type": "code",
   "execution_count": 1,
   "metadata": {},
   "outputs": [],
   "source": [
    "#starts on March 9\n",
    "x=open(\"pand\",\"r\")\n",
    "dat=x.readlines()\n"
   ]
  },
  {
   "cell_type": "code",
   "execution_count": 2,
   "metadata": {},
   "outputs": [
    {
     "data": {
      "text/plain": [
       "[' 9 5\\n',\n",
       " '10 6\\n',\n",
       " '11 19\\n',\n",
       " '12 10\\n',\n",
       " '13 28\\n',\n",
       " '14 32\\n',\n",
       " '15 34\\n',\n",
       " '16 37\\n',\n",
       " '17 29\\n',\n",
       " '18 67\\n',\n",
       " '19 86\\n',\n",
       " '20 114\\n',\n",
       " '21 115\\n',\n",
       " '22 126\\n',\n",
       " '23 190\\n',\n",
       " '24 175\\n',\n",
       " '25 330\\n',\n",
       " '26 296\\n',\n",
       " '27 327\\n',\n",
       " '28 242\\n',\n",
       " '29 333\\n',\n",
       " '30 328\\n',\n",
       " '31 385\\n',\n",
       " '32 400\\n',\n",
       " '33 449\\n',\n",
       " '34 393\\n',\n",
       " '35 385\\n',\n",
       " '36 221\\n',\n",
       " '37 259\\n',\n",
       " '38 232\\n',\n",
       " '39 544\\n',\n",
       " '40 305\\n',\n",
       " '41 392']"
      ]
     },
     "execution_count": 2,
     "metadata": {},
     "output_type": "execute_result"
    }
   ],
   "source": [
    "dat\n"
   ]
  },
  {
   "cell_type": "code",
   "execution_count": 3,
   "metadata": {},
   "outputs": [],
   "source": [
    "import numpy as np\n",
    "x=np.zeros(len(dat))\n",
    "y=np.zeros(len(dat))\n",
    "k=0\n",
    "for d in dat:\n",
    "    d=d.split()\n",
    "    x[k]=(float(d[0]))\n",
    "    y[k]=(float(d[1]))\n",
    "    k=k+1\n",
    "    "
   ]
  },
  {
   "cell_type": "code",
   "execution_count": 4,
   "metadata": {},
   "outputs": [
    {
     "data": {
      "text/plain": [
       "array([  5.,   6.,  19.,  10.,  28.,  32.,  34.,  37.,  29.,  67.,  86.,\n",
       "       114., 115., 126., 190., 175., 330., 296., 327., 242., 333., 328.,\n",
       "       385., 400., 449., 393., 385., 221., 259., 232., 544., 305., 392.])"
      ]
     },
     "execution_count": 4,
     "metadata": {},
     "output_type": "execute_result"
    }
   ],
   "source": [
    "x\n",
    "y"
   ]
  },
  {
   "cell_type": "code",
   "execution_count": 5,
   "metadata": {},
   "outputs": [],
   "source": [
    "import matplotlib.pyplot as plt\n",
    "from scipy.optimize import curve_fit"
   ]
  },
  {
   "cell_type": "code",
   "execution_count": 6,
   "metadata": {},
   "outputs": [
    {
     "data": {
      "text/plain": [
       "[<matplotlib.lines.Line2D at 0x115c22fc18>]"
      ]
     },
     "execution_count": 6,
     "metadata": {},
     "output_type": "execute_result"
    },
    {
     "data": {
      "image/png": "[encoded data removed]",
      "text/plain": [
       "<Figure size 432x288 with 1 Axes>"
      ]
     },
     "metadata": {
      "needs_background": "light"
     },
     "output_type": "display_data"
    }
   ],
   "source": [
    "plt.plot(x,y)"
   ]
  },
  {
   "cell_type": "code",
   "execution_count": 7,
   "metadata": {},
   "outputs": [],
   "source": [
    "def func(x, a, b, c,d,e):\n",
    "    return((((a*x+b)*x+c)*x+d)*x+e)"
   ]
  },
  {
   "cell_type": "code",
   "execution_count": 8,
   "metadata": {},
   "outputs": [],
   "source": [
    "popt, pcov = curve_fit(func, x,y)"
   ]
  },
  {
   "cell_type": "code",
   "execution_count": 9,
   "metadata": {},
   "outputs": [
    {
     "data": {
      "text/plain": [
       "array([ 2.85682389e-03, -3.34190082e-01,  1.34143949e+01, -2.00504067e+02,\n",
       "        9.86001105e+02])"
      ]
     },
     "execution_count": 9,
     "metadata": {},
     "output_type": "execute_result"
    }
   ],
   "source": [
    "popt\n"
   ]
  },
  {
   "cell_type": "code",
   "execution_count": 10,
   "metadata": {},
   "outputs": [
    {
     "data": {
      "text/plain": [
       "354.90909609775986"
      ]
     },
     "execution_count": 10,
     "metadata": {},
     "output_type": "execute_result"
    }
   ],
   "source": [
    "func(39, *popt)\n"
   ]
  },
  {
   "cell_type": "code",
   "execution_count": 11,
   "metadata": {},
   "outputs": [
    {
     "data": {
      "text/plain": [
       "array([ 43.14953746,  16.77807783,   0.61790528,  -6.61620104,\n",
       "        -6.14089824,   0.89572035,  13.41412519,  30.40335048,\n",
       "        50.92099423,  74.0932182 ,  99.11474793, 125.24887274,\n",
       "       151.82744571, 178.2508837 , 203.98816734, 228.57684104,\n",
       "       251.62301298, 272.80135511, 291.85510316, 308.59605663,\n",
       "       322.90457879, 334.72959668, 344.08860112, 351.06764672,\n",
       "       355.82135182, 358.57289858, 359.61403289, 359.30506446,\n",
       "       358.07486673, 356.42087694, 354.9090961 ])"
      ]
     },
     "execution_count": 11,
     "metadata": {},
     "output_type": "execute_result"
    }
   ],
   "source": [
    "xin=range(9,40)\n",
    "func(xin,*popt)"
   ]
  },
  {
   "cell_type": "code",
   "execution_count": 12,
   "metadata": {},
   "outputs": [
    {
     "data": {
      "text/plain": [
       "[<matplotlib.lines.Line2D at 0x115c317f98>]"
      ]
     },
     "execution_count": 12,
     "metadata": {},
     "output_type": "execute_result"
    },
    {
     "data": {
      "image/png": "[encoded data removed]",
      "text/plain": [
       "<Figure size 432x288 with 1 Axes>"
      ]
     },
     "metadata": {
      "needs_background": "light"
     },
     "output_type": "display_data"
    }
   ],
   "source": [
    "plt.plot(range(9,40),func(range(9,40),*popt))"
   ]
  },
  {
   "cell_type": "code",
   "execution_count": 14,
   "metadata": {},
   "outputs": [
    {
     "data": {
      "text/plain": [
       "0.36787944117144233"
      ]
     },
     "execution_count": 14,
     "metadata": {},
     "output_type": "execute_result"
    }
   ],
   "source": [
    "import numpy as np\n",
    "from math import exp\n",
    "\n",
    "def f2(x, a, b):\n",
    "    return a * np.exp(-b * x)\n",
    "f2(1,1,1)"
   ]
  },
  {
   "cell_type": "code",
   "execution_count": 15,
   "metadata": {},
   "outputs": [
    {
     "name": "stderr",
     "output_type": "stream",
     "text": [
      "/opt/intel/intelpython3/lib/python3.6/site-packages/ipykernel_launcher.py:5: RuntimeWarning: overflow encountered in exp\n",
      "  \"\"\"\n"
     ]
    }
   ],
   "source": [
    "popt, pcov = curve_fit(f2,x,y,maxfev=2000)\n"
   ]
  },
  {
   "cell_type": "code",
   "execution_count": 16,
   "metadata": {},
   "outputs": [
    {
     "data": {
      "text/plain": [
       "array([46.42187895, -0.05599272])"
      ]
     },
     "execution_count": 16,
     "metadata": {},
     "output_type": "execute_result"
    }
   ],
   "source": [
    "popt\n"
   ]
  },
  {
   "cell_type": "code",
   "execution_count": 17,
   "metadata": {},
   "outputs": [
    {
     "data": {
      "text/plain": [
       "81.26359165699763"
      ]
     },
     "execution_count": 17,
     "metadata": {},
     "output_type": "execute_result"
    }
   ],
   "source": [
    "f2(10,*popt)"
   ]
  },
  {
   "cell_type": "code",
   "execution_count": 18,
   "metadata": {},
   "outputs": [
    {
     "name": "stdout",
     "output_type": "stream",
     "text": [
      "9 76.83846552509723\n",
      "10 81.26359165699763\n",
      "11 85.94356073961822\n",
      "12 90.89304917485038\n",
      "13 96.12757857836074\n",
      "14 101.66356445544041\n",
      "15 107.51836768009578\n",
      "16 113.71034893881918\n",
      "17 120.25892630977582\n",
      "18 127.18463615797491\n",
      "19 134.5091975373933\n",
      "20 142.25558030201603\n",
      "21 150.44807713939102\n",
      "22 159.11237975259502\n",
      "23 168.27565942951796\n",
      "24 177.96665225213118\n",
      "25 188.21574921295624\n",
      "26 199.0550915213399\n",
      "27 210.5186713984159\n",
      "28 222.6424386768477\n",
      "29 235.4644135396481\n",
      "30 249.02480575162647\n",
      "31 263.3661407573732\n",
      "32 278.53339304122517\n",
      "33 294.5741271674296\n",
      "34 311.5386469428093\n",
      "35 329.4801531697034\n",
      "36 348.4549104838976\n",
      "37 368.52242380074887\n",
      "38 389.7456249228395\n",
      "39 412.1910698943634\n",
      "40 435.92914772114904\n",
      "41 461.0343011108643\n",
      "42 487.58525992564915\n",
      "43 515.6652880792789\n",
      "44 545.3624446531336\n",
      "45 576.7698600498326\n",
      "46 609.9860280505513\n",
      "47 645.1151146919156\n",
      "48 682.267284931113\n",
      "49 721.5590481236416\n"
     ]
    }
   ],
   "source": [
    "for xin in range(9,50):\n",
    "    print(xin,f2(xin,*popt))"
   ]
  },
  {
   "cell_type": "code",
   "execution_count": 19,
   "metadata": {},
   "outputs": [],
   "source": [
    "p=np.polyfit(x,y,6)\n",
    "p\n",
    "p4=np.polyfit(x,y,4)\n",
    "p5=np.polyfit(x,y,5)"
   ]
  },
  {
   "cell_type": "code",
   "execution_count": 20,
   "metadata": {},
   "outputs": [
    {
     "data": {
      "text/plain": [
       "[<matplotlib.lines.Line2D at 0x115c3985c0>,\n",
       " <matplotlib.lines.Line2D at 0x115c398710>,\n",
       " <matplotlib.lines.Line2D at 0x115c398860>,\n",
       " <matplotlib.lines.Line2D at 0x115c3989b0>]"
      ]
     },
     "execution_count": 20,
     "metadata": {},
     "output_type": "execute_result"
    },
    {
     "data": {
      "image/png": "[encoded data removed]",
      "text/plain": [
       "<Figure size 432x288 with 1 Axes>"
      ]
     },
     "metadata": {
      "needs_background": "light"
     },
     "output_type": "display_data"
    }
   ],
   "source": [
    "fit6=np.poly1d(p)\n",
    "fit4=np.poly1d(p4)\n",
    "fit5=np.poly1d(p5)\n",
    "\n",
    "\n",
    "#plt.plot(range(9,46),func(range(9,46),*popt))\n",
    "plt.plot(range(9,44),fit6(range(9,44)),x,y,range(9,44),fit4(range(9,44)),range(9,44),fit5(range(9,44)))"
   ]
  },
  {
   "cell_type": "code",
   "execution_count": 21,
   "metadata": {},
   "outputs": [
    {
     "data": {
      "text/plain": [
       "array([[  9.        ,  43.14952386],\n",
       "       [ 10.        ,  16.77807085],\n",
       "       [ 11.        ,   0.61790335],\n",
       "       [ 12.        ,  -6.6161993 ],\n",
       "       [ 13.        ,  -6.14089402],\n",
       "       [ 14.        ,   0.89572607],\n",
       "       [ 15.        ,  13.41413159],\n",
       "       [ 16.        ,  30.4033569 ],\n",
       "       [ 17.        ,  50.92100016],\n",
       "       [ 18.        ,  74.09322326],\n",
       "       [ 19.        ,  99.11475186],\n",
       "       [ 20.        , 125.2488754 ],\n",
       "       [ 21.        , 151.82744705],\n",
       "       [ 22.        , 178.25088375],\n",
       "       [ 23.        , 203.9881662 ],\n",
       "       [ 24.        , 228.57683888],\n",
       "       [ 25.        , 251.62301001],\n",
       "       [ 26.        , 272.80135156],\n",
       "       [ 27.        , 291.85509929],\n",
       "       [ 28.        , 308.5960527 ],\n",
       "       [ 29.        , 322.90457506],\n",
       "       [ 30.        , 334.72959339],\n",
       "       [ 31.        , 344.08859849],\n",
       "       [ 32.        , 351.06764489],\n",
       "       [ 33.        , 355.82135091],\n",
       "       [ 34.        , 358.57289862],\n",
       "       [ 35.        , 359.61403383],\n",
       "       [ 36.        , 359.30506615],\n",
       "       [ 37.        , 358.07486893],\n",
       "       [ 38.        , 356.42087926],\n",
       "       [ 39.        , 354.90909803]])"
      ]
     },
     "execution_count": 21,
     "metadata": {},
     "output_type": "execute_result"
    }
   ],
   "source": [
    "np.column_stack((range(9,40),fit4(range(9,40))))\n"
   ]
  },
  {
   "cell_type": "code",
   "execution_count": 22,
   "metadata": {
    "scrolled": true
   },
   "outputs": [
    {
     "data": {
      "text/plain": [
       "array([[  9.        ,   0.51728396],\n",
       "       [ 10.        ,  11.24327684],\n",
       "       [ 11.        ,  17.37125255],\n",
       "       [ 12.        ,  20.70096778],\n",
       "       [ 13.        ,  22.89023029],\n",
       "       [ 14.        ,  25.41246612],\n",
       "       [ 15.        ,  29.52209124],\n",
       "       [ 16.        ,  36.22768771],\n",
       "       [ 17.        ,  46.27298438],\n",
       "       [ 18.        ,  60.12564198],\n",
       "       [ 19.        ,  77.97384282],\n",
       "       [ 20.        ,  99.73068489],\n",
       "       [ 21.        , 125.04638048],\n",
       "       [ 22.        , 153.32825933],\n",
       "       [ 23.        , 183.76857619],\n",
       "       [ 24.        , 215.38012293],\n",
       "       [ 25.        , 247.03964517],\n",
       "       [ 26.        , 277.53906328],\n",
       "       [ 27.        , 305.64449805],\n",
       "       [ 28.        , 330.16310064],\n",
       "       [ 29.        , 350.01768725],\n",
       "       [ 30.        , 364.32917806],\n",
       "       [ 31.        , 372.50684084],\n",
       "       [ 32.        , 374.34633894],\n",
       "       [ 33.        , 370.13558381],\n",
       "       [ 34.        , 360.76839202],\n",
       "       [ 35.        , 347.86594677],\n",
       "       [ 36.        , 333.90606385],\n",
       "       [ 37.        , 322.36026215],\n",
       "       [ 38.        , 317.83863862],\n",
       "       [ 39.        , 326.24254775]])"
      ]
     },
     "execution_count": 22,
     "metadata": {},
     "output_type": "execute_result"
    }
   ],
   "source": [
    "np.column_stack((range(9,40),fit6(range(9,40))))"
   ]
  },
  {
   "cell_type": "code",
   "execution_count": 23,
   "metadata": {},
   "outputs": [
    {
     "data": {
      "text/plain": [
       "[<matplotlib.lines.Line2D at 0x115c402dd8>]"
      ]
     },
     "execution_count": 23,
     "metadata": {},
     "output_type": "execute_result"
    },
    {
     "data": {
      "image/png": "[encoded data removed]",
      "text/plain": [
       "<Figure size 432x288 with 1 Axes>"
      ]
     },
     "metadata": {
      "needs_background": "light"
     },
     "output_type": "display_data"
    }
   ],
   "source": [
    "import pylab as mp\n",
    "mp.plot(x,y)\n",
    "mp.plot(range(9,44), fit4(range(9,44)))\n",
    "mp.plot(range(9,44), fit6(range(9,44)))\n",
    "\n",
    "\n",
    "\n",
    "\n",
    "\n",
    "\n"
   ]
  },
  {
   "cell_type": "code",
   "execution_count": 24,
   "metadata": {},
   "outputs": [],
   "source": [
    "import datetime\n",
    "start=datetime.date(2020,2,29)\n",
    "thedays=[]\n",
    "for xd in range(9,100):\n",
    "    day=start+datetime.timedelta(days=xd)\n",
    "    thedays.append(day)"
   ]
  },
  {
   "cell_type": "code",
   "execution_count": 25,
   "metadata": {},
   "outputs": [
    {
     "data": {
      "text/plain": [
       "[datetime.date(2020, 3, 9),\n",
       " datetime.date(2020, 3, 10),\n",
       " datetime.date(2020, 3, 11),\n",
       " datetime.date(2020, 3, 12),\n",
       " datetime.date(2020, 3, 13),\n",
       " datetime.date(2020, 3, 14),\n",
       " datetime.date(2020, 3, 15),\n",
       " datetime.date(2020, 3, 16),\n",
       " datetime.date(2020, 3, 17),\n",
       " datetime.date(2020, 3, 18),\n",
       " datetime.date(2020, 3, 19),\n",
       " datetime.date(2020, 3, 20),\n",
       " datetime.date(2020, 3, 21),\n",
       " datetime.date(2020, 3, 22),\n",
       " datetime.date(2020, 3, 23),\n",
       " datetime.date(2020, 3, 24),\n",
       " datetime.date(2020, 3, 25),\n",
       " datetime.date(2020, 3, 26),\n",
       " datetime.date(2020, 3, 27),\n",
       " datetime.date(2020, 3, 28),\n",
       " datetime.date(2020, 3, 29),\n",
       " datetime.date(2020, 3, 30),\n",
       " datetime.date(2020, 3, 31),\n",
       " datetime.date(2020, 4, 1),\n",
       " datetime.date(2020, 4, 2),\n",
       " datetime.date(2020, 4, 3),\n",
       " datetime.date(2020, 4, 4),\n",
       " datetime.date(2020, 4, 5),\n",
       " datetime.date(2020, 4, 6),\n",
       " datetime.date(2020, 4, 7),\n",
       " datetime.date(2020, 4, 8),\n",
       " datetime.date(2020, 4, 9),\n",
       " datetime.date(2020, 4, 10),\n",
       " datetime.date(2020, 4, 11),\n",
       " datetime.date(2020, 4, 12),\n",
       " datetime.date(2020, 4, 13),\n",
       " datetime.date(2020, 4, 14),\n",
       " datetime.date(2020, 4, 15),\n",
       " datetime.date(2020, 4, 16),\n",
       " datetime.date(2020, 4, 17),\n",
       " datetime.date(2020, 4, 18),\n",
       " datetime.date(2020, 4, 19),\n",
       " datetime.date(2020, 4, 20),\n",
       " datetime.date(2020, 4, 21),\n",
       " datetime.date(2020, 4, 22),\n",
       " datetime.date(2020, 4, 23),\n",
       " datetime.date(2020, 4, 24),\n",
       " datetime.date(2020, 4, 25),\n",
       " datetime.date(2020, 4, 26),\n",
       " datetime.date(2020, 4, 27),\n",
       " datetime.date(2020, 4, 28),\n",
       " datetime.date(2020, 4, 29),\n",
       " datetime.date(2020, 4, 30),\n",
       " datetime.date(2020, 5, 1),\n",
       " datetime.date(2020, 5, 2),\n",
       " datetime.date(2020, 5, 3),\n",
       " datetime.date(2020, 5, 4),\n",
       " datetime.date(2020, 5, 5),\n",
       " datetime.date(2020, 5, 6),\n",
       " datetime.date(2020, 5, 7),\n",
       " datetime.date(2020, 5, 8),\n",
       " datetime.date(2020, 5, 9),\n",
       " datetime.date(2020, 5, 10),\n",
       " datetime.date(2020, 5, 11),\n",
       " datetime.date(2020, 5, 12),\n",
       " datetime.date(2020, 5, 13),\n",
       " datetime.date(2020, 5, 14),\n",
       " datetime.date(2020, 5, 15),\n",
       " datetime.date(2020, 5, 16),\n",
       " datetime.date(2020, 5, 17),\n",
       " datetime.date(2020, 5, 18),\n",
       " datetime.date(2020, 5, 19),\n",
       " datetime.date(2020, 5, 20),\n",
       " datetime.date(2020, 5, 21),\n",
       " datetime.date(2020, 5, 22),\n",
       " datetime.date(2020, 5, 23),\n",
       " datetime.date(2020, 5, 24),\n",
       " datetime.date(2020, 5, 25),\n",
       " datetime.date(2020, 5, 26),\n",
       " datetime.date(2020, 5, 27),\n",
       " datetime.date(2020, 5, 28),\n",
       " datetime.date(2020, 5, 29),\n",
       " datetime.date(2020, 5, 30),\n",
       " datetime.date(2020, 5, 31),\n",
       " datetime.date(2020, 6, 1),\n",
       " datetime.date(2020, 6, 2),\n",
       " datetime.date(2020, 6, 3),\n",
       " datetime.date(2020, 6, 4),\n",
       " datetime.date(2020, 6, 5),\n",
       " datetime.date(2020, 6, 6),\n",
       " datetime.date(2020, 6, 7)]"
      ]
     },
     "execution_count": 25,
     "metadata": {},
     "output_type": "execute_result"
    }
   ],
   "source": [
    "thedays"
   ]
  },
  {
   "cell_type": "code",
   "execution_count": 26,
   "metadata": {},
   "outputs": [
    {
     "data": {
      "text/plain": [
       "[<matplotlib.lines.Line2D at 0x115c41e978>]"
      ]
     },
     "execution_count": 26,
     "metadata": {},
     "output_type": "execute_result"
    },
    {
     "data": {
      "image/png": "[encoded data removed]",
      "text/plain": [
       "<Figure size 432x288 with 1 Axes>"
      ]
     },
     "metadata": {
      "needs_background": "light"
     },
     "output_type": "display_data"
    }
   ],
   "source": [
    "import pylab as mp\n",
    "mp.plot(thedays[0:len(y)],y)\n",
    "\n"
   ]
  },
  {
   "cell_type": "code",
   "execution_count": 27,
   "metadata": {},
   "outputs": [
    {
     "name": "stdout",
     "output_type": "stream",
     "text": [
      "hello\n"
     ]
    }
   ],
   "source": [
    "print(\"hello\")\n"
   ]
  },
  {
   "cell_type": "code",
   "execution_count": 34,
   "metadata": {},
   "outputs": [
    {
     "data": {
      "text/plain": [
       "[(0, 550)]"
      ]
     },
     "execution_count": 34,
     "metadata": {},
     "output_type": "execute_result"
    },
    {
     "data": {
      "image/png": "[encoded data removed]",
      "text/plain": [
       "<Figure size 432x288 with 1 Axes>"
      ]
     },
     "metadata": {
      "needs_background": "light"
     },
     "output_type": "display_data"
    }
   ],
   "source": [
    "from pylab import figure, show,save\n",
    "\n",
    "from matplotlib.dates import MONDAY, SATURDAY,SUNDAY\n",
    "from matplotlib.dates import MonthLocator, WeekdayLocator, DateFormatter\n",
    "sundays   = WeekdayLocator(SUNDAY)\n",
    "fig = figure()\n",
    "ax = fig.add_subplot(111)\n",
    "ax.plot(thedays[0:len(y)],y,label=\"Actual\")\n",
    "dout=50\n",
    "ax.plot(thedays[0:len(range(9,dout))],fit4(range(9,dout)),label=\"4th\")\n",
    "ax.plot(thedays[0:len(range(9,dout))],fit6(range(9,dout)),label=\"6th\")\n",
    "ax.xaxis.set_major_locator(sundays)\n",
    "ax.set_xlabel('Date')\n",
    "ax.set_ylabel('New Cases')\n",
    "ax.legend()\n",
    "fig.autofmt_xdate()\n",
    "fig.legend\n",
    "\n",
    "ax.set(ylim=(0, 550))\n"
   ]
  },
  {
   "cell_type": "code",
   "execution_count": null,
   "metadata": {},
   "outputs": [],
   "source": []
  },
  {
   "cell_type": "code",
   "execution_count": null,
   "metadata": {},
   "outputs": [],
   "source": [
    "\n",
    "\n"
   ]
  },
  {
   "cell_type": "code",
   "execution_count": null,
   "metadata": {},
   "outputs": [],
   "source": []
  },
  {
   "cell_type": "code",
   "execution_count": null,
   "metadata": {},
   "outputs": [],
   "source": []
  },
  {
   "cell_type": "code",
   "execution_count": null,
   "metadata": {},
   "outputs": [],
   "source": []
  }
 ],
 "metadata": {
  "kernelspec": {
   "display_name": "Python 3",
   "language": "python",
   "name": "python3"
  },
  "language_info": {
   "codemirror_mode": {
    "name": "ipython",
    "version": 3
   },
   "file_extension": ".py",
   "mimetype": "text/x-python",
   "name": "python",
   "nbconvert_exporter": "python",
   "pygments_lexer": "ipython3",
   "version": "3.6.9"
  }
 },
 "nbformat": 4,
 "nbformat_minor": 2
}
