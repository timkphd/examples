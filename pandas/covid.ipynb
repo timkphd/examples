{
 "cells": [
  {
   "cell_type": "code",
   "execution_count": 12,
   "metadata": {},
   "outputs": [
    {
     "name": "stdout",
     "output_type": "stream",
     "text": [
      "hexagon.local\n"
     ]
    }
   ],
   "source": [
    "from socket import gethostname\n",
    "print(gethostname())\n",
    "\n"
   ]
  },
  {
   "cell_type": "code",
   "execution_count": 13,
   "metadata": {},
   "outputs": [
    {
     "data": {
      "text/plain": [
       "[' 9 5\\n',\n",
       " '10 6\\n',\n",
       " '11 19\\n',\n",
       " '12 10\\n',\n",
       " '13 28\\n',\n",
       " '14 32\\n',\n",
       " '15 34\\n',\n",
       " '16 37\\n',\n",
       " '17 29\\n',\n",
       " '18 67\\n',\n",
       " '19 86\\n',\n",
       " '20 114\\n',\n",
       " '21 115\\n',\n",
       " '22 126\\n',\n",
       " '23 190\\n',\n",
       " '24 175\\n',\n",
       " '25 330\\n',\n",
       " '26 296\\n',\n",
       " '27 327\\n',\n",
       " '28 242\\n',\n",
       " '29 333\\n',\n",
       " '30 328\\n',\n",
       " '31 385\\n',\n",
       " '32 400\\n',\n",
       " '33 449\\n',\n",
       " '34 393\\n',\n",
       " '35 385\\n',\n",
       " '36 221\\n',\n",
       " '37 259\\n',\n",
       " '38 232\\n',\n",
       " '39 544\\n',\n",
       " '40 305\\n',\n",
       " '41 392\\n',\n",
       " '42 410\\n',\n",
       " '43 376\\n',\n",
       " '44 241\\n',\n",
       " '45 278\\n',\n",
       " '46 353\\n',\n",
       " '47 326\\n',\n",
       " '48 367\\n',\n",
       " '49 263\\n',\n",
       " '50 324\\n',\n",
       " '51 295\\n',\n",
       " '52 424\\n',\n",
       " '53 384\\n',\n",
       " '54 599\\n',\n",
       " '55 687\\n']"
      ]
     },
     "execution_count": 13,
     "metadata": {},
     "output_type": "execute_result"
    }
   ],
   "source": [
    "#starts on March 9\n",
    "x=open(\"pand\",\"r\")\n",
    "dat=x.readlines()\n",
    "dat\n"
   ]
  },
  {
   "cell_type": "code",
   "execution_count": 14,
   "metadata": {},
   "outputs": [],
   "source": [
    "import numpy as np\n",
    "x=np.zeros(len(dat))\n",
    "y=np.zeros(len(dat))\n",
    "k=0\n",
    "for d in dat:\n",
    "    d=d.split()\n",
    "    x[k]=(float(d[0]))\n",
    "    y[k]=(float(d[1]))\n",
    "    k=k+1\n",
    "    "
   ]
  },
  {
   "cell_type": "code",
   "execution_count": 15,
   "metadata": {},
   "outputs": [
    {
     "data": {
      "text/plain": [
       "array([  5.,   6.,  19.,  10.,  28.,  32.,  34.,  37.,  29.,  67.,  86.,\n",
       "       114., 115., 126., 190., 175., 330., 296., 327., 242., 333., 328.,\n",
       "       385., 400., 449., 393., 385., 221., 259., 232., 544., 305., 392.,\n",
       "       410., 376., 241., 278., 353., 326., 367., 263., 324., 295., 424.,\n",
       "       384., 599., 687.])"
      ]
     },
     "execution_count": 15,
     "metadata": {},
     "output_type": "execute_result"
    }
   ],
   "source": [
    "x\n",
    "y"
   ]
  },
  {
   "cell_type": "code",
   "execution_count": 16,
   "metadata": {},
   "outputs": [],
   "source": [
    "import matplotlib.pyplot as plt\n",
    "%matplotlib inline\n",
    "from scipy.optimize import curve_fit"
   ]
  },
  {
   "cell_type": "code",
   "execution_count": 17,
   "metadata": {},
   "outputs": [
    {
     "data": {
      "text/plain": [
       "[<matplotlib.lines.Line2D at 0x1174af84e0>]"
      ]
     },
     "execution_count": 17,
     "metadata": {},
     "output_type": "execute_result"
    },
    {
     "data": {
      "image/png": "[encoded data removed]",
      "text/plain": [
       "<Figure size 432x288 with 1 Axes>"
      ]
     },
     "metadata": {
      "needs_background": "light"
     },
     "output_type": "display_data"
    }
   ],
   "source": [
    "plt.plot(x,y)"
   ]
  },
  {
   "cell_type": "code",
   "execution_count": 18,
   "metadata": {},
   "outputs": [],
   "source": [
    "def func(x, a, b, c,d,e):\n",
    "    return((((a*x+b)*x+c)*x+d)*x+e)"
   ]
  },
  {
   "cell_type": "code",
   "execution_count": 19,
   "metadata": {},
   "outputs": [],
   "source": [
    "popt, pcov = curve_fit(func, x,y)"
   ]
  },
  {
   "cell_type": "code",
   "execution_count": 20,
   "metadata": {},
   "outputs": [
    {
     "data": {
      "text/plain": [
       "array([ 2.58862713e-03, -3.19739358e-01,  1.33649775e+01, -2.06281644e+02,\n",
       "        1.04277373e+03])"
      ]
     },
     "execution_count": 20,
     "metadata": {},
     "output_type": "execute_result"
    }
   ],
   "source": [
    "popt\n"
   ]
  },
  {
   "cell_type": "code",
   "execution_count": 21,
   "metadata": {},
   "outputs": [
    {
     "data": {
      "text/plain": [
       "347.9375335976765"
      ]
     },
     "execution_count": 21,
     "metadata": {},
     "output_type": "execute_result"
    }
   ],
   "source": [
    "func(39, *popt)\n"
   ]
  },
  {
   "cell_type": "code",
   "execution_count": 22,
   "metadata": {},
   "outputs": [
    {
     "data": {
      "text/plain": [
       "array([ 52.69610225,  22.60195311,   3.16492727,  -6.8810774 ,\n",
       "        -8.74003594,  -3.55379636,   7.59792037,  23.69752037,\n",
       "        43.78953677,  66.98062978,  92.43958663, 119.39732164,\n",
       "       147.14687615, 175.04341856, 202.50424434, 229.00877598,\n",
       "       254.09856303, 277.37728212, 298.51073688, 317.22685804,\n",
       "       333.31570335, 346.62945763, 357.08243273, 364.65106757,\n",
       "       369.37392811, 371.35170737, 370.74722542, 367.78542937,\n",
       "       362.7533934 , 356.00031872, 347.9375336 ])"
      ]
     },
     "execution_count": 22,
     "metadata": {},
     "output_type": "execute_result"
    }
   ],
   "source": [
    "xin=range(9,40)\n",
    "func(xin,*popt)"
   ]
  },
  {
   "cell_type": "code",
   "execution_count": 23,
   "metadata": {},
   "outputs": [
    {
     "data": {
      "text/plain": [
       "[<matplotlib.lines.Line2D at 0x1174b5fef0>]"
      ]
     },
     "execution_count": 23,
     "metadata": {},
     "output_type": "execute_result"
    },
    {
     "data": {
      "image/png": "[encoded data removed]",
      "text/plain": [
       "<Figure size 432x288 with 1 Axes>"
      ]
     },
     "metadata": {
      "needs_background": "light"
     },
     "output_type": "display_data"
    }
   ],
   "source": [
    "plt.plot(range(9,40),func(range(9,40),*popt))"
   ]
  },
  {
   "cell_type": "code",
   "execution_count": 24,
   "metadata": {},
   "outputs": [
    {
     "data": {
      "text/plain": [
       "0.36787944117144233"
      ]
     },
     "execution_count": 24,
     "metadata": {},
     "output_type": "execute_result"
    }
   ],
   "source": [
    "import numpy as np\n",
    "from math import exp\n",
    "\n",
    "def f2(x, a, b):\n",
    "    return a * np.exp(-b * x)\n",
    "f2(1,1,1)"
   ]
  },
  {
   "cell_type": "code",
   "execution_count": 25,
   "metadata": {},
   "outputs": [
    {
     "name": "stderr",
     "output_type": "stream",
     "text": [
      "/opt/intel/intelpython3/lib/python3.6/site-packages/ipykernel_launcher.py:5: RuntimeWarning: overflow encountered in exp\n",
      "  \"\"\"\n"
     ]
    }
   ],
   "source": [
    "popt, pcov = curve_fit(f2,x,y,maxfev=2000)\n"
   ]
  },
  {
   "cell_type": "code",
   "execution_count": 26,
   "metadata": {},
   "outputs": [
    {
     "data": {
      "text/plain": [
       "array([ 8.24478687e+01, -3.32908045e-02])"
      ]
     },
     "execution_count": 26,
     "metadata": {},
     "output_type": "execute_result"
    }
   ],
   "source": [
    "popt\n"
   ]
  },
  {
   "cell_type": "code",
   "execution_count": 27,
   "metadata": {},
   "outputs": [
    {
     "data": {
      "text/plain": [
       "115.01634449895538"
      ]
     },
     "execution_count": 27,
     "metadata": {},
     "output_type": "execute_result"
    }
   ],
   "source": [
    "f2(10,*popt)"
   ]
  },
  {
   "cell_type": "code",
   "execution_count": 28,
   "metadata": {},
   "outputs": [
    {
     "name": "stdout",
     "output_type": "stream",
     "text": [
      "9 111.25039146284426\n",
      "10 115.01634449895538\n",
      "11 118.90977935408493\n",
      "12 122.93501143366265\n",
      "13 127.0965022245295\n",
      "14 131.39886423996052\n",
      "15 135.8468661320824\n",
      "16 140.44543797735238\n",
      "17 145.19967674095633\n",
      "18 150.1148519261833\n",
      "19 155.1964114150377\n",
      "20 160.44998750656285\n",
      "21 165.88140315956883\n",
      "22 171.49667844668357\n",
      "23 177.30203722688134\n",
      "24 183.30391404388354\n",
      "25 189.50896125807844\n",
      "26 195.92405641986477\n",
      "27 202.55630989259095\n",
      "28 209.41307273354002\n",
      "29 216.50194484169464\n",
      "30 223.83078338131318\n",
      "31 231.40771149065395\n",
      "32 239.24112728549915\n",
      "33 247.3397131674588\n",
      "34 255.71244544737124\n",
      "35 264.36860429446665\n",
      "36 273.3177840223215\n",
      "37 282.5699037230041\n",
      "38 292.1352182611977\n",
      "39 302.02432964048825\n",
      "40 312.2481987544132\n",
      "41 322.8181575352967\n",
      "42 333.74592151433745\n",
      "43 345.0436028068693\n",
      "44 356.72372353718805\n",
      "45 368.799229717824\n",
      "46 381.2835055986432\n",
      "47 394.1903885016833\n",
      "48 407.5341841581646\n",
      "49 421.3296825646767\n"
     ]
    }
   ],
   "source": [
    "for xin in range(9,50):\n",
    "    print(xin,f2(xin,*popt))"
   ]
  },
  {
   "cell_type": "code",
   "execution_count": 29,
   "metadata": {},
   "outputs": [],
   "source": [
    "p=np.polyfit(x,y,6)\n",
    "p4=np.polyfit(x,y,4)\n",
    "p2=np.polyfit(x,y,2)\n",
    "p5=np.polyfit(x,y,5)\n",
    "p10=np.polyfit(x,y,10)"
   ]
  },
  {
   "cell_type": "code",
   "execution_count": 30,
   "metadata": {},
   "outputs": [
    {
     "data": {
      "text/plain": [
       "[<matplotlib.lines.Line2D at 0x1174bd9320>,\n",
       " <matplotlib.lines.Line2D at 0x1174bd9470>,\n",
       " <matplotlib.lines.Line2D at 0x1174bd95c0>,\n",
       " <matplotlib.lines.Line2D at 0x1174bd9710>]"
      ]
     },
     "execution_count": 30,
     "metadata": {},
     "output_type": "execute_result"
    },
    {
     "data": {
      "image/png": "[encoded data removed]",
      "text/plain": [
       "<Figure size 432x288 with 1 Axes>"
      ]
     },
     "metadata": {
      "needs_background": "light"
     },
     "output_type": "display_data"
    }
   ],
   "source": [
    "fit6=np.poly1d(p)\n",
    "fit4=np.poly1d(p4)\n",
    "fit2=np.poly1d(p2)\n",
    "fit5=np.poly1d(p5)\n",
    "fit10=np.poly1d(p10)\n",
    "\n",
    "\n",
    "#plt.plot(range(9,46),func(range(9,46),*popt))\n",
    "plt.plot(range(9,44),fit6(range(9,44)),x,y,range(9,44),fit4(range(9,44)),range(9,44),fit5(range(9,44)))"
   ]
  },
  {
   "cell_type": "code",
   "execution_count": 31,
   "metadata": {},
   "outputs": [
    {
     "data": {
      "text/plain": [
       "array([[  9.        ,  52.69610227],\n",
       "       [ 10.        ,  22.60195314],\n",
       "       [ 11.        ,   3.1649273 ],\n",
       "       [ 12.        ,  -6.88107735],\n",
       "       [ 13.        ,  -8.74003587],\n",
       "       [ 14.        ,  -3.55379627],\n",
       "       [ 15.        ,   7.59792049],\n",
       "       [ 16.        ,  23.69752052],\n",
       "       [ 17.        ,  43.78953696],\n",
       "       [ 18.        ,  66.98063002],\n",
       "       [ 19.        ,  92.43958693],\n",
       "       [ 20.        , 119.39732201],\n",
       "       [ 21.        , 147.14687659],\n",
       "       [ 22.        , 175.0434191 ],\n",
       "       [ 23.        , 202.50424498],\n",
       "       [ 24.        , 229.00877673],\n",
       "       [ 25.        , 254.09856392],\n",
       "       [ 26.        , 277.37728315],\n",
       "       [ 27.        , 298.51073809],\n",
       "       [ 28.        , 317.22685943],\n",
       "       [ 29.        , 333.31570495],\n",
       "       [ 30.        , 346.62945945],\n",
       "       [ 31.        , 357.08243481],\n",
       "       [ 32.        , 364.65106993],\n",
       "       [ 33.        , 369.37393078],\n",
       "       [ 34.        , 371.35171038],\n",
       "       [ 35.        , 370.74722879],\n",
       "       [ 36.        , 367.78543314],\n",
       "       [ 37.        , 362.7533976 ],\n",
       "       [ 38.        , 356.00032339],\n",
       "       [ 39.        , 347.93753878]])"
      ]
     },
     "execution_count": 31,
     "metadata": {},
     "output_type": "execute_result"
    }
   ],
   "source": [
    "np.column_stack((range(9,40),fit4(range(9,40))))\n"
   ]
  },
  {
   "cell_type": "code",
   "execution_count": 32,
   "metadata": {
    "scrolled": true
   },
   "outputs": [
    {
     "data": {
      "text/plain": [
       "array([[ 9.00000000e+00,  2.76728683e+01],\n",
       "       [ 1.00000000e+01,  1.07682795e+01],\n",
       "       [ 1.10000000e+01,  1.87803398e+00],\n",
       "       [ 1.20000000e+01, -2.26082813e-01],\n",
       "       [ 1.30000000e+01,  3.37851775e+00],\n",
       "       [ 1.40000000e+01,  1.17477701e+01],\n",
       "       [ 1.50000000e+01,  2.40546813e+01],\n",
       "       [ 1.60000000e+01,  3.95742404e+01],\n",
       "       [ 1.70000000e+01,  5.76695129e+01],\n",
       "       [ 1.80000000e+01,  7.77789174e+01],\n",
       "       [ 1.90000000e+01,  9.94046866e+01],\n",
       "       [ 2.00000000e+01,  1.22102511e+02],\n",
       "       [ 2.10000000e+01,  1.45472368e+02],\n",
       "       [ 2.20000000e+01,  1.69150533e+02],\n",
       "       [ 2.30000000e+01,  1.92802772e+02],\n",
       "       [ 2.40000000e+01,  2.16118724e+02],\n",
       "       [ 2.50000000e+01,  2.38807461e+02],\n",
       "       [ 2.60000000e+01,  2.60594234e+02],\n",
       "       [ 2.70000000e+01,  2.81218402e+02],\n",
       "       [ 2.80000000e+01,  3.00432546e+02],\n",
       "       [ 2.90000000e+01,  3.18002764e+02],\n",
       "       [ 3.00000000e+01,  3.33710150e+02],\n",
       "       [ 3.10000000e+01,  3.47353463e+02],\n",
       "       [ 3.20000000e+01,  3.58752966e+02],\n",
       "       [ 3.30000000e+01,  3.67755464e+02],\n",
       "       [ 3.40000000e+01,  3.74240514e+02],\n",
       "       [ 3.50000000e+01,  3.78127822e+02],\n",
       "       [ 3.60000000e+01,  3.79385829e+02],\n",
       "       [ 3.70000000e+01,  3.78041472e+02],\n",
       "       [ 3.80000000e+01,  3.74191134e+02],\n",
       "       [ 3.90000000e+01,  3.68012776e+02]])"
      ]
     },
     "execution_count": 32,
     "metadata": {},
     "output_type": "execute_result"
    }
   ],
   "source": [
    "np.column_stack((range(9,40),fit6(range(9,40))))"
   ]
  },
  {
   "cell_type": "code",
   "execution_count": 33,
   "metadata": {},
   "outputs": [
    {
     "data": {
      "text/plain": [
       "[<matplotlib.lines.Line2D at 0x1174c464e0>]"
      ]
     },
     "execution_count": 33,
     "metadata": {},
     "output_type": "execute_result"
    },
    {
     "data": {
      "image/png": "[encoded data removed]",
      "text/plain": [
       "<Figure size 432x288 with 1 Axes>"
      ]
     },
     "metadata": {
      "needs_background": "light"
     },
     "output_type": "display_data"
    }
   ],
   "source": [
    "%matplotlib inline\n",
    "import pylab as mp\n",
    "mp.plot(x,y)\n",
    "mp.plot(range(9,44), fit4(range(9,44)))\n",
    "mp.plot(range(9,44), fit6(range(9,44)))\n",
    "\n",
    "\n",
    "\n",
    "\n",
    "\n",
    "\n"
   ]
  },
  {
   "cell_type": "code",
   "execution_count": 34,
   "metadata": {},
   "outputs": [],
   "source": [
    "import datetime\n",
    "start=datetime.date(2020,2,29)\n",
    "thedays=[]\n",
    "for xd in range(9,100):\n",
    "    day=start+datetime.timedelta(days=xd)\n",
    "    thedays.append(day)"
   ]
  },
  {
   "cell_type": "code",
   "execution_count": 35,
   "metadata": {},
   "outputs": [
    {
     "data": {
      "text/plain": [
       "[datetime.date(2020, 3, 9),\n",
       " datetime.date(2020, 3, 10),\n",
       " datetime.date(2020, 3, 11),\n",
       " datetime.date(2020, 3, 12),\n",
       " datetime.date(2020, 3, 13),\n",
       " datetime.date(2020, 3, 14),\n",
       " datetime.date(2020, 3, 15),\n",
       " datetime.date(2020, 3, 16),\n",
       " datetime.date(2020, 3, 17),\n",
       " datetime.date(2020, 3, 18),\n",
       " datetime.date(2020, 3, 19),\n",
       " datetime.date(2020, 3, 20),\n",
       " datetime.date(2020, 3, 21),\n",
       " datetime.date(2020, 3, 22),\n",
       " datetime.date(2020, 3, 23),\n",
       " datetime.date(2020, 3, 24),\n",
       " datetime.date(2020, 3, 25),\n",
       " datetime.date(2020, 3, 26),\n",
       " datetime.date(2020, 3, 27),\n",
       " datetime.date(2020, 3, 28),\n",
       " datetime.date(2020, 3, 29),\n",
       " datetime.date(2020, 3, 30),\n",
       " datetime.date(2020, 3, 31),\n",
       " datetime.date(2020, 4, 1),\n",
       " datetime.date(2020, 4, 2),\n",
       " datetime.date(2020, 4, 3),\n",
       " datetime.date(2020, 4, 4),\n",
       " datetime.date(2020, 4, 5),\n",
       " datetime.date(2020, 4, 6),\n",
       " datetime.date(2020, 4, 7),\n",
       " datetime.date(2020, 4, 8),\n",
       " datetime.date(2020, 4, 9),\n",
       " datetime.date(2020, 4, 10),\n",
       " datetime.date(2020, 4, 11),\n",
       " datetime.date(2020, 4, 12),\n",
       " datetime.date(2020, 4, 13),\n",
       " datetime.date(2020, 4, 14),\n",
       " datetime.date(2020, 4, 15),\n",
       " datetime.date(2020, 4, 16),\n",
       " datetime.date(2020, 4, 17),\n",
       " datetime.date(2020, 4, 18),\n",
       " datetime.date(2020, 4, 19),\n",
       " datetime.date(2020, 4, 20),\n",
       " datetime.date(2020, 4, 21),\n",
       " datetime.date(2020, 4, 22),\n",
       " datetime.date(2020, 4, 23),\n",
       " datetime.date(2020, 4, 24),\n",
       " datetime.date(2020, 4, 25),\n",
       " datetime.date(2020, 4, 26),\n",
       " datetime.date(2020, 4, 27),\n",
       " datetime.date(2020, 4, 28),\n",
       " datetime.date(2020, 4, 29),\n",
       " datetime.date(2020, 4, 30),\n",
       " datetime.date(2020, 5, 1),\n",
       " datetime.date(2020, 5, 2),\n",
       " datetime.date(2020, 5, 3),\n",
       " datetime.date(2020, 5, 4),\n",
       " datetime.date(2020, 5, 5),\n",
       " datetime.date(2020, 5, 6),\n",
       " datetime.date(2020, 5, 7),\n",
       " datetime.date(2020, 5, 8),\n",
       " datetime.date(2020, 5, 9),\n",
       " datetime.date(2020, 5, 10),\n",
       " datetime.date(2020, 5, 11),\n",
       " datetime.date(2020, 5, 12),\n",
       " datetime.date(2020, 5, 13),\n",
       " datetime.date(2020, 5, 14),\n",
       " datetime.date(2020, 5, 15),\n",
       " datetime.date(2020, 5, 16),\n",
       " datetime.date(2020, 5, 17),\n",
       " datetime.date(2020, 5, 18),\n",
       " datetime.date(2020, 5, 19),\n",
       " datetime.date(2020, 5, 20),\n",
       " datetime.date(2020, 5, 21),\n",
       " datetime.date(2020, 5, 22),\n",
       " datetime.date(2020, 5, 23),\n",
       " datetime.date(2020, 5, 24),\n",
       " datetime.date(2020, 5, 25),\n",
       " datetime.date(2020, 5, 26),\n",
       " datetime.date(2020, 5, 27),\n",
       " datetime.date(2020, 5, 28),\n",
       " datetime.date(2020, 5, 29),\n",
       " datetime.date(2020, 5, 30),\n",
       " datetime.date(2020, 5, 31),\n",
       " datetime.date(2020, 6, 1),\n",
       " datetime.date(2020, 6, 2),\n",
       " datetime.date(2020, 6, 3),\n",
       " datetime.date(2020, 6, 4),\n",
       " datetime.date(2020, 6, 5),\n",
       " datetime.date(2020, 6, 6),\n",
       " datetime.date(2020, 6, 7)]"
      ]
     },
     "execution_count": 35,
     "metadata": {},
     "output_type": "execute_result"
    }
   ],
   "source": [
    "thedays"
   ]
  },
  {
   "cell_type": "code",
   "execution_count": 36,
   "metadata": {},
   "outputs": [
    {
     "data": {
      "text/plain": [
       "[<matplotlib.lines.Line2D at 0x1174c67dd8>]"
      ]
     },
     "execution_count": 36,
     "metadata": {},
     "output_type": "execute_result"
    },
    {
     "data": {
      "image/png": "[encoded data removed]",
      "text/plain": [
       "<Figure size 432x288 with 1 Axes>"
      ]
     },
     "metadata": {
      "needs_background": "light"
     },
     "output_type": "display_data"
    }
   ],
   "source": [
    "import pylab as mp\n",
    "mp.plot(thedays[0:len(y)],y)\n",
    "\n"
   ]
  },
  {
   "cell_type": "code",
   "execution_count": 37,
   "metadata": {},
   "outputs": [
    {
     "name": "stdout",
     "output_type": "stream",
     "text": [
      "hello\n"
     ]
    }
   ],
   "source": [
    "print(\"hello\")\n"
   ]
  },
  {
   "cell_type": "code",
   "execution_count": 39,
   "metadata": {},
   "outputs": [
    {
     "data": {
      "text/plain": [
       "[(0, 700)]"
      ]
     },
     "execution_count": 39,
     "metadata": {},
     "output_type": "execute_result"
    },
    {
     "data": {
      "image/png": "[encoded data removed]",
      "text/plain": [
       "<Figure size 792x612 with 1 Axes>"
      ]
     },
     "metadata": {
      "needs_background": "light"
     },
     "output_type": "display_data"
    }
   ],
   "source": [
    "from pylab import figure, show,save\n",
    "import matplotlib.pyplot as plt\n",
    "\n",
    "from matplotlib.dates import MONDAY, SATURDAY,SUNDAY\n",
    "from matplotlib.dates import MonthLocator, WeekdayLocator, DateFormatter\n",
    "sundays   = WeekdayLocator(SUNDAY)\n",
    "fig = figure(figsize=[11,8.5])\n",
    "ax = fig.add_subplot(111)\n",
    "#ax.plot(thedays[0:len(y)],y,\"*\",label=\"Actual\",linewidth=0)\n",
    "dout=70\n",
    "plt.bar(thedays[0:len(y)],y)\n",
    "ax.plot(thedays[0:len(range(9,dout))],fit2(range(9,dout)),label=\"2nd\",linewidth=2)\n",
    "ax.plot(thedays[0:len(range(9,dout))],fit4(range(9,dout)),label=\"4th\",linewidth=2)\n",
    "ax.plot(thedays[0:len(range(9,dout))],fit5(range(9,dout)),label=\"5th\",linewidth=2)\n",
    "\n",
    "ax.plot(thedays[0:len(range(9,dout))],fit6(range(9,dout)),label=\"6th\",linewidth=2)\n",
    "\n",
    "ax.plot(thedays[0:len(range(9,dout))],fit10(range(9,dout)),label=\"10th\",linewidth=2)\n",
    "\n",
    "ax.xaxis.set_major_locator(sundays)\n",
    "ax.set_xlabel('Date')\n",
    "\n",
    "ax.set_title(\"Colorado Covid19 Cases and Models\")\n",
    "\n",
    "\n",
    "ax.set_ylabel('New Cases')\n",
    "ax.legend()\n",
    "fig.autofmt_xdate()\n",
    "fig.legend\n",
    "\n",
    "ax.set(ylim=(0, 700))\n",
    "#help(save)\n",
    "#help(fig)\n"
   ]
  },
  {
   "cell_type": "code",
   "execution_count": 40,
   "metadata": {},
   "outputs": [
    {
     "data": {
      "text/plain": [
       "array([50.18680405 +7.76878794j, 50.18680405 -7.76878794j,\n",
       "       16.71780148+33.76827398j, 16.71780148-33.76827398j,\n",
       "       12.16379488 +0.j        , 11.52438587 +0.j        ])"
      ]
     },
     "execution_count": 40,
     "metadata": {},
     "output_type": "execute_result"
    }
   ],
   "source": [
    "np.roots(fit6)"
   ]
  },
  {
   "cell_type": "code",
   "execution_count": 41,
   "metadata": {},
   "outputs": [
    {
     "data": {
      "text/plain": [
       "array([60.03810592+0.j        , 51.09701558+4.86093077j,\n",
       "       51.09701558-4.86093077j, 38.084584  +9.46276593j,\n",
       "       38.084584  -9.46276593j, -7.17913139+0.j        ,\n",
       "       16.10732195+4.83544892j, 16.10732195-4.83544892j,\n",
       "        9.18279617+1.06655054j,  9.18279617-1.06655054j])"
      ]
     },
     "execution_count": 41,
     "metadata": {},
     "output_type": "execute_result"
    }
   ],
   "source": [
    "np.roots(fit10)\n",
    "\n"
   ]
  },
  {
   "cell_type": "code",
   "execution_count": 42,
   "metadata": {},
   "outputs": [
    {
     "data": {
      "text/plain": [
       "array([102.17080519,  11.0819281 ])"
      ]
     },
     "execution_count": 42,
     "metadata": {},
     "output_type": "execute_result"
    }
   ],
   "source": [
    "np.roots(fit2)"
   ]
  },
  {
   "cell_type": "code",
   "execution_count": null,
   "metadata": {},
   "outputs": [],
   "source": []
  }
 ],
 "metadata": {
  "kernelspec": {
   "display_name": "Python 3",
   "language": "python",
   "name": "python3"
  },
  "language_info": {
   "codemirror_mode": {
    "name": "ipython",
    "version": 3
   },
   "file_extension": ".py",
   "mimetype": "text/x-python",
   "name": "python",
   "nbconvert_exporter": "python",
   "pygments_lexer": "ipython3",
   "version": "3.6.9"
  }
 },
 "nbformat": 4,
 "nbformat_minor": 2
}
