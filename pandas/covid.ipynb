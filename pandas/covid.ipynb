{
 "cells": [
  {
   "cell_type": "code",
   "execution_count": 1,
   "metadata": {},
   "outputs": [
    {
     "name": "stdout",
     "output_type": "stream",
     "text": [
      "hexagon.local\n"
     ]
    }
   ],
   "source": [
    "from socket import gethostname\n",
    "print(gethostname())\n",
    "\n"
   ]
  },
  {
   "cell_type": "code",
   "execution_count": 2,
   "metadata": {},
   "outputs": [
    {
     "data": {
      "text/plain": [
       "[' 9 5\\t\\n',\n",
       " '10 6\\n',\n",
       " '11 19\\n',\n",
       " '12 10\\n',\n",
       " '13 28\\n',\n",
       " '14 32\\n',\n",
       " '15 34\\n',\n",
       " '16 37\\n',\n",
       " '17 29\\n',\n",
       " '18 68\\n',\n",
       " '19 86\\n',\n",
       " '20 114\\n',\n",
       " '21 115\\n',\n",
       " '22 126\\n',\n",
       " '23 189\\n',\n",
       " '24 175\\n',\n",
       " '25 316\\n',\n",
       " '26 296\\n',\n",
       " '27 328\\n',\n",
       " '28 243\\n',\n",
       " '29 332\\n',\n",
       " '30 326\\n',\n",
       " '31 384\\n',\n",
       " '32 395 April 1\\n',\n",
       " '33 450\\n',\n",
       " '34 392\\n',\n",
       " '35 390\\n',\n",
       " '36 220\\n',\n",
       " '37 268\\n',\n",
       " '38 248 April 7\\n',\n",
       " '39 549\\n',\n",
       " '40 365\\n',\n",
       " '41 435\\n',\n",
       " '42 433\\n',\n",
       " '43 381\\n',\n",
       " '44 297\\n',\n",
       " '45 307 April 14\\n',\n",
       " '46 402\\n',\n",
       " '47 349\\n',\n",
       " '48 409\\n',\n",
       " '49 265\\n',\n",
       " '50 326\\n',\n",
       " '51 283\\n',\n",
       " '52 461 April 21\\n',\n",
       " '53 393\\n',\n",
       " '54 958\\n',\n",
       " '55 689\\n',\n",
       " '56 494\\n',\n",
       " '57 414\\n']"
      ]
     },
     "execution_count": 2,
     "metadata": {},
     "output_type": "execute_result"
    }
   ],
   "source": [
    "#starts on March 9\n",
    "x=open(\"pand\",\"r\")\n",
    "dat=x.readlines()\n",
    "dat\n"
   ]
  },
  {
   "cell_type": "code",
   "execution_count": 3,
   "metadata": {},
   "outputs": [],
   "source": [
    "import numpy as np\n",
    "x=np.zeros(len(dat))\n",
    "y=np.zeros(len(dat))\n",
    "k=0\n",
    "for d in dat:\n",
    "    d=d.split()\n",
    "    x[k]=(float(d[0]))\n",
    "    y[k]=(float(d[1]))\n",
    "    k=k+1\n",
    "    "
   ]
  },
  {
   "cell_type": "code",
   "execution_count": 4,
   "metadata": {},
   "outputs": [
    {
     "data": {
      "text/plain": [
       "array([  5.,   6.,  19.,  10.,  28.,  32.,  34.,  37.,  29.,  68.,  86.,\n",
       "       114., 115., 126., 189., 175., 316., 296., 328., 243., 332., 326.,\n",
       "       384., 395., 450., 392., 390., 220., 268., 248., 549., 365., 435.,\n",
       "       433., 381., 297., 307., 402., 349., 409., 265., 326., 283., 461.,\n",
       "       393., 958., 689., 494., 414.])"
      ]
     },
     "execution_count": 4,
     "metadata": {},
     "output_type": "execute_result"
    }
   ],
   "source": [
    "x\n",
    "y"
   ]
  },
  {
   "cell_type": "code",
   "execution_count": 5,
   "metadata": {},
   "outputs": [],
   "source": [
    "import matplotlib.pyplot as plt\n",
    "%matplotlib inline\n",
    "from scipy.optimize import curve_fit"
   ]
  },
  {
   "cell_type": "code",
   "execution_count": 6,
   "metadata": {},
   "outputs": [
    {
     "data": {
      "text/plain": [
       "[<matplotlib.lines.Line2D at 0x11649f9e80>]"
      ]
     },
     "execution_count": 6,
     "metadata": {},
     "output_type": "execute_result"
    },
    {
     "data": {
      "image/png": "[encoded data removed]",
      "text/plain": [
       "<Figure size 432x288 with 1 Axes>"
      ]
     },
     "metadata": {
      "needs_background": "light"
     },
     "output_type": "display_data"
    }
   ],
   "source": [
    "plt.plot(x,y)"
   ]
  },
  {
   "cell_type": "code",
   "execution_count": 7,
   "metadata": {},
   "outputs": [],
   "source": [
    "def func(x, a, b, c,d,e):\n",
    "    return((((a*x+b)*x+c)*x+d)*x+e)"
   ]
  },
  {
   "cell_type": "code",
   "execution_count": 8,
   "metadata": {},
   "outputs": [],
   "source": [
    "popt, pcov = curve_fit(func, x,y)"
   ]
  },
  {
   "cell_type": "code",
   "execution_count": 9,
   "metadata": {},
   "outputs": [
    {
     "data": {
      "text/plain": [
       "array([ 1.46553921e-03, -1.84735102e-01,  7.81414415e+00, -1.15039024e+02,\n",
       "        5.44877428e+02])"
      ]
     },
     "execution_count": 9,
     "metadata": {},
     "output_type": "execute_result"
    }
   ],
   "source": [
    "popt\n"
   ]
  },
  {
   "cell_type": "code",
   "execution_count": 10,
   "metadata": {},
   "outputs": [
    {
     "data": {
      "text/plain": [
       "375.8057247149203"
      ]
     },
     "execution_count": 10,
     "metadata": {},
     "output_type": "execute_result"
    }
   ],
   "source": [
    "func(39, *popt)\n"
   ]
  },
  {
   "cell_type": "code",
   "execution_count": 11,
   "metadata": {},
   "outputs": [
    {
     "data": {
      "text/plain": [
       "array([ 17.41539871,   5.82189005,   0.5341417 ,   0.81305896,\n",
       "         5.95472002,  15.29037604,  28.18645112,  44.04454228,\n",
       "        62.3014195 ,  82.42902569, 103.93447673, 126.36006139,\n",
       "       149.28324142, 172.31665151, 195.10809926, 217.34056525,\n",
       "       238.73220297, 259.03633888, 278.04147235, 295.57127571,\n",
       "       311.48459423, 325.67544612, 338.07302252, 348.64168753,\n",
       "       357.38097818, 364.32560443, 369.5454492 , 373.14556835,\n",
       "       375.26619067, 376.0827179 , 375.80572471])"
      ]
     },
     "execution_count": 11,
     "metadata": {},
     "output_type": "execute_result"
    }
   ],
   "source": [
    "xin=range(9,40)\n",
    "func(xin,*popt)"
   ]
  },
  {
   "cell_type": "code",
   "execution_count": 12,
   "metadata": {},
   "outputs": [
    {
     "data": {
      "text/plain": [
       "[<matplotlib.lines.Line2D at 0x1164aea668>]"
      ]
     },
     "execution_count": 12,
     "metadata": {},
     "output_type": "execute_result"
    },
    {
     "data": {
      "image/png": "[encoded data removed]",
      "text/plain": [
       "<Figure size 432x288 with 1 Axes>"
      ]
     },
     "metadata": {
      "needs_background": "light"
     },
     "output_type": "display_data"
    }
   ],
   "source": [
    "plt.plot(range(9,40),func(range(9,40),*popt))"
   ]
  },
  {
   "cell_type": "code",
   "execution_count": 13,
   "metadata": {},
   "outputs": [
    {
     "data": {
      "text/plain": [
       "0.36787944117144233"
      ]
     },
     "execution_count": 13,
     "metadata": {},
     "output_type": "execute_result"
    }
   ],
   "source": [
    "import numpy as np\n",
    "from math import exp\n",
    "\n",
    "def f2(x, a, b):\n",
    "    return a * np.exp(-b * x)\n",
    "f2(1,1,1)"
   ]
  },
  {
   "cell_type": "code",
   "execution_count": 14,
   "metadata": {},
   "outputs": [
    {
     "name": "stderr",
     "output_type": "stream",
     "text": [
      "/opt/intel/intelpython3/lib/python3.6/site-packages/ipykernel_launcher.py:5: RuntimeWarning: overflow encountered in exp\n",
      "  \"\"\"\n"
     ]
    }
   ],
   "source": [
    "popt, pcov = curve_fit(f2,x,y,maxfev=2000)\n"
   ]
  },
  {
   "cell_type": "code",
   "execution_count": 15,
   "metadata": {},
   "outputs": [
    {
     "data": {
      "text/plain": [
       "array([ 8.30007484e+01, -3.42369611e-02])"
      ]
     },
     "execution_count": 15,
     "metadata": {},
     "output_type": "execute_result"
    }
   ],
   "source": [
    "popt\n"
   ]
  },
  {
   "cell_type": "code",
   "execution_count": 16,
   "metadata": {},
   "outputs": [
    {
     "data": {
      "text/plain": [
       "116.88835356740485"
      ]
     },
     "execution_count": 16,
     "metadata": {},
     "output_type": "execute_result"
    }
   ],
   "source": [
    "f2(10,*popt)"
   ]
  },
  {
   "cell_type": "code",
   "execution_count": 17,
   "metadata": {},
   "outputs": [
    {
     "name": "stdout",
     "output_type": "stream",
     "text": [
      "9 112.95418286215583\n",
      "10 116.88835356740485\n",
      "11 120.95955062038041\n",
      "12 125.17254662028529\n",
      "13 129.53228039496017\n",
      "14 134.0438627905926\n",
      "15 138.71258266308044\n",
      "16 143.54391307807262\n",
      "17 148.5435177269569\n",
      "18 153.71725756631463\n",
      "19 159.07119768862617\n",
      "20 164.61161443228215\n",
      "21 170.3450027392344\n",
      "22 176.27808376891258\n",
      "23 182.417812777332\n",
      "24 188.7713872706288\n",
      "25 195.34625544258157\n",
      "26 202.15012490600967\n",
      "27 209.1909717282844\n",
      "28 216.47704978154547\n",
      "29 224.01690041858308\n",
      "30 231.81936248572936\n",
      "31 239.8935826844965\n",
      "32 248.2490262941088\n",
      "33 256.89548826749797\n",
      "34 265.84310471376983\n",
      "35 275.10236478060324\n",
      "36 284.6841229505098\n",
      "37 294.5996117653701\n",
      "38 304.8604549941636\n",
      "39 315.47868125932627\n",
      "40 326.46673813771275\n",
      "41 337.8375067526915\n",
      "42 349.60431687448045\n",
      "43 361.7809625464221\n",
      "44 374.38171825552104\n",
      "45 387.42135566619663\n",
      "46 400.9151609368687\n",
      "47 414.8789526396766\n",
      "48 429.3291003043388\n",
      "49 444.2825436078903\n"
     ]
    }
   ],
   "source": [
    "for xin in range(9,50):\n",
    "    print(xin,f2(xin,*popt))"
   ]
  },
  {
   "cell_type": "code",
   "execution_count": 18,
   "metadata": {},
   "outputs": [],
   "source": [
    "p=np.polyfit(x,y,6)\n",
    "p4=np.polyfit(x,y,4)\n",
    "p2=np.polyfit(x,y,2)\n",
    "p5=np.polyfit(x,y,5)\n",
    "p10=np.polyfit(x,y,10)"
   ]
  },
  {
   "cell_type": "code",
   "execution_count": 19,
   "metadata": {},
   "outputs": [
    {
     "data": {
      "text/plain": [
       "[<matplotlib.lines.Line2D at 0x1164b6f080>,\n",
       " <matplotlib.lines.Line2D at 0x1164b6f1d0>,\n",
       " <matplotlib.lines.Line2D at 0x1164b6f320>,\n",
       " <matplotlib.lines.Line2D at 0x1164b6f470>]"
      ]
     },
     "execution_count": 19,
     "metadata": {},
     "output_type": "execute_result"
    },
    {
     "data": {
      "image/png": "[encoded data removed]",
      "text/plain": [
       "<Figure size 432x288 with 1 Axes>"
      ]
     },
     "metadata": {
      "needs_background": "light"
     },
     "output_type": "display_data"
    }
   ],
   "source": [
    "fit6=np.poly1d(p)\n",
    "fit4=np.poly1d(p4)\n",
    "fit2=np.poly1d(p2)\n",
    "fit5=np.poly1d(p5)\n",
    "fit10=np.poly1d(p10)\n",
    "\n",
    "\n",
    "#plt.plot(range(9,46),func(range(9,46),*popt))\n",
    "plt.plot(range(9,44),fit6(range(9,44)),x,y,range(9,44),fit4(range(9,44)),range(9,44),fit5(range(9,44)))"
   ]
  },
  {
   "cell_type": "code",
   "execution_count": 20,
   "metadata": {},
   "outputs": [
    {
     "data": {
      "text/plain": [
       "array([[  9.        ,  17.41542051],\n",
       "       [ 10.        ,   5.82190354],\n",
       "       [ 11.        ,   0.53414839],\n",
       "       [ 12.        ,   0.8130602 ],\n",
       "       [ 13.        ,   5.95471703],\n",
       "       [ 14.        ,  15.29036991],\n",
       "       [ 15.        ,  28.18644279],\n",
       "       [ 16.        ,  44.04453258],\n",
       "       [ 17.        ,  62.30140916],\n",
       "       [ 18.        ,  82.42901532],\n",
       "       [ 19.        , 103.93446682],\n",
       "       [ 20.        , 126.36005237],\n",
       "       [ 21.        , 149.28323361],\n",
       "       [ 22.        , 172.31664514],\n",
       "       [ 23.        , 195.1080945 ],\n",
       "       [ 24.        , 217.34056218],\n",
       "       [ 25.        , 238.73220163],\n",
       "       [ 26.        , 259.03633923],\n",
       "       [ 27.        , 278.04147431],\n",
       "       [ 28.        , 295.57127915],\n",
       "       [ 29.        , 311.48459898],\n",
       "       [ 30.        , 325.67545199],\n",
       "       [ 31.        , 338.07302928],\n",
       "       [ 32.        , 348.64169493],\n",
       "       [ 33.        , 357.38098596],\n",
       "       [ 34.        , 364.32561232],\n",
       "       [ 35.        , 369.54545695],\n",
       "       [ 36.        , 373.14557568],\n",
       "       [ 37.        , 375.26619734],\n",
       "       [ 38.        , 376.08272367],\n",
       "       [ 39.        , 375.80572937]])"
      ]
     },
     "execution_count": 20,
     "metadata": {},
     "output_type": "execute_result"
    }
   ],
   "source": [
    "np.column_stack((range(9,40),fit4(range(9,40))))\n"
   ]
  },
  {
   "cell_type": "code",
   "execution_count": 21,
   "metadata": {
    "scrolled": true
   },
   "outputs": [
    {
     "data": {
      "text/plain": [
       "array([[  9.        , -13.35816029],\n",
       "       [ 10.        ,  11.25785708],\n",
       "       [ 11.        ,  23.80877556],\n",
       "       [ 12.        ,  28.94899545],\n",
       "       [ 13.        ,  30.38902794],\n",
       "       [ 14.        ,  30.99995866],\n",
       "       [ 15.        ,  32.91279842],\n",
       "       [ 16.        ,  37.61272097],\n",
       "       [ 17.        ,  46.02818779],\n",
       "       [ 18.        ,  58.61495997],\n",
       "       [ 19.        ,  75.43499721],\n",
       "       [ 20.        ,  96.23024374],\n",
       "       [ 21.        , 120.49130145],\n",
       "       [ 22.        , 147.52099003],\n",
       "       [ 23.        , 176.49279411],\n",
       "       [ 24.        , 206.50419757],\n",
       "       [ 25.        , 236.62490485],\n",
       "       [ 26.        , 265.93994932],\n",
       "       [ 27.        , 293.58768875],\n",
       "       [ 28.        , 318.79268781],\n",
       "       [ 29.        , 340.89348763],\n",
       "       [ 30.        , 359.36526247],\n",
       "       [ 31.        , 373.8373634 ],\n",
       "       [ 32.        , 384.10574906],\n",
       "       [ 33.        , 390.14030349],\n",
       "       [ 34.        , 392.08704104],\n",
       "       [ 35.        , 390.26519828],\n",
       "       [ 36.        , 385.15921307],\n",
       "       [ 37.        , 377.40559059],\n",
       "       [ 38.        , 367.7746565 ],\n",
       "       [ 39.        , 357.14719716]])"
      ]
     },
     "execution_count": 21,
     "metadata": {},
     "output_type": "execute_result"
    }
   ],
   "source": [
    "np.column_stack((range(9,40),fit6(range(9,40))))"
   ]
  },
  {
   "cell_type": "code",
   "execution_count": 22,
   "metadata": {},
   "outputs": [
    {
     "data": {
      "text/plain": [
       "[<matplotlib.lines.Line2D at 0x1164bcd710>]"
      ]
     },
     "execution_count": 22,
     "metadata": {},
     "output_type": "execute_result"
    },
    {
     "data": {
      "image/png": "[encoded data removed]",
      "text/plain": [
       "<Figure size 432x288 with 1 Axes>"
      ]
     },
     "metadata": {
      "needs_background": "light"
     },
     "output_type": "display_data"
    }
   ],
   "source": [
    "%matplotlib inline\n",
    "import pylab as mp\n",
    "mp.plot(x,y)\n",
    "mp.plot(range(9,44), fit4(range(9,44)))\n",
    "mp.plot(range(9,44), fit6(range(9,44)))\n",
    "\n",
    "\n",
    "\n",
    "\n",
    "\n",
    "\n"
   ]
  },
  {
   "cell_type": "code",
   "execution_count": 23,
   "metadata": {},
   "outputs": [],
   "source": [
    "import datetime\n",
    "start=datetime.date(2020,2,29)\n",
    "thedays=[]\n",
    "for xd in range(9,100):\n",
    "    day=start+datetime.timedelta(days=xd)\n",
    "    thedays.append(day)"
   ]
  },
  {
   "cell_type": "code",
   "execution_count": 24,
   "metadata": {},
   "outputs": [
    {
     "data": {
      "text/plain": [
       "[datetime.date(2020, 3, 9),\n",
       " datetime.date(2020, 3, 10),\n",
       " datetime.date(2020, 3, 11),\n",
       " datetime.date(2020, 3, 12),\n",
       " datetime.date(2020, 3, 13),\n",
       " datetime.date(2020, 3, 14),\n",
       " datetime.date(2020, 3, 15),\n",
       " datetime.date(2020, 3, 16),\n",
       " datetime.date(2020, 3, 17),\n",
       " datetime.date(2020, 3, 18),\n",
       " datetime.date(2020, 3, 19),\n",
       " datetime.date(2020, 3, 20),\n",
       " datetime.date(2020, 3, 21),\n",
       " datetime.date(2020, 3, 22),\n",
       " datetime.date(2020, 3, 23),\n",
       " datetime.date(2020, 3, 24),\n",
       " datetime.date(2020, 3, 25),\n",
       " datetime.date(2020, 3, 26),\n",
       " datetime.date(2020, 3, 27),\n",
       " datetime.date(2020, 3, 28),\n",
       " datetime.date(2020, 3, 29),\n",
       " datetime.date(2020, 3, 30),\n",
       " datetime.date(2020, 3, 31),\n",
       " datetime.date(2020, 4, 1),\n",
       " datetime.date(2020, 4, 2),\n",
       " datetime.date(2020, 4, 3),\n",
       " datetime.date(2020, 4, 4),\n",
       " datetime.date(2020, 4, 5),\n",
       " datetime.date(2020, 4, 6),\n",
       " datetime.date(2020, 4, 7),\n",
       " datetime.date(2020, 4, 8),\n",
       " datetime.date(2020, 4, 9),\n",
       " datetime.date(2020, 4, 10),\n",
       " datetime.date(2020, 4, 11),\n",
       " datetime.date(2020, 4, 12),\n",
       " datetime.date(2020, 4, 13),\n",
       " datetime.date(2020, 4, 14),\n",
       " datetime.date(2020, 4, 15),\n",
       " datetime.date(2020, 4, 16),\n",
       " datetime.date(2020, 4, 17),\n",
       " datetime.date(2020, 4, 18),\n",
       " datetime.date(2020, 4, 19),\n",
       " datetime.date(2020, 4, 20),\n",
       " datetime.date(2020, 4, 21),\n",
       " datetime.date(2020, 4, 22),\n",
       " datetime.date(2020, 4, 23),\n",
       " datetime.date(2020, 4, 24),\n",
       " datetime.date(2020, 4, 25),\n",
       " datetime.date(2020, 4, 26),\n",
       " datetime.date(2020, 4, 27),\n",
       " datetime.date(2020, 4, 28),\n",
       " datetime.date(2020, 4, 29),\n",
       " datetime.date(2020, 4, 30),\n",
       " datetime.date(2020, 5, 1),\n",
       " datetime.date(2020, 5, 2),\n",
       " datetime.date(2020, 5, 3),\n",
       " datetime.date(2020, 5, 4),\n",
       " datetime.date(2020, 5, 5),\n",
       " datetime.date(2020, 5, 6),\n",
       " datetime.date(2020, 5, 7),\n",
       " datetime.date(2020, 5, 8),\n",
       " datetime.date(2020, 5, 9),\n",
       " datetime.date(2020, 5, 10),\n",
       " datetime.date(2020, 5, 11),\n",
       " datetime.date(2020, 5, 12),\n",
       " datetime.date(2020, 5, 13),\n",
       " datetime.date(2020, 5, 14),\n",
       " datetime.date(2020, 5, 15),\n",
       " datetime.date(2020, 5, 16),\n",
       " datetime.date(2020, 5, 17),\n",
       " datetime.date(2020, 5, 18),\n",
       " datetime.date(2020, 5, 19),\n",
       " datetime.date(2020, 5, 20),\n",
       " datetime.date(2020, 5, 21),\n",
       " datetime.date(2020, 5, 22),\n",
       " datetime.date(2020, 5, 23),\n",
       " datetime.date(2020, 5, 24),\n",
       " datetime.date(2020, 5, 25),\n",
       " datetime.date(2020, 5, 26),\n",
       " datetime.date(2020, 5, 27),\n",
       " datetime.date(2020, 5, 28),\n",
       " datetime.date(2020, 5, 29),\n",
       " datetime.date(2020, 5, 30),\n",
       " datetime.date(2020, 5, 31),\n",
       " datetime.date(2020, 6, 1),\n",
       " datetime.date(2020, 6, 2),\n",
       " datetime.date(2020, 6, 3),\n",
       " datetime.date(2020, 6, 4),\n",
       " datetime.date(2020, 6, 5),\n",
       " datetime.date(2020, 6, 6),\n",
       " datetime.date(2020, 6, 7)]"
      ]
     },
     "execution_count": 24,
     "metadata": {},
     "output_type": "execute_result"
    }
   ],
   "source": [
    "thedays"
   ]
  },
  {
   "cell_type": "code",
   "execution_count": 25,
   "metadata": {},
   "outputs": [
    {
     "data": {
      "text/plain": [
       "[<matplotlib.lines.Line2D at 0x1164bf4f28>]"
      ]
     },
     "execution_count": 25,
     "metadata": {},
     "output_type": "execute_result"
    },
    {
     "data": {
      "image/png": "[encoded data removed]",
      "text/plain": [
       "<Figure size 432x288 with 1 Axes>"
      ]
     },
     "metadata": {
      "needs_background": "light"
     },
     "output_type": "display_data"
    }
   ],
   "source": [
    "import pylab as mp\n",
    "mp.plot(thedays[0:len(y)],y)\n",
    "\n"
   ]
  },
  {
   "cell_type": "code",
   "execution_count": 26,
   "metadata": {},
   "outputs": [
    {
     "name": "stdout",
     "output_type": "stream",
     "text": [
      "hello\n"
     ]
    }
   ],
   "source": [
    "print(\"hello\")\n"
   ]
  },
  {
   "cell_type": "code",
   "execution_count": 31,
   "metadata": {},
   "outputs": [
    {
     "data": {
      "text/plain": [
       "[(0, 1000)]"
      ]
     },
     "execution_count": 31,
     "metadata": {},
     "output_type": "execute_result"
    },
    {
     "data": {
      "image/png": "[encoded data removed]",
      "text/plain": [
       "<Figure size 792x612 with 1 Axes>"
      ]
     },
     "metadata": {
      "needs_background": "light"
     },
     "output_type": "display_data"
    }
   ],
   "source": [
    "from pylab import figure, show,save\n",
    "import matplotlib.pyplot as plt\n",
    "\n",
    "from matplotlib.dates import MONDAY, SATURDAY,SUNDAY\n",
    "from matplotlib.dates import MonthLocator, WeekdayLocator, DateFormatter\n",
    "sundays   = WeekdayLocator(SUNDAY)\n",
    "fig = figure(figsize=[11,8.5])\n",
    "ax = fig.add_subplot(111)\n",
    "#ax.plot(thedays[0:len(y)],y,\"*\",label=\"Actual\",linewidth=0)\n",
    "dout=70\n",
    "plt.bar(thedays[0:len(y)],y)\n",
    "ax.plot(thedays[0:len(range(9,dout))],fit2(range(9,dout)),label=\"2nd\",linewidth=2)\n",
    "ax.plot(thedays[0:len(range(9,dout))],fit4(range(9,dout)),label=\"4th\",linewidth=2)\n",
    "ax.plot(thedays[0:len(range(9,dout))],fit5(range(9,dout)),label=\"5th\",linewidth=2)\n",
    "\n",
    "ax.plot(thedays[0:len(range(9,dout))],fit6(range(9,dout)),label=\"6th\",linewidth=2)\n",
    "\n",
    "ax.plot(thedays[0:len(range(9,dout))],fit10(range(9,dout)),label=\"10th\",linewidth=2)\n",
    "\n",
    "ax.xaxis.set_major_locator(sundays)\n",
    "ax.set_xlabel('Date')\n",
    "\n",
    "ax.set_title(\"Colorado Covid19 Cases and Models\")\n",
    "\n",
    "\n",
    "ax.set_ylabel('New Cases')\n",
    "ax.legend()\n",
    "fig.autofmt_xdate()\n",
    "fig.legend\n",
    "\n",
    "ax.set(ylim=(0, 1000))\n",
    "#help(save)\n",
    "#help(fig)\n"
   ]
  },
  {
   "cell_type": "code",
   "execution_count": 32,
   "metadata": {},
   "outputs": [
    {
     "data": {
      "text/plain": [
       "array([61.00458931+0.j        , 45.51519633+9.39788632j,\n",
       "       45.51519633-9.39788632j, 15.04224225+4.22625157j,\n",
       "       15.04224225-4.22625157j,  9.46795786+0.j        ])"
      ]
     },
     "execution_count": 32,
     "metadata": {},
     "output_type": "execute_result"
    }
   ],
   "source": [
    "np.roots(fit6)"
   ]
  },
  {
   "cell_type": "code",
   "execution_count": 29,
   "metadata": {},
   "outputs": [
    {
     "data": {
      "text/plain": [
       "array([ 57.55674946+0.j        ,  50.02180359+4.47270335j,\n",
       "        50.02180359-4.47270335j, -21.34811538+0.j        ,\n",
       "        36.44570418+8.80536419j,  36.44570418-8.80536419j,\n",
       "        16.81979098+4.1977693j ,  16.81979098-4.1977693j ,\n",
       "         9.85531996+0.42221108j,   9.85531996-0.42221108j])"
      ]
     },
     "execution_count": 29,
     "metadata": {},
     "output_type": "execute_result"
    }
   ],
   "source": [
    "np.roots(fit10)\n",
    "\n"
   ]
  },
  {
   "cell_type": "code",
   "execution_count": 42,
   "metadata": {},
   "outputs": [
    {
     "data": {
      "text/plain": [
       "array([102.17080519,  11.0819281 ])"
      ]
     },
     "execution_count": 42,
     "metadata": {},
     "output_type": "execute_result"
    }
   ],
   "source": [
    "np.roots(fit2)"
   ]
  },
  {
   "cell_type": "code",
   "execution_count": null,
   "metadata": {},
   "outputs": [],
   "source": []
  }
 ],
 "metadata": {
  "kernelspec": {
   "display_name": "Python 3",
   "language": "python",
   "name": "python3"
  },
  "language_info": {
   "codemirror_mode": {
    "name": "ipython",
    "version": 3
   },
   "file_extension": ".py",
   "mimetype": "text/x-python",
   "name": "python",
   "nbconvert_exporter": "python",
   "pygments_lexer": "ipython3",
   "version": "3.6.9"
  }
 },
 "nbformat": 4,
 "nbformat_minor": 2
}
